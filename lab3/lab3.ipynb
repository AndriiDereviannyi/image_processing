{
  "cells": [
    {
      "cell_type": "code",
      "execution_count": 43,
      "metadata": {
        "id": "MKHpgtkQIRoE"
      },
      "outputs": [],
      "source": [
        "import numpy as np\n",
        "import pandas as pd\n",
        "from tqdm import tqdm\n",
        "import matplotlib.pyplot as plt\n",
        "from matplotlib import offsetbox\n",
        "from PIL import Image\n",
        "from sklearn.metrics import confusion_matrix, classification_report\n",
        "import seaborn as sns\n",
        "\n",
        "import torch\n",
        "import torchvision\n",
        "import torch.nn as nn\n",
        "import torch.optim as optim\n",
        "import torch.nn.functional as F\n",
        "import torchvision.transforms as transforms\n",
        "from torch.autograd import Variable\n",
        "import torch.backends.cudnn as cudnn\n",
        "\n",
        "import time\n",
        "import os\n",
        "import copy\n",
        "import cv2\n",
        "import random"
      ]
    },
    {
      "cell_type": "code",
      "execution_count": 44,
      "metadata": {
        "colab": {
          "base_uri": "https://localhost:8080/"
        },
        "id": "AJgaPG7YIdHI",
        "outputId": "857d1201-3854-4a23-8c2c-8c6ddbc36519"
      },
      "outputs": [
        {
          "output_type": "execute_result",
          "data": {
            "text/plain": [
              "device(type='cuda', index=0)"
            ]
          },
          "metadata": {},
          "execution_count": 44
        }
      ],
      "source": [
        "device = torch.device(\"cuda:0\" if torch.cuda.is_available() else \"cpu\")\n",
        "device"
      ]
    },
    {
      "cell_type": "code",
      "execution_count": 45,
      "metadata": {
        "id": "N0PhW4KpIVUh"
      },
      "outputs": [],
      "source": [
        "def train_model(model, criterion, optimizer, data_loaders, batch_size, num_epochs=30):\n",
        "  start_time = time.time()\n",
        "\n",
        "  train_acc_history = []\n",
        "  val_acc_history = []\n",
        "\n",
        "  best_model_over_epochs = copy.deepcopy(model.state_dict())\n",
        "  best_acc = 0.0\n",
        "\n",
        "  for epoch in range(num_epochs):\n",
        "    print('Epoch {}/{}'.format(epoch, num_epochs - 1))\n",
        "\n",
        "    # Train and validate over each epoch\n",
        "    for phase in ['train', 'val']:\n",
        "      if phase == 'train':\n",
        "        model.train()  # Set model to training mode\n",
        "      else:\n",
        "        model.eval()   # Set model to evaluate mode\n",
        "\n",
        "      batch_loss = 0.0\n",
        "      batch_correct_preds = 0\n",
        "\n",
        "      # Iterate over data\n",
        "      for inputs, labels in tqdm(data_loaders[phase]):\n",
        "        inputs = inputs.to(device)\n",
        "        labels = labels.to(device)\n",
        "\n",
        "        # Zero the parameter gradients\n",
        "        optimizer.zero_grad()\n",
        "\n",
        "        # Forward\n",
        "        # track history if only in train\n",
        "        with torch.set_grad_enabled(phase == 'train'):\n",
        "          # Get model outputs and calculate loss\n",
        "          outputs = model(inputs)\n",
        "          loss = criterion(outputs, labels)\n",
        "\n",
        "          _, preds = torch.max(outputs, 1)\n",
        "          \n",
        "          # Backward + Optimize only in training phase\n",
        "          if phase == 'train':\n",
        "            loss.backward()\n",
        "            optimizer.step()\n",
        "        \n",
        "        batch_loss += loss.item() * inputs.size(0)\n",
        "        batch_correct_preds += torch.sum(preds == labels.data)\n",
        "      \n",
        "      epoch_loss = batch_loss / len(data_loaders[phase].dataset)\n",
        "      epoch_acc = batch_correct_preds.double() / len(data_loaders[phase].dataset)\n",
        "\n",
        "      print('-' * 50)\n",
        "      print('{} Loss: {:.4f}  Acc: {:.4f}\\n\\n'.format(phase, epoch_loss, epoch_acc))\n",
        "\n",
        "      # Deep copy the model\n",
        "      if phase == 'val' and epoch_acc > best_acc:\n",
        "        best_acc = epoch_acc\n",
        "        best_model_over_epochs = copy.deepcopy(model.state_dict())\n",
        "      \n",
        "      if phase == 'val':\n",
        "        val_acc_history.append(epoch_acc)\n",
        "      else:\n",
        "        train_acc_history.append(epoch_acc)\n",
        "\n",
        "  time_elapsed = time.time() - start_time\n",
        "  print('Training complete in {:.0f}m {:.0f}s'.format(time_elapsed // 60,\n",
        "                                                      time_elapsed % 60))\n",
        "  print('Best val Acc: {:4f}'.format(best_acc))\n",
        "\n",
        "  # Load best model weights\n",
        "  model.load_state_dict(best_model_over_epochs)\n",
        "\n",
        "  return model, train_acc_history, val_acc_history"
      ]
    },
    {
      "cell_type": "code",
      "execution_count": 46,
      "metadata": {
        "id": "b3f8Jt0NIiiQ"
      },
      "outputs": [],
      "source": [
        "def visualize_acc_hist(train_acc_history, val_acc_history):\n",
        "  train_hist = [h.cpu().numpy() for h in train_acc_history]\n",
        "  val_hist = [h.cpu().numpy() for h in val_acc_history]\n",
        "\n",
        "  print('Training accuracy', np.around(np.array(train_hist), 3).reshape(len(train_hist),))\n",
        "  print('Validation accuracy', np.around(np.array(val_hist), 3).reshape(len(val_hist),))\n",
        "\n",
        "  plt.figure(figsize=(15, 9))\n",
        "  plt.title(\"Accuracy over Number of Training Epochs\", fontsize=15)\n",
        "  plt.xlabel(\"Training Epochs\", fontsize=14)\n",
        "  plt.ylabel(\"Accuracy\", fontsize=14)\n",
        "\n",
        "  plt.plot(range(1, num_epochs+1), train_hist, label=\"Training\", marker = 'o')\n",
        "  plt.plot(range(1, num_epochs+1), val_hist, label=\"Validation\", marker = 'o')\n",
        "\n",
        "  plt.ylim((0,1.))\n",
        "  plt.xticks(np.arange(1, num_epochs+1, 1.0))\n",
        "  plt.legend(loc='lower left', fontsize=13)\n",
        "  plt.show()"
      ]
    },
    {
      "cell_type": "code",
      "execution_count": 47,
      "metadata": {
        "id": "3Qdxt2uAIjh8"
      },
      "outputs": [],
      "source": [
        "def show_statistics(y_test, y_pred, classNames):\n",
        "  print(\"\\n**** Classification Report ****\")\n",
        "  print(classification_report(y_test, y_pred, target_names=classNames))\n",
        "  \n",
        "def plot_confusion_matrix(y_test, y_pred, classNames):\n",
        "    classes = len(classNames)\n",
        "    cm = confusion_matrix(y_test, y_pred)\n",
        "\n",
        "    con = np.zeros((classes, classes))\n",
        "    for x in range(classes):\n",
        "        for y in range(classes):\n",
        "            con[x,y] = cm[x,y] / np.sum(cm[x,:])\n",
        "\n",
        "    plt.figure(figsize=(15,15))\n",
        "    sns.set(font_scale=1.0)\n",
        "    sns.heatmap(con, annot=True, fmt='.2', cmap='Blues',\n",
        "                xticklabels=classNames, yticklabels=classNames)\n",
        "    plt.show()"
      ]
    },
    {
      "cell_type": "code",
      "execution_count": 48,
      "metadata": {
        "colab": {
          "base_uri": "https://localhost:8080/"
        },
        "id": "O1dbc0VIImPQ",
        "outputId": "2d216b17-b519-4c57-8b71-7f457a68c0e0"
      },
      "outputs": [
        {
          "output_type": "stream",
          "name": "stderr",
          "text": [
            "/usr/local/lib/python3.7/dist-packages/torch/utils/data/dataloader.py:490: UserWarning: This DataLoader will create 4 worker processes in total. Our suggested max number of worker in current system is 2, which is smaller than what this DataLoader is going to create. Please be aware that excessive worker creation might get DataLoader running slow or even freeze, lower the worker number to avoid potential slowness/freeze if necessary.\n",
            "  cpuset_checked))\n"
          ]
        }
      ],
      "source": [
        "batch_size = 32\n",
        "input_size = 224\n",
        "\n",
        "data_transforms = {\n",
        "    'train': transforms.Compose([transforms.Resize(256),\n",
        "                                 transforms.CenterCrop(input_size),\n",
        "                                 transforms.ToTensor(),\n",
        "                                 transforms.Lambda(lambda x: x.repeat(3, 1, 1)),\n",
        "                                 transforms.Normalize(mean=[0.485, 0.456, 0.406],\n",
        "                                                      std=[0.229, 0.224, 0.225])\n",
        "                                ]),\n",
        "    'val': transforms.Compose([transforms.Resize(256),\n",
        "                               transforms.CenterCrop(input_size),\n",
        "                               transforms.ToTensor(),\n",
        "                               transforms.Lambda(lambda x: x.repeat(3, 1, 1)),\n",
        "                               transforms.Normalize(mean=[0.485, 0.456, 0.406],\n",
        "                                                    std=[0.229, 0.224, 0.225])\n",
        "                               ])\n",
        "}\n",
        "\n",
        "train_set = torchvision.datasets.FashionMNIST(\"./data\",\n",
        "                                              download=True,\n",
        "                                              transform=data_transforms['train'])\n",
        "\n",
        "val_set = torchvision.datasets.FashionMNIST(\"./data\",\n",
        "                                            download=True,\n",
        "                                            train=False,\n",
        "                                            transform=data_transforms['val'])\n",
        "\n",
        "train_loader = torch.utils.data.DataLoader(train_set, batch_size=batch_size, shuffle=True, num_workers=4)\n",
        "\n",
        "val_loader = torch.utils.data.DataLoader(val_set, batch_size=batch_size, shuffle=False, num_workers=4)\n",
        "\n",
        "data_loaders = {'train': train_loader,\n",
        "                'val': val_loader}"
      ]
    },
    {
      "cell_type": "code",
      "execution_count": 49,
      "metadata": {
        "id": "nqt0brWCIn98"
      },
      "outputs": [],
      "source": [
        "num_epochs = 20\n",
        "num_classes = len(train_set.classes)\n",
        "feature_extract = True"
      ]
    },
    {
      "cell_type": "code",
      "execution_count": 50,
      "metadata": {
        "colab": {
          "base_uri": "https://localhost:8080/"
        },
        "id": "cq91Af2bI5FF",
        "outputId": "7e3ab77c-9afe-41be-af25-fe3b702c7669"
      },
      "outputs": [
        {
          "output_type": "stream",
          "name": "stderr",
          "text": [
            "Using cache found in /root/.cache/torch/hub/pytorch_vision_v0.10.0\n"
          ]
        },
        {
          "output_type": "execute_result",
          "data": {
            "text/plain": [
              "DenseNet(\n",
              "  (features): Sequential(\n",
              "    (conv0): Conv2d(3, 64, kernel_size=(7, 7), stride=(2, 2), padding=(3, 3), bias=False)\n",
              "    (norm0): BatchNorm2d(64, eps=1e-05, momentum=0.1, affine=True, track_running_stats=True)\n",
              "    (relu0): ReLU(inplace=True)\n",
              "    (pool0): MaxPool2d(kernel_size=3, stride=2, padding=1, dilation=1, ceil_mode=False)\n",
              "    (denseblock1): _DenseBlock(\n",
              "      (denselayer1): _DenseLayer(\n",
              "        (norm1): BatchNorm2d(64, eps=1e-05, momentum=0.1, affine=True, track_running_stats=True)\n",
              "        (relu1): ReLU(inplace=True)\n",
              "        (conv1): Conv2d(64, 128, kernel_size=(1, 1), stride=(1, 1), bias=False)\n",
              "        (norm2): BatchNorm2d(128, eps=1e-05, momentum=0.1, affine=True, track_running_stats=True)\n",
              "        (relu2): ReLU(inplace=True)\n",
              "        (conv2): Conv2d(128, 32, kernel_size=(3, 3), stride=(1, 1), padding=(1, 1), bias=False)\n",
              "      )\n",
              "      (denselayer2): _DenseLayer(\n",
              "        (norm1): BatchNorm2d(96, eps=1e-05, momentum=0.1, affine=True, track_running_stats=True)\n",
              "        (relu1): ReLU(inplace=True)\n",
              "        (conv1): Conv2d(96, 128, kernel_size=(1, 1), stride=(1, 1), bias=False)\n",
              "        (norm2): BatchNorm2d(128, eps=1e-05, momentum=0.1, affine=True, track_running_stats=True)\n",
              "        (relu2): ReLU(inplace=True)\n",
              "        (conv2): Conv2d(128, 32, kernel_size=(3, 3), stride=(1, 1), padding=(1, 1), bias=False)\n",
              "      )\n",
              "      (denselayer3): _DenseLayer(\n",
              "        (norm1): BatchNorm2d(128, eps=1e-05, momentum=0.1, affine=True, track_running_stats=True)\n",
              "        (relu1): ReLU(inplace=True)\n",
              "        (conv1): Conv2d(128, 128, kernel_size=(1, 1), stride=(1, 1), bias=False)\n",
              "        (norm2): BatchNorm2d(128, eps=1e-05, momentum=0.1, affine=True, track_running_stats=True)\n",
              "        (relu2): ReLU(inplace=True)\n",
              "        (conv2): Conv2d(128, 32, kernel_size=(3, 3), stride=(1, 1), padding=(1, 1), bias=False)\n",
              "      )\n",
              "      (denselayer4): _DenseLayer(\n",
              "        (norm1): BatchNorm2d(160, eps=1e-05, momentum=0.1, affine=True, track_running_stats=True)\n",
              "        (relu1): ReLU(inplace=True)\n",
              "        (conv1): Conv2d(160, 128, kernel_size=(1, 1), stride=(1, 1), bias=False)\n",
              "        (norm2): BatchNorm2d(128, eps=1e-05, momentum=0.1, affine=True, track_running_stats=True)\n",
              "        (relu2): ReLU(inplace=True)\n",
              "        (conv2): Conv2d(128, 32, kernel_size=(3, 3), stride=(1, 1), padding=(1, 1), bias=False)\n",
              "      )\n",
              "      (denselayer5): _DenseLayer(\n",
              "        (norm1): BatchNorm2d(192, eps=1e-05, momentum=0.1, affine=True, track_running_stats=True)\n",
              "        (relu1): ReLU(inplace=True)\n",
              "        (conv1): Conv2d(192, 128, kernel_size=(1, 1), stride=(1, 1), bias=False)\n",
              "        (norm2): BatchNorm2d(128, eps=1e-05, momentum=0.1, affine=True, track_running_stats=True)\n",
              "        (relu2): ReLU(inplace=True)\n",
              "        (conv2): Conv2d(128, 32, kernel_size=(3, 3), stride=(1, 1), padding=(1, 1), bias=False)\n",
              "      )\n",
              "      (denselayer6): _DenseLayer(\n",
              "        (norm1): BatchNorm2d(224, eps=1e-05, momentum=0.1, affine=True, track_running_stats=True)\n",
              "        (relu1): ReLU(inplace=True)\n",
              "        (conv1): Conv2d(224, 128, kernel_size=(1, 1), stride=(1, 1), bias=False)\n",
              "        (norm2): BatchNorm2d(128, eps=1e-05, momentum=0.1, affine=True, track_running_stats=True)\n",
              "        (relu2): ReLU(inplace=True)\n",
              "        (conv2): Conv2d(128, 32, kernel_size=(3, 3), stride=(1, 1), padding=(1, 1), bias=False)\n",
              "      )\n",
              "    )\n",
              "    (transition1): _Transition(\n",
              "      (norm): BatchNorm2d(256, eps=1e-05, momentum=0.1, affine=True, track_running_stats=True)\n",
              "      (relu): ReLU(inplace=True)\n",
              "      (conv): Conv2d(256, 128, kernel_size=(1, 1), stride=(1, 1), bias=False)\n",
              "      (pool): AvgPool2d(kernel_size=2, stride=2, padding=0)\n",
              "    )\n",
              "    (denseblock2): _DenseBlock(\n",
              "      (denselayer1): _DenseLayer(\n",
              "        (norm1): BatchNorm2d(128, eps=1e-05, momentum=0.1, affine=True, track_running_stats=True)\n",
              "        (relu1): ReLU(inplace=True)\n",
              "        (conv1): Conv2d(128, 128, kernel_size=(1, 1), stride=(1, 1), bias=False)\n",
              "        (norm2): BatchNorm2d(128, eps=1e-05, momentum=0.1, affine=True, track_running_stats=True)\n",
              "        (relu2): ReLU(inplace=True)\n",
              "        (conv2): Conv2d(128, 32, kernel_size=(3, 3), stride=(1, 1), padding=(1, 1), bias=False)\n",
              "      )\n",
              "      (denselayer2): _DenseLayer(\n",
              "        (norm1): BatchNorm2d(160, eps=1e-05, momentum=0.1, affine=True, track_running_stats=True)\n",
              "        (relu1): ReLU(inplace=True)\n",
              "        (conv1): Conv2d(160, 128, kernel_size=(1, 1), stride=(1, 1), bias=False)\n",
              "        (norm2): BatchNorm2d(128, eps=1e-05, momentum=0.1, affine=True, track_running_stats=True)\n",
              "        (relu2): ReLU(inplace=True)\n",
              "        (conv2): Conv2d(128, 32, kernel_size=(3, 3), stride=(1, 1), padding=(1, 1), bias=False)\n",
              "      )\n",
              "      (denselayer3): _DenseLayer(\n",
              "        (norm1): BatchNorm2d(192, eps=1e-05, momentum=0.1, affine=True, track_running_stats=True)\n",
              "        (relu1): ReLU(inplace=True)\n",
              "        (conv1): Conv2d(192, 128, kernel_size=(1, 1), stride=(1, 1), bias=False)\n",
              "        (norm2): BatchNorm2d(128, eps=1e-05, momentum=0.1, affine=True, track_running_stats=True)\n",
              "        (relu2): ReLU(inplace=True)\n",
              "        (conv2): Conv2d(128, 32, kernel_size=(3, 3), stride=(1, 1), padding=(1, 1), bias=False)\n",
              "      )\n",
              "      (denselayer4): _DenseLayer(\n",
              "        (norm1): BatchNorm2d(224, eps=1e-05, momentum=0.1, affine=True, track_running_stats=True)\n",
              "        (relu1): ReLU(inplace=True)\n",
              "        (conv1): Conv2d(224, 128, kernel_size=(1, 1), stride=(1, 1), bias=False)\n",
              "        (norm2): BatchNorm2d(128, eps=1e-05, momentum=0.1, affine=True, track_running_stats=True)\n",
              "        (relu2): ReLU(inplace=True)\n",
              "        (conv2): Conv2d(128, 32, kernel_size=(3, 3), stride=(1, 1), padding=(1, 1), bias=False)\n",
              "      )\n",
              "      (denselayer5): _DenseLayer(\n",
              "        (norm1): BatchNorm2d(256, eps=1e-05, momentum=0.1, affine=True, track_running_stats=True)\n",
              "        (relu1): ReLU(inplace=True)\n",
              "        (conv1): Conv2d(256, 128, kernel_size=(1, 1), stride=(1, 1), bias=False)\n",
              "        (norm2): BatchNorm2d(128, eps=1e-05, momentum=0.1, affine=True, track_running_stats=True)\n",
              "        (relu2): ReLU(inplace=True)\n",
              "        (conv2): Conv2d(128, 32, kernel_size=(3, 3), stride=(1, 1), padding=(1, 1), bias=False)\n",
              "      )\n",
              "      (denselayer6): _DenseLayer(\n",
              "        (norm1): BatchNorm2d(288, eps=1e-05, momentum=0.1, affine=True, track_running_stats=True)\n",
              "        (relu1): ReLU(inplace=True)\n",
              "        (conv1): Conv2d(288, 128, kernel_size=(1, 1), stride=(1, 1), bias=False)\n",
              "        (norm2): BatchNorm2d(128, eps=1e-05, momentum=0.1, affine=True, track_running_stats=True)\n",
              "        (relu2): ReLU(inplace=True)\n",
              "        (conv2): Conv2d(128, 32, kernel_size=(3, 3), stride=(1, 1), padding=(1, 1), bias=False)\n",
              "      )\n",
              "      (denselayer7): _DenseLayer(\n",
              "        (norm1): BatchNorm2d(320, eps=1e-05, momentum=0.1, affine=True, track_running_stats=True)\n",
              "        (relu1): ReLU(inplace=True)\n",
              "        (conv1): Conv2d(320, 128, kernel_size=(1, 1), stride=(1, 1), bias=False)\n",
              "        (norm2): BatchNorm2d(128, eps=1e-05, momentum=0.1, affine=True, track_running_stats=True)\n",
              "        (relu2): ReLU(inplace=True)\n",
              "        (conv2): Conv2d(128, 32, kernel_size=(3, 3), stride=(1, 1), padding=(1, 1), bias=False)\n",
              "      )\n",
              "      (denselayer8): _DenseLayer(\n",
              "        (norm1): BatchNorm2d(352, eps=1e-05, momentum=0.1, affine=True, track_running_stats=True)\n",
              "        (relu1): ReLU(inplace=True)\n",
              "        (conv1): Conv2d(352, 128, kernel_size=(1, 1), stride=(1, 1), bias=False)\n",
              "        (norm2): BatchNorm2d(128, eps=1e-05, momentum=0.1, affine=True, track_running_stats=True)\n",
              "        (relu2): ReLU(inplace=True)\n",
              "        (conv2): Conv2d(128, 32, kernel_size=(3, 3), stride=(1, 1), padding=(1, 1), bias=False)\n",
              "      )\n",
              "      (denselayer9): _DenseLayer(\n",
              "        (norm1): BatchNorm2d(384, eps=1e-05, momentum=0.1, affine=True, track_running_stats=True)\n",
              "        (relu1): ReLU(inplace=True)\n",
              "        (conv1): Conv2d(384, 128, kernel_size=(1, 1), stride=(1, 1), bias=False)\n",
              "        (norm2): BatchNorm2d(128, eps=1e-05, momentum=0.1, affine=True, track_running_stats=True)\n",
              "        (relu2): ReLU(inplace=True)\n",
              "        (conv2): Conv2d(128, 32, kernel_size=(3, 3), stride=(1, 1), padding=(1, 1), bias=False)\n",
              "      )\n",
              "      (denselayer10): _DenseLayer(\n",
              "        (norm1): BatchNorm2d(416, eps=1e-05, momentum=0.1, affine=True, track_running_stats=True)\n",
              "        (relu1): ReLU(inplace=True)\n",
              "        (conv1): Conv2d(416, 128, kernel_size=(1, 1), stride=(1, 1), bias=False)\n",
              "        (norm2): BatchNorm2d(128, eps=1e-05, momentum=0.1, affine=True, track_running_stats=True)\n",
              "        (relu2): ReLU(inplace=True)\n",
              "        (conv2): Conv2d(128, 32, kernel_size=(3, 3), stride=(1, 1), padding=(1, 1), bias=False)\n",
              "      )\n",
              "      (denselayer11): _DenseLayer(\n",
              "        (norm1): BatchNorm2d(448, eps=1e-05, momentum=0.1, affine=True, track_running_stats=True)\n",
              "        (relu1): ReLU(inplace=True)\n",
              "        (conv1): Conv2d(448, 128, kernel_size=(1, 1), stride=(1, 1), bias=False)\n",
              "        (norm2): BatchNorm2d(128, eps=1e-05, momentum=0.1, affine=True, track_running_stats=True)\n",
              "        (relu2): ReLU(inplace=True)\n",
              "        (conv2): Conv2d(128, 32, kernel_size=(3, 3), stride=(1, 1), padding=(1, 1), bias=False)\n",
              "      )\n",
              "      (denselayer12): _DenseLayer(\n",
              "        (norm1): BatchNorm2d(480, eps=1e-05, momentum=0.1, affine=True, track_running_stats=True)\n",
              "        (relu1): ReLU(inplace=True)\n",
              "        (conv1): Conv2d(480, 128, kernel_size=(1, 1), stride=(1, 1), bias=False)\n",
              "        (norm2): BatchNorm2d(128, eps=1e-05, momentum=0.1, affine=True, track_running_stats=True)\n",
              "        (relu2): ReLU(inplace=True)\n",
              "        (conv2): Conv2d(128, 32, kernel_size=(3, 3), stride=(1, 1), padding=(1, 1), bias=False)\n",
              "      )\n",
              "    )\n",
              "    (transition2): _Transition(\n",
              "      (norm): BatchNorm2d(512, eps=1e-05, momentum=0.1, affine=True, track_running_stats=True)\n",
              "      (relu): ReLU(inplace=True)\n",
              "      (conv): Conv2d(512, 256, kernel_size=(1, 1), stride=(1, 1), bias=False)\n",
              "      (pool): AvgPool2d(kernel_size=2, stride=2, padding=0)\n",
              "    )\n",
              "    (denseblock3): _DenseBlock(\n",
              "      (denselayer1): _DenseLayer(\n",
              "        (norm1): BatchNorm2d(256, eps=1e-05, momentum=0.1, affine=True, track_running_stats=True)\n",
              "        (relu1): ReLU(inplace=True)\n",
              "        (conv1): Conv2d(256, 128, kernel_size=(1, 1), stride=(1, 1), bias=False)\n",
              "        (norm2): BatchNorm2d(128, eps=1e-05, momentum=0.1, affine=True, track_running_stats=True)\n",
              "        (relu2): ReLU(inplace=True)\n",
              "        (conv2): Conv2d(128, 32, kernel_size=(3, 3), stride=(1, 1), padding=(1, 1), bias=False)\n",
              "      )\n",
              "      (denselayer2): _DenseLayer(\n",
              "        (norm1): BatchNorm2d(288, eps=1e-05, momentum=0.1, affine=True, track_running_stats=True)\n",
              "        (relu1): ReLU(inplace=True)\n",
              "        (conv1): Conv2d(288, 128, kernel_size=(1, 1), stride=(1, 1), bias=False)\n",
              "        (norm2): BatchNorm2d(128, eps=1e-05, momentum=0.1, affine=True, track_running_stats=True)\n",
              "        (relu2): ReLU(inplace=True)\n",
              "        (conv2): Conv2d(128, 32, kernel_size=(3, 3), stride=(1, 1), padding=(1, 1), bias=False)\n",
              "      )\n",
              "      (denselayer3): _DenseLayer(\n",
              "        (norm1): BatchNorm2d(320, eps=1e-05, momentum=0.1, affine=True, track_running_stats=True)\n",
              "        (relu1): ReLU(inplace=True)\n",
              "        (conv1): Conv2d(320, 128, kernel_size=(1, 1), stride=(1, 1), bias=False)\n",
              "        (norm2): BatchNorm2d(128, eps=1e-05, momentum=0.1, affine=True, track_running_stats=True)\n",
              "        (relu2): ReLU(inplace=True)\n",
              "        (conv2): Conv2d(128, 32, kernel_size=(3, 3), stride=(1, 1), padding=(1, 1), bias=False)\n",
              "      )\n",
              "      (denselayer4): _DenseLayer(\n",
              "        (norm1): BatchNorm2d(352, eps=1e-05, momentum=0.1, affine=True, track_running_stats=True)\n",
              "        (relu1): ReLU(inplace=True)\n",
              "        (conv1): Conv2d(352, 128, kernel_size=(1, 1), stride=(1, 1), bias=False)\n",
              "        (norm2): BatchNorm2d(128, eps=1e-05, momentum=0.1, affine=True, track_running_stats=True)\n",
              "        (relu2): ReLU(inplace=True)\n",
              "        (conv2): Conv2d(128, 32, kernel_size=(3, 3), stride=(1, 1), padding=(1, 1), bias=False)\n",
              "      )\n",
              "      (denselayer5): _DenseLayer(\n",
              "        (norm1): BatchNorm2d(384, eps=1e-05, momentum=0.1, affine=True, track_running_stats=True)\n",
              "        (relu1): ReLU(inplace=True)\n",
              "        (conv1): Conv2d(384, 128, kernel_size=(1, 1), stride=(1, 1), bias=False)\n",
              "        (norm2): BatchNorm2d(128, eps=1e-05, momentum=0.1, affine=True, track_running_stats=True)\n",
              "        (relu2): ReLU(inplace=True)\n",
              "        (conv2): Conv2d(128, 32, kernel_size=(3, 3), stride=(1, 1), padding=(1, 1), bias=False)\n",
              "      )\n",
              "      (denselayer6): _DenseLayer(\n",
              "        (norm1): BatchNorm2d(416, eps=1e-05, momentum=0.1, affine=True, track_running_stats=True)\n",
              "        (relu1): ReLU(inplace=True)\n",
              "        (conv1): Conv2d(416, 128, kernel_size=(1, 1), stride=(1, 1), bias=False)\n",
              "        (norm2): BatchNorm2d(128, eps=1e-05, momentum=0.1, affine=True, track_running_stats=True)\n",
              "        (relu2): ReLU(inplace=True)\n",
              "        (conv2): Conv2d(128, 32, kernel_size=(3, 3), stride=(1, 1), padding=(1, 1), bias=False)\n",
              "      )\n",
              "      (denselayer7): _DenseLayer(\n",
              "        (norm1): BatchNorm2d(448, eps=1e-05, momentum=0.1, affine=True, track_running_stats=True)\n",
              "        (relu1): ReLU(inplace=True)\n",
              "        (conv1): Conv2d(448, 128, kernel_size=(1, 1), stride=(1, 1), bias=False)\n",
              "        (norm2): BatchNorm2d(128, eps=1e-05, momentum=0.1, affine=True, track_running_stats=True)\n",
              "        (relu2): ReLU(inplace=True)\n",
              "        (conv2): Conv2d(128, 32, kernel_size=(3, 3), stride=(1, 1), padding=(1, 1), bias=False)\n",
              "      )\n",
              "      (denselayer8): _DenseLayer(\n",
              "        (norm1): BatchNorm2d(480, eps=1e-05, momentum=0.1, affine=True, track_running_stats=True)\n",
              "        (relu1): ReLU(inplace=True)\n",
              "        (conv1): Conv2d(480, 128, kernel_size=(1, 1), stride=(1, 1), bias=False)\n",
              "        (norm2): BatchNorm2d(128, eps=1e-05, momentum=0.1, affine=True, track_running_stats=True)\n",
              "        (relu2): ReLU(inplace=True)\n",
              "        (conv2): Conv2d(128, 32, kernel_size=(3, 3), stride=(1, 1), padding=(1, 1), bias=False)\n",
              "      )\n",
              "      (denselayer9): _DenseLayer(\n",
              "        (norm1): BatchNorm2d(512, eps=1e-05, momentum=0.1, affine=True, track_running_stats=True)\n",
              "        (relu1): ReLU(inplace=True)\n",
              "        (conv1): Conv2d(512, 128, kernel_size=(1, 1), stride=(1, 1), bias=False)\n",
              "        (norm2): BatchNorm2d(128, eps=1e-05, momentum=0.1, affine=True, track_running_stats=True)\n",
              "        (relu2): ReLU(inplace=True)\n",
              "        (conv2): Conv2d(128, 32, kernel_size=(3, 3), stride=(1, 1), padding=(1, 1), bias=False)\n",
              "      )\n",
              "      (denselayer10): _DenseLayer(\n",
              "        (norm1): BatchNorm2d(544, eps=1e-05, momentum=0.1, affine=True, track_running_stats=True)\n",
              "        (relu1): ReLU(inplace=True)\n",
              "        (conv1): Conv2d(544, 128, kernel_size=(1, 1), stride=(1, 1), bias=False)\n",
              "        (norm2): BatchNorm2d(128, eps=1e-05, momentum=0.1, affine=True, track_running_stats=True)\n",
              "        (relu2): ReLU(inplace=True)\n",
              "        (conv2): Conv2d(128, 32, kernel_size=(3, 3), stride=(1, 1), padding=(1, 1), bias=False)\n",
              "      )\n",
              "      (denselayer11): _DenseLayer(\n",
              "        (norm1): BatchNorm2d(576, eps=1e-05, momentum=0.1, affine=True, track_running_stats=True)\n",
              "        (relu1): ReLU(inplace=True)\n",
              "        (conv1): Conv2d(576, 128, kernel_size=(1, 1), stride=(1, 1), bias=False)\n",
              "        (norm2): BatchNorm2d(128, eps=1e-05, momentum=0.1, affine=True, track_running_stats=True)\n",
              "        (relu2): ReLU(inplace=True)\n",
              "        (conv2): Conv2d(128, 32, kernel_size=(3, 3), stride=(1, 1), padding=(1, 1), bias=False)\n",
              "      )\n",
              "      (denselayer12): _DenseLayer(\n",
              "        (norm1): BatchNorm2d(608, eps=1e-05, momentum=0.1, affine=True, track_running_stats=True)\n",
              "        (relu1): ReLU(inplace=True)\n",
              "        (conv1): Conv2d(608, 128, kernel_size=(1, 1), stride=(1, 1), bias=False)\n",
              "        (norm2): BatchNorm2d(128, eps=1e-05, momentum=0.1, affine=True, track_running_stats=True)\n",
              "        (relu2): ReLU(inplace=True)\n",
              "        (conv2): Conv2d(128, 32, kernel_size=(3, 3), stride=(1, 1), padding=(1, 1), bias=False)\n",
              "      )\n",
              "      (denselayer13): _DenseLayer(\n",
              "        (norm1): BatchNorm2d(640, eps=1e-05, momentum=0.1, affine=True, track_running_stats=True)\n",
              "        (relu1): ReLU(inplace=True)\n",
              "        (conv1): Conv2d(640, 128, kernel_size=(1, 1), stride=(1, 1), bias=False)\n",
              "        (norm2): BatchNorm2d(128, eps=1e-05, momentum=0.1, affine=True, track_running_stats=True)\n",
              "        (relu2): ReLU(inplace=True)\n",
              "        (conv2): Conv2d(128, 32, kernel_size=(3, 3), stride=(1, 1), padding=(1, 1), bias=False)\n",
              "      )\n",
              "      (denselayer14): _DenseLayer(\n",
              "        (norm1): BatchNorm2d(672, eps=1e-05, momentum=0.1, affine=True, track_running_stats=True)\n",
              "        (relu1): ReLU(inplace=True)\n",
              "        (conv1): Conv2d(672, 128, kernel_size=(1, 1), stride=(1, 1), bias=False)\n",
              "        (norm2): BatchNorm2d(128, eps=1e-05, momentum=0.1, affine=True, track_running_stats=True)\n",
              "        (relu2): ReLU(inplace=True)\n",
              "        (conv2): Conv2d(128, 32, kernel_size=(3, 3), stride=(1, 1), padding=(1, 1), bias=False)\n",
              "      )\n",
              "      (denselayer15): _DenseLayer(\n",
              "        (norm1): BatchNorm2d(704, eps=1e-05, momentum=0.1, affine=True, track_running_stats=True)\n",
              "        (relu1): ReLU(inplace=True)\n",
              "        (conv1): Conv2d(704, 128, kernel_size=(1, 1), stride=(1, 1), bias=False)\n",
              "        (norm2): BatchNorm2d(128, eps=1e-05, momentum=0.1, affine=True, track_running_stats=True)\n",
              "        (relu2): ReLU(inplace=True)\n",
              "        (conv2): Conv2d(128, 32, kernel_size=(3, 3), stride=(1, 1), padding=(1, 1), bias=False)\n",
              "      )\n",
              "      (denselayer16): _DenseLayer(\n",
              "        (norm1): BatchNorm2d(736, eps=1e-05, momentum=0.1, affine=True, track_running_stats=True)\n",
              "        (relu1): ReLU(inplace=True)\n",
              "        (conv1): Conv2d(736, 128, kernel_size=(1, 1), stride=(1, 1), bias=False)\n",
              "        (norm2): BatchNorm2d(128, eps=1e-05, momentum=0.1, affine=True, track_running_stats=True)\n",
              "        (relu2): ReLU(inplace=True)\n",
              "        (conv2): Conv2d(128, 32, kernel_size=(3, 3), stride=(1, 1), padding=(1, 1), bias=False)\n",
              "      )\n",
              "      (denselayer17): _DenseLayer(\n",
              "        (norm1): BatchNorm2d(768, eps=1e-05, momentum=0.1, affine=True, track_running_stats=True)\n",
              "        (relu1): ReLU(inplace=True)\n",
              "        (conv1): Conv2d(768, 128, kernel_size=(1, 1), stride=(1, 1), bias=False)\n",
              "        (norm2): BatchNorm2d(128, eps=1e-05, momentum=0.1, affine=True, track_running_stats=True)\n",
              "        (relu2): ReLU(inplace=True)\n",
              "        (conv2): Conv2d(128, 32, kernel_size=(3, 3), stride=(1, 1), padding=(1, 1), bias=False)\n",
              "      )\n",
              "      (denselayer18): _DenseLayer(\n",
              "        (norm1): BatchNorm2d(800, eps=1e-05, momentum=0.1, affine=True, track_running_stats=True)\n",
              "        (relu1): ReLU(inplace=True)\n",
              "        (conv1): Conv2d(800, 128, kernel_size=(1, 1), stride=(1, 1), bias=False)\n",
              "        (norm2): BatchNorm2d(128, eps=1e-05, momentum=0.1, affine=True, track_running_stats=True)\n",
              "        (relu2): ReLU(inplace=True)\n",
              "        (conv2): Conv2d(128, 32, kernel_size=(3, 3), stride=(1, 1), padding=(1, 1), bias=False)\n",
              "      )\n",
              "      (denselayer19): _DenseLayer(\n",
              "        (norm1): BatchNorm2d(832, eps=1e-05, momentum=0.1, affine=True, track_running_stats=True)\n",
              "        (relu1): ReLU(inplace=True)\n",
              "        (conv1): Conv2d(832, 128, kernel_size=(1, 1), stride=(1, 1), bias=False)\n",
              "        (norm2): BatchNorm2d(128, eps=1e-05, momentum=0.1, affine=True, track_running_stats=True)\n",
              "        (relu2): ReLU(inplace=True)\n",
              "        (conv2): Conv2d(128, 32, kernel_size=(3, 3), stride=(1, 1), padding=(1, 1), bias=False)\n",
              "      )\n",
              "      (denselayer20): _DenseLayer(\n",
              "        (norm1): BatchNorm2d(864, eps=1e-05, momentum=0.1, affine=True, track_running_stats=True)\n",
              "        (relu1): ReLU(inplace=True)\n",
              "        (conv1): Conv2d(864, 128, kernel_size=(1, 1), stride=(1, 1), bias=False)\n",
              "        (norm2): BatchNorm2d(128, eps=1e-05, momentum=0.1, affine=True, track_running_stats=True)\n",
              "        (relu2): ReLU(inplace=True)\n",
              "        (conv2): Conv2d(128, 32, kernel_size=(3, 3), stride=(1, 1), padding=(1, 1), bias=False)\n",
              "      )\n",
              "      (denselayer21): _DenseLayer(\n",
              "        (norm1): BatchNorm2d(896, eps=1e-05, momentum=0.1, affine=True, track_running_stats=True)\n",
              "        (relu1): ReLU(inplace=True)\n",
              "        (conv1): Conv2d(896, 128, kernel_size=(1, 1), stride=(1, 1), bias=False)\n",
              "        (norm2): BatchNorm2d(128, eps=1e-05, momentum=0.1, affine=True, track_running_stats=True)\n",
              "        (relu2): ReLU(inplace=True)\n",
              "        (conv2): Conv2d(128, 32, kernel_size=(3, 3), stride=(1, 1), padding=(1, 1), bias=False)\n",
              "      )\n",
              "      (denselayer22): _DenseLayer(\n",
              "        (norm1): BatchNorm2d(928, eps=1e-05, momentum=0.1, affine=True, track_running_stats=True)\n",
              "        (relu1): ReLU(inplace=True)\n",
              "        (conv1): Conv2d(928, 128, kernel_size=(1, 1), stride=(1, 1), bias=False)\n",
              "        (norm2): BatchNorm2d(128, eps=1e-05, momentum=0.1, affine=True, track_running_stats=True)\n",
              "        (relu2): ReLU(inplace=True)\n",
              "        (conv2): Conv2d(128, 32, kernel_size=(3, 3), stride=(1, 1), padding=(1, 1), bias=False)\n",
              "      )\n",
              "      (denselayer23): _DenseLayer(\n",
              "        (norm1): BatchNorm2d(960, eps=1e-05, momentum=0.1, affine=True, track_running_stats=True)\n",
              "        (relu1): ReLU(inplace=True)\n",
              "        (conv1): Conv2d(960, 128, kernel_size=(1, 1), stride=(1, 1), bias=False)\n",
              "        (norm2): BatchNorm2d(128, eps=1e-05, momentum=0.1, affine=True, track_running_stats=True)\n",
              "        (relu2): ReLU(inplace=True)\n",
              "        (conv2): Conv2d(128, 32, kernel_size=(3, 3), stride=(1, 1), padding=(1, 1), bias=False)\n",
              "      )\n",
              "      (denselayer24): _DenseLayer(\n",
              "        (norm1): BatchNorm2d(992, eps=1e-05, momentum=0.1, affine=True, track_running_stats=True)\n",
              "        (relu1): ReLU(inplace=True)\n",
              "        (conv1): Conv2d(992, 128, kernel_size=(1, 1), stride=(1, 1), bias=False)\n",
              "        (norm2): BatchNorm2d(128, eps=1e-05, momentum=0.1, affine=True, track_running_stats=True)\n",
              "        (relu2): ReLU(inplace=True)\n",
              "        (conv2): Conv2d(128, 32, kernel_size=(3, 3), stride=(1, 1), padding=(1, 1), bias=False)\n",
              "      )\n",
              "    )\n",
              "    (transition3): _Transition(\n",
              "      (norm): BatchNorm2d(1024, eps=1e-05, momentum=0.1, affine=True, track_running_stats=True)\n",
              "      (relu): ReLU(inplace=True)\n",
              "      (conv): Conv2d(1024, 512, kernel_size=(1, 1), stride=(1, 1), bias=False)\n",
              "      (pool): AvgPool2d(kernel_size=2, stride=2, padding=0)\n",
              "    )\n",
              "    (denseblock4): _DenseBlock(\n",
              "      (denselayer1): _DenseLayer(\n",
              "        (norm1): BatchNorm2d(512, eps=1e-05, momentum=0.1, affine=True, track_running_stats=True)\n",
              "        (relu1): ReLU(inplace=True)\n",
              "        (conv1): Conv2d(512, 128, kernel_size=(1, 1), stride=(1, 1), bias=False)\n",
              "        (norm2): BatchNorm2d(128, eps=1e-05, momentum=0.1, affine=True, track_running_stats=True)\n",
              "        (relu2): ReLU(inplace=True)\n",
              "        (conv2): Conv2d(128, 32, kernel_size=(3, 3), stride=(1, 1), padding=(1, 1), bias=False)\n",
              "      )\n",
              "      (denselayer2): _DenseLayer(\n",
              "        (norm1): BatchNorm2d(544, eps=1e-05, momentum=0.1, affine=True, track_running_stats=True)\n",
              "        (relu1): ReLU(inplace=True)\n",
              "        (conv1): Conv2d(544, 128, kernel_size=(1, 1), stride=(1, 1), bias=False)\n",
              "        (norm2): BatchNorm2d(128, eps=1e-05, momentum=0.1, affine=True, track_running_stats=True)\n",
              "        (relu2): ReLU(inplace=True)\n",
              "        (conv2): Conv2d(128, 32, kernel_size=(3, 3), stride=(1, 1), padding=(1, 1), bias=False)\n",
              "      )\n",
              "      (denselayer3): _DenseLayer(\n",
              "        (norm1): BatchNorm2d(576, eps=1e-05, momentum=0.1, affine=True, track_running_stats=True)\n",
              "        (relu1): ReLU(inplace=True)\n",
              "        (conv1): Conv2d(576, 128, kernel_size=(1, 1), stride=(1, 1), bias=False)\n",
              "        (norm2): BatchNorm2d(128, eps=1e-05, momentum=0.1, affine=True, track_running_stats=True)\n",
              "        (relu2): ReLU(inplace=True)\n",
              "        (conv2): Conv2d(128, 32, kernel_size=(3, 3), stride=(1, 1), padding=(1, 1), bias=False)\n",
              "      )\n",
              "      (denselayer4): _DenseLayer(\n",
              "        (norm1): BatchNorm2d(608, eps=1e-05, momentum=0.1, affine=True, track_running_stats=True)\n",
              "        (relu1): ReLU(inplace=True)\n",
              "        (conv1): Conv2d(608, 128, kernel_size=(1, 1), stride=(1, 1), bias=False)\n",
              "        (norm2): BatchNorm2d(128, eps=1e-05, momentum=0.1, affine=True, track_running_stats=True)\n",
              "        (relu2): ReLU(inplace=True)\n",
              "        (conv2): Conv2d(128, 32, kernel_size=(3, 3), stride=(1, 1), padding=(1, 1), bias=False)\n",
              "      )\n",
              "      (denselayer5): _DenseLayer(\n",
              "        (norm1): BatchNorm2d(640, eps=1e-05, momentum=0.1, affine=True, track_running_stats=True)\n",
              "        (relu1): ReLU(inplace=True)\n",
              "        (conv1): Conv2d(640, 128, kernel_size=(1, 1), stride=(1, 1), bias=False)\n",
              "        (norm2): BatchNorm2d(128, eps=1e-05, momentum=0.1, affine=True, track_running_stats=True)\n",
              "        (relu2): ReLU(inplace=True)\n",
              "        (conv2): Conv2d(128, 32, kernel_size=(3, 3), stride=(1, 1), padding=(1, 1), bias=False)\n",
              "      )\n",
              "      (denselayer6): _DenseLayer(\n",
              "        (norm1): BatchNorm2d(672, eps=1e-05, momentum=0.1, affine=True, track_running_stats=True)\n",
              "        (relu1): ReLU(inplace=True)\n",
              "        (conv1): Conv2d(672, 128, kernel_size=(1, 1), stride=(1, 1), bias=False)\n",
              "        (norm2): BatchNorm2d(128, eps=1e-05, momentum=0.1, affine=True, track_running_stats=True)\n",
              "        (relu2): ReLU(inplace=True)\n",
              "        (conv2): Conv2d(128, 32, kernel_size=(3, 3), stride=(1, 1), padding=(1, 1), bias=False)\n",
              "      )\n",
              "      (denselayer7): _DenseLayer(\n",
              "        (norm1): BatchNorm2d(704, eps=1e-05, momentum=0.1, affine=True, track_running_stats=True)\n",
              "        (relu1): ReLU(inplace=True)\n",
              "        (conv1): Conv2d(704, 128, kernel_size=(1, 1), stride=(1, 1), bias=False)\n",
              "        (norm2): BatchNorm2d(128, eps=1e-05, momentum=0.1, affine=True, track_running_stats=True)\n",
              "        (relu2): ReLU(inplace=True)\n",
              "        (conv2): Conv2d(128, 32, kernel_size=(3, 3), stride=(1, 1), padding=(1, 1), bias=False)\n",
              "      )\n",
              "      (denselayer8): _DenseLayer(\n",
              "        (norm1): BatchNorm2d(736, eps=1e-05, momentum=0.1, affine=True, track_running_stats=True)\n",
              "        (relu1): ReLU(inplace=True)\n",
              "        (conv1): Conv2d(736, 128, kernel_size=(1, 1), stride=(1, 1), bias=False)\n",
              "        (norm2): BatchNorm2d(128, eps=1e-05, momentum=0.1, affine=True, track_running_stats=True)\n",
              "        (relu2): ReLU(inplace=True)\n",
              "        (conv2): Conv2d(128, 32, kernel_size=(3, 3), stride=(1, 1), padding=(1, 1), bias=False)\n",
              "      )\n",
              "      (denselayer9): _DenseLayer(\n",
              "        (norm1): BatchNorm2d(768, eps=1e-05, momentum=0.1, affine=True, track_running_stats=True)\n",
              "        (relu1): ReLU(inplace=True)\n",
              "        (conv1): Conv2d(768, 128, kernel_size=(1, 1), stride=(1, 1), bias=False)\n",
              "        (norm2): BatchNorm2d(128, eps=1e-05, momentum=0.1, affine=True, track_running_stats=True)\n",
              "        (relu2): ReLU(inplace=True)\n",
              "        (conv2): Conv2d(128, 32, kernel_size=(3, 3), stride=(1, 1), padding=(1, 1), bias=False)\n",
              "      )\n",
              "      (denselayer10): _DenseLayer(\n",
              "        (norm1): BatchNorm2d(800, eps=1e-05, momentum=0.1, affine=True, track_running_stats=True)\n",
              "        (relu1): ReLU(inplace=True)\n",
              "        (conv1): Conv2d(800, 128, kernel_size=(1, 1), stride=(1, 1), bias=False)\n",
              "        (norm2): BatchNorm2d(128, eps=1e-05, momentum=0.1, affine=True, track_running_stats=True)\n",
              "        (relu2): ReLU(inplace=True)\n",
              "        (conv2): Conv2d(128, 32, kernel_size=(3, 3), stride=(1, 1), padding=(1, 1), bias=False)\n",
              "      )\n",
              "      (denselayer11): _DenseLayer(\n",
              "        (norm1): BatchNorm2d(832, eps=1e-05, momentum=0.1, affine=True, track_running_stats=True)\n",
              "        (relu1): ReLU(inplace=True)\n",
              "        (conv1): Conv2d(832, 128, kernel_size=(1, 1), stride=(1, 1), bias=False)\n",
              "        (norm2): BatchNorm2d(128, eps=1e-05, momentum=0.1, affine=True, track_running_stats=True)\n",
              "        (relu2): ReLU(inplace=True)\n",
              "        (conv2): Conv2d(128, 32, kernel_size=(3, 3), stride=(1, 1), padding=(1, 1), bias=False)\n",
              "      )\n",
              "      (denselayer12): _DenseLayer(\n",
              "        (norm1): BatchNorm2d(864, eps=1e-05, momentum=0.1, affine=True, track_running_stats=True)\n",
              "        (relu1): ReLU(inplace=True)\n",
              "        (conv1): Conv2d(864, 128, kernel_size=(1, 1), stride=(1, 1), bias=False)\n",
              "        (norm2): BatchNorm2d(128, eps=1e-05, momentum=0.1, affine=True, track_running_stats=True)\n",
              "        (relu2): ReLU(inplace=True)\n",
              "        (conv2): Conv2d(128, 32, kernel_size=(3, 3), stride=(1, 1), padding=(1, 1), bias=False)\n",
              "      )\n",
              "      (denselayer13): _DenseLayer(\n",
              "        (norm1): BatchNorm2d(896, eps=1e-05, momentum=0.1, affine=True, track_running_stats=True)\n",
              "        (relu1): ReLU(inplace=True)\n",
              "        (conv1): Conv2d(896, 128, kernel_size=(1, 1), stride=(1, 1), bias=False)\n",
              "        (norm2): BatchNorm2d(128, eps=1e-05, momentum=0.1, affine=True, track_running_stats=True)\n",
              "        (relu2): ReLU(inplace=True)\n",
              "        (conv2): Conv2d(128, 32, kernel_size=(3, 3), stride=(1, 1), padding=(1, 1), bias=False)\n",
              "      )\n",
              "      (denselayer14): _DenseLayer(\n",
              "        (norm1): BatchNorm2d(928, eps=1e-05, momentum=0.1, affine=True, track_running_stats=True)\n",
              "        (relu1): ReLU(inplace=True)\n",
              "        (conv1): Conv2d(928, 128, kernel_size=(1, 1), stride=(1, 1), bias=False)\n",
              "        (norm2): BatchNorm2d(128, eps=1e-05, momentum=0.1, affine=True, track_running_stats=True)\n",
              "        (relu2): ReLU(inplace=True)\n",
              "        (conv2): Conv2d(128, 32, kernel_size=(3, 3), stride=(1, 1), padding=(1, 1), bias=False)\n",
              "      )\n",
              "      (denselayer15): _DenseLayer(\n",
              "        (norm1): BatchNorm2d(960, eps=1e-05, momentum=0.1, affine=True, track_running_stats=True)\n",
              "        (relu1): ReLU(inplace=True)\n",
              "        (conv1): Conv2d(960, 128, kernel_size=(1, 1), stride=(1, 1), bias=False)\n",
              "        (norm2): BatchNorm2d(128, eps=1e-05, momentum=0.1, affine=True, track_running_stats=True)\n",
              "        (relu2): ReLU(inplace=True)\n",
              "        (conv2): Conv2d(128, 32, kernel_size=(3, 3), stride=(1, 1), padding=(1, 1), bias=False)\n",
              "      )\n",
              "      (denselayer16): _DenseLayer(\n",
              "        (norm1): BatchNorm2d(992, eps=1e-05, momentum=0.1, affine=True, track_running_stats=True)\n",
              "        (relu1): ReLU(inplace=True)\n",
              "        (conv1): Conv2d(992, 128, kernel_size=(1, 1), stride=(1, 1), bias=False)\n",
              "        (norm2): BatchNorm2d(128, eps=1e-05, momentum=0.1, affine=True, track_running_stats=True)\n",
              "        (relu2): ReLU(inplace=True)\n",
              "        (conv2): Conv2d(128, 32, kernel_size=(3, 3), stride=(1, 1), padding=(1, 1), bias=False)\n",
              "      )\n",
              "    )\n",
              "    (norm5): BatchNorm2d(1024, eps=1e-05, momentum=0.1, affine=True, track_running_stats=True)\n",
              "  )\n",
              "  (classifier): Linear(in_features=1024, out_features=10, bias=True)\n",
              ")"
            ]
          },
          "metadata": {},
          "execution_count": 50
        }
      ],
      "source": [
        "model = torch.hub.load('pytorch/vision:v0.10.0', 'densenet121', pretrained=True)\n",
        "\n",
        "# Set all model parameters to not update\n",
        "if feature_extract:\n",
        "  for param in model.parameters():\n",
        "    param.requires_grad = False\n",
        "\n",
        "# Reinitialize layer’s parameters\n",
        "in_features = model.classifier.in_features\n",
        "model.classifier = nn.Linear(in_features, num_classes)\n",
        "\n",
        "model.eval()"
      ]
    },
    {
      "cell_type": "code",
      "execution_count": 51,
      "metadata": {
        "id": "Wn8l-PlOI9qV"
      },
      "outputs": [],
      "source": [
        "# Send the model to GPU\n",
        "model = model.to(device)"
      ]
    },
    {
      "cell_type": "code",
      "execution_count": 52,
      "metadata": {
        "colab": {
          "base_uri": "https://localhost:8080/"
        },
        "id": "dZPj1fyQI_t0",
        "outputId": "cf77c5bb-1c7a-4801-8f39-271d43f24dc3"
      },
      "outputs": [
        {
          "output_type": "stream",
          "name": "stdout",
          "text": [
            "Params to learn:\n",
            "\t classifier.weight\n",
            "\t classifier.bias\n"
          ]
        }
      ],
      "source": [
        "'''\n",
        "Gather the parameters to be optimized/updated in this run. If we are\n",
        "finetuning we will be updating all parameters. However, if we are\n",
        "doing feature extract method, we will only update the parameters\n",
        "that we will initialize, i.e. the parameters with requires_grad\n",
        "is True\n",
        "'''\n",
        "\n",
        "params_to_update = model.parameters()\n",
        "print(\"Params to learn:\")\n",
        "\n",
        "if feature_extract:\n",
        "  params_to_update = []\n",
        "  for name, param in model.named_parameters():\n",
        "    if param.requires_grad == True:\n",
        "      params_to_update.append(param)\n",
        "      print(\"\\t\",name)\n",
        "else:\n",
        "  for name, param in model.named_parameters():\n",
        "    if param.requires_grad == True:\n",
        "      print(\"\\t\",name)\n",
        "\n",
        "# Observe that all parameters are being optimized\n",
        "optimizer = optim.SGD(params_to_update, lr=0.001, momentum=0.9)"
      ]
    },
    {
      "cell_type": "code",
      "execution_count": 53,
      "metadata": {
        "colab": {
          "base_uri": "https://localhost:8080/"
        },
        "id": "LVp4pNJFJCCx",
        "outputId": "75bbad97-94d1-4ece-a337-3511aeacd776"
      },
      "outputs": [
        {
          "output_type": "stream",
          "name": "stdout",
          "text": [
            "Epoch 0/19\n"
          ]
        },
        {
          "output_type": "stream",
          "name": "stderr",
          "text": [
            "\r  0%|          | 0/1875 [00:00<?, ?it/s]/usr/local/lib/python3.7/dist-packages/torch/utils/data/dataloader.py:490: UserWarning: This DataLoader will create 4 worker processes in total. Our suggested max number of worker in current system is 2, which is smaller than what this DataLoader is going to create. Please be aware that excessive worker creation might get DataLoader running slow or even freeze, lower the worker number to avoid potential slowness/freeze if necessary.\n",
            "  cpuset_checked))\n",
            "100%|██████████| 1875/1875 [07:56<00:00,  3.94it/s]\n"
          ]
        },
        {
          "output_type": "stream",
          "name": "stdout",
          "text": [
            "--------------------------------------------------\n",
            "train Loss: 0.6910  Acc: 0.7806\n",
            "\n",
            "\n"
          ]
        },
        {
          "output_type": "stream",
          "name": "stderr",
          "text": [
            "100%|██████████| 313/313 [01:15<00:00,  4.12it/s]\n"
          ]
        },
        {
          "output_type": "stream",
          "name": "stdout",
          "text": [
            "--------------------------------------------------\n",
            "val Loss: 0.5049  Acc: 0.8231\n",
            "\n",
            "\n",
            "Epoch 1/19\n"
          ]
        },
        {
          "output_type": "stream",
          "name": "stderr",
          "text": [
            "100%|██████████| 1875/1875 [07:55<00:00,  3.95it/s]\n"
          ]
        },
        {
          "output_type": "stream",
          "name": "stdout",
          "text": [
            "--------------------------------------------------\n",
            "train Loss: 0.5009  Acc: 0.8268\n",
            "\n",
            "\n"
          ]
        },
        {
          "output_type": "stream",
          "name": "stderr",
          "text": [
            "100%|██████████| 313/313 [01:15<00:00,  4.13it/s]\n"
          ]
        },
        {
          "output_type": "stream",
          "name": "stdout",
          "text": [
            "--------------------------------------------------\n",
            "val Loss: 0.4599  Acc: 0.8377\n",
            "\n",
            "\n",
            "Epoch 2/19\n"
          ]
        },
        {
          "output_type": "stream",
          "name": "stderr",
          "text": [
            "100%|██████████| 1875/1875 [07:54<00:00,  3.95it/s]\n"
          ]
        },
        {
          "output_type": "stream",
          "name": "stdout",
          "text": [
            "--------------------------------------------------\n",
            "train Loss: 0.4653  Acc: 0.8377\n",
            "\n",
            "\n"
          ]
        },
        {
          "output_type": "stream",
          "name": "stderr",
          "text": [
            "100%|██████████| 313/313 [01:15<00:00,  4.12it/s]\n"
          ]
        },
        {
          "output_type": "stream",
          "name": "stdout",
          "text": [
            "--------------------------------------------------\n",
            "val Loss: 0.4439  Acc: 0.8420\n",
            "\n",
            "\n",
            "Epoch 3/19\n"
          ]
        },
        {
          "output_type": "stream",
          "name": "stderr",
          "text": [
            "100%|██████████| 1875/1875 [07:55<00:00,  3.95it/s]\n"
          ]
        },
        {
          "output_type": "stream",
          "name": "stdout",
          "text": [
            "--------------------------------------------------\n",
            "train Loss: 0.4497  Acc: 0.8414\n",
            "\n",
            "\n"
          ]
        },
        {
          "output_type": "stream",
          "name": "stderr",
          "text": [
            "100%|██████████| 313/313 [01:16<00:00,  4.11it/s]\n"
          ]
        },
        {
          "output_type": "stream",
          "name": "stdout",
          "text": [
            "--------------------------------------------------\n",
            "val Loss: 0.4353  Acc: 0.8418\n",
            "\n",
            "\n",
            "Epoch 4/19\n"
          ]
        },
        {
          "output_type": "stream",
          "name": "stderr",
          "text": [
            "100%|██████████| 1875/1875 [07:54<00:00,  3.95it/s]\n"
          ]
        },
        {
          "output_type": "stream",
          "name": "stdout",
          "text": [
            "--------------------------------------------------\n",
            "train Loss: 0.4396  Acc: 0.8447\n",
            "\n",
            "\n"
          ]
        },
        {
          "output_type": "stream",
          "name": "stderr",
          "text": [
            "100%|██████████| 313/313 [01:15<00:00,  4.14it/s]\n"
          ]
        },
        {
          "output_type": "stream",
          "name": "stdout",
          "text": [
            "--------------------------------------------------\n",
            "val Loss: 0.4223  Acc: 0.8488\n",
            "\n",
            "\n",
            "Epoch 5/19\n"
          ]
        },
        {
          "output_type": "stream",
          "name": "stderr",
          "text": [
            "100%|██████████| 1875/1875 [07:54<00:00,  3.95it/s]\n"
          ]
        },
        {
          "output_type": "stream",
          "name": "stdout",
          "text": [
            "--------------------------------------------------\n",
            "train Loss: 0.4298  Acc: 0.8471\n",
            "\n",
            "\n"
          ]
        },
        {
          "output_type": "stream",
          "name": "stderr",
          "text": [
            "100%|██████████| 313/313 [01:15<00:00,  4.14it/s]\n"
          ]
        },
        {
          "output_type": "stream",
          "name": "stdout",
          "text": [
            "--------------------------------------------------\n",
            "val Loss: 0.4281  Acc: 0.8487\n",
            "\n",
            "\n",
            "Epoch 6/19\n"
          ]
        },
        {
          "output_type": "stream",
          "name": "stderr",
          "text": [
            "100%|██████████| 1875/1875 [07:53<00:00,  3.96it/s]\n"
          ]
        },
        {
          "output_type": "stream",
          "name": "stdout",
          "text": [
            "--------------------------------------------------\n",
            "train Loss: 0.4251  Acc: 0.8491\n",
            "\n",
            "\n"
          ]
        },
        {
          "output_type": "stream",
          "name": "stderr",
          "text": [
            "100%|██████████| 313/313 [01:15<00:00,  4.15it/s]\n"
          ]
        },
        {
          "output_type": "stream",
          "name": "stdout",
          "text": [
            "--------------------------------------------------\n",
            "val Loss: 0.4194  Acc: 0.8495\n",
            "\n",
            "\n",
            "Epoch 7/19\n"
          ]
        },
        {
          "output_type": "stream",
          "name": "stderr",
          "text": [
            "100%|██████████| 1875/1875 [07:51<00:00,  3.98it/s]\n"
          ]
        },
        {
          "output_type": "stream",
          "name": "stdout",
          "text": [
            "--------------------------------------------------\n",
            "train Loss: 0.4197  Acc: 0.8498\n",
            "\n",
            "\n"
          ]
        },
        {
          "output_type": "stream",
          "name": "stderr",
          "text": [
            "100%|██████████| 313/313 [01:15<00:00,  4.15it/s]\n"
          ]
        },
        {
          "output_type": "stream",
          "name": "stdout",
          "text": [
            "--------------------------------------------------\n",
            "val Loss: 0.4102  Acc: 0.8542\n",
            "\n",
            "\n",
            "Epoch 8/19\n"
          ]
        },
        {
          "output_type": "stream",
          "name": "stderr",
          "text": [
            "100%|██████████| 1875/1875 [07:51<00:00,  3.97it/s]\n"
          ]
        },
        {
          "output_type": "stream",
          "name": "stdout",
          "text": [
            "--------------------------------------------------\n",
            "train Loss: 0.4162  Acc: 0.8522\n",
            "\n",
            "\n"
          ]
        },
        {
          "output_type": "stream",
          "name": "stderr",
          "text": [
            "100%|██████████| 313/313 [01:15<00:00,  4.15it/s]\n"
          ]
        },
        {
          "output_type": "stream",
          "name": "stdout",
          "text": [
            "--------------------------------------------------\n",
            "val Loss: 0.4132  Acc: 0.8527\n",
            "\n",
            "\n",
            "Epoch 9/19\n"
          ]
        },
        {
          "output_type": "stream",
          "name": "stderr",
          "text": [
            "100%|██████████| 1875/1875 [07:53<00:00,  3.96it/s]\n"
          ]
        },
        {
          "output_type": "stream",
          "name": "stdout",
          "text": [
            "--------------------------------------------------\n",
            "train Loss: 0.4130  Acc: 0.8536\n",
            "\n",
            "\n"
          ]
        },
        {
          "output_type": "stream",
          "name": "stderr",
          "text": [
            "100%|██████████| 313/313 [01:15<00:00,  4.14it/s]\n"
          ]
        },
        {
          "output_type": "stream",
          "name": "stdout",
          "text": [
            "--------------------------------------------------\n",
            "val Loss: 0.4172  Acc: 0.8475\n",
            "\n",
            "\n",
            "Epoch 10/19\n"
          ]
        },
        {
          "output_type": "stream",
          "name": "stderr",
          "text": [
            "100%|██████████| 1875/1875 [07:52<00:00,  3.97it/s]\n"
          ]
        },
        {
          "output_type": "stream",
          "name": "stdout",
          "text": [
            "--------------------------------------------------\n",
            "train Loss: 0.4101  Acc: 0.8540\n",
            "\n",
            "\n"
          ]
        },
        {
          "output_type": "stream",
          "name": "stderr",
          "text": [
            "100%|██████████| 313/313 [01:15<00:00,  4.16it/s]\n"
          ]
        },
        {
          "output_type": "stream",
          "name": "stdout",
          "text": [
            "--------------------------------------------------\n",
            "val Loss: 0.4183  Acc: 0.8503\n",
            "\n",
            "\n",
            "Epoch 11/19\n"
          ]
        },
        {
          "output_type": "stream",
          "name": "stderr",
          "text": [
            "100%|██████████| 1875/1875 [07:53<00:00,  3.96it/s]\n"
          ]
        },
        {
          "output_type": "stream",
          "name": "stdout",
          "text": [
            "--------------------------------------------------\n",
            "train Loss: 0.4069  Acc: 0.8555\n",
            "\n",
            "\n"
          ]
        },
        {
          "output_type": "stream",
          "name": "stderr",
          "text": [
            "100%|██████████| 313/313 [01:15<00:00,  4.15it/s]\n"
          ]
        },
        {
          "output_type": "stream",
          "name": "stdout",
          "text": [
            "--------------------------------------------------\n",
            "val Loss: 0.4086  Acc: 0.8522\n",
            "\n",
            "\n",
            "Epoch 12/19\n"
          ]
        },
        {
          "output_type": "stream",
          "name": "stderr",
          "text": [
            "100%|██████████| 1875/1875 [07:51<00:00,  3.97it/s]\n"
          ]
        },
        {
          "output_type": "stream",
          "name": "stdout",
          "text": [
            "--------------------------------------------------\n",
            "train Loss: 0.4050  Acc: 0.8555\n",
            "\n",
            "\n"
          ]
        },
        {
          "output_type": "stream",
          "name": "stderr",
          "text": [
            "100%|██████████| 313/313 [01:15<00:00,  4.14it/s]\n"
          ]
        },
        {
          "output_type": "stream",
          "name": "stdout",
          "text": [
            "--------------------------------------------------\n",
            "val Loss: 0.4135  Acc: 0.8524\n",
            "\n",
            "\n",
            "Epoch 13/19\n"
          ]
        },
        {
          "output_type": "stream",
          "name": "stderr",
          "text": [
            "100%|██████████| 1875/1875 [07:51<00:00,  3.97it/s]\n"
          ]
        },
        {
          "output_type": "stream",
          "name": "stdout",
          "text": [
            "--------------------------------------------------\n",
            "train Loss: 0.4039  Acc: 0.8547\n",
            "\n",
            "\n"
          ]
        },
        {
          "output_type": "stream",
          "name": "stderr",
          "text": [
            "100%|██████████| 313/313 [01:15<00:00,  4.14it/s]\n"
          ]
        },
        {
          "output_type": "stream",
          "name": "stdout",
          "text": [
            "--------------------------------------------------\n",
            "val Loss: 0.4115  Acc: 0.8498\n",
            "\n",
            "\n",
            "Epoch 14/19\n"
          ]
        },
        {
          "output_type": "stream",
          "name": "stderr",
          "text": [
            "100%|██████████| 1875/1875 [07:51<00:00,  3.97it/s]\n"
          ]
        },
        {
          "output_type": "stream",
          "name": "stdout",
          "text": [
            "--------------------------------------------------\n",
            "train Loss: 0.4032  Acc: 0.8547\n",
            "\n",
            "\n"
          ]
        },
        {
          "output_type": "stream",
          "name": "stderr",
          "text": [
            "100%|██████████| 313/313 [01:15<00:00,  4.15it/s]\n"
          ]
        },
        {
          "output_type": "stream",
          "name": "stdout",
          "text": [
            "--------------------------------------------------\n",
            "val Loss: 0.4086  Acc: 0.8529\n",
            "\n",
            "\n",
            "Epoch 15/19\n"
          ]
        },
        {
          "output_type": "stream",
          "name": "stderr",
          "text": [
            "100%|██████████| 1875/1875 [07:51<00:00,  3.97it/s]\n"
          ]
        },
        {
          "output_type": "stream",
          "name": "stdout",
          "text": [
            "--------------------------------------------------\n",
            "train Loss: 0.4010  Acc: 0.8564\n",
            "\n",
            "\n"
          ]
        },
        {
          "output_type": "stream",
          "name": "stderr",
          "text": [
            "100%|██████████| 313/313 [01:15<00:00,  4.15it/s]\n"
          ]
        },
        {
          "output_type": "stream",
          "name": "stdout",
          "text": [
            "--------------------------------------------------\n",
            "val Loss: 0.4209  Acc: 0.8483\n",
            "\n",
            "\n",
            "Epoch 16/19\n"
          ]
        },
        {
          "output_type": "stream",
          "name": "stderr",
          "text": [
            "100%|██████████| 1875/1875 [07:52<00:00,  3.97it/s]\n"
          ]
        },
        {
          "output_type": "stream",
          "name": "stdout",
          "text": [
            "--------------------------------------------------\n",
            "train Loss: 0.3987  Acc: 0.8575\n",
            "\n",
            "\n"
          ]
        },
        {
          "output_type": "stream",
          "name": "stderr",
          "text": [
            "100%|██████████| 313/313 [01:15<00:00,  4.15it/s]\n"
          ]
        },
        {
          "output_type": "stream",
          "name": "stdout",
          "text": [
            "--------------------------------------------------\n",
            "val Loss: 0.4026  Acc: 0.8569\n",
            "\n",
            "\n",
            "Epoch 17/19\n"
          ]
        },
        {
          "output_type": "stream",
          "name": "stderr",
          "text": [
            "100%|██████████| 1875/1875 [07:51<00:00,  3.98it/s]\n"
          ]
        },
        {
          "output_type": "stream",
          "name": "stdout",
          "text": [
            "--------------------------------------------------\n",
            "train Loss: 0.4014  Acc: 0.8563\n",
            "\n",
            "\n"
          ]
        },
        {
          "output_type": "stream",
          "name": "stderr",
          "text": [
            "100%|██████████| 313/313 [01:15<00:00,  4.13it/s]\n"
          ]
        },
        {
          "output_type": "stream",
          "name": "stdout",
          "text": [
            "--------------------------------------------------\n",
            "val Loss: 0.4093  Acc: 0.8542\n",
            "\n",
            "\n",
            "Epoch 18/19\n"
          ]
        },
        {
          "output_type": "stream",
          "name": "stderr",
          "text": [
            "100%|██████████| 1875/1875 [07:52<00:00,  3.97it/s]\n"
          ]
        },
        {
          "output_type": "stream",
          "name": "stdout",
          "text": [
            "--------------------------------------------------\n",
            "train Loss: 0.3986  Acc: 0.8577\n",
            "\n",
            "\n"
          ]
        },
        {
          "output_type": "stream",
          "name": "stderr",
          "text": [
            "100%|██████████| 313/313 [01:15<00:00,  4.13it/s]\n"
          ]
        },
        {
          "output_type": "stream",
          "name": "stdout",
          "text": [
            "--------------------------------------------------\n",
            "val Loss: 0.4043  Acc: 0.8566\n",
            "\n",
            "\n",
            "Epoch 19/19\n"
          ]
        },
        {
          "output_type": "stream",
          "name": "stderr",
          "text": [
            "100%|██████████| 1875/1875 [07:52<00:00,  3.97it/s]\n"
          ]
        },
        {
          "output_type": "stream",
          "name": "stdout",
          "text": [
            "--------------------------------------------------\n",
            "train Loss: 0.3958  Acc: 0.8574\n",
            "\n",
            "\n"
          ]
        },
        {
          "output_type": "stream",
          "name": "stderr",
          "text": [
            "100%|██████████| 313/313 [01:15<00:00,  4.14it/s]"
          ]
        },
        {
          "output_type": "stream",
          "name": "stdout",
          "text": [
            "--------------------------------------------------\n",
            "val Loss: 0.4124  Acc: 0.8537\n",
            "\n",
            "\n",
            "Training complete in 182m 56s\n",
            "Best val Acc: 0.856900\n"
          ]
        },
        {
          "output_type": "stream",
          "name": "stderr",
          "text": [
            "\n"
          ]
        }
      ],
      "source": [
        "# Setup the loss fxn\n",
        "criterion = nn.CrossEntropyLoss()\n",
        "\n",
        "# Train and evaluate\n",
        "model, train_history, val_history = train_model(model, criterion, optimizer, data_loaders, batch_size, num_epochs)"
      ]
    },
    {
      "cell_type": "code",
      "execution_count": 54,
      "metadata": {
        "colab": {
          "base_uri": "https://localhost:8080/",
          "height": 645
        },
        "id": "i3HI8uYHJEIh",
        "outputId": "b210f099-fcef-4ced-b4b3-99d17f341bdb"
      },
      "outputs": [
        {
          "output_type": "stream",
          "name": "stdout",
          "text": [
            "Training accuracy [0.781 0.827 0.838 0.841 0.845 0.847 0.849 0.85  0.852 0.854 0.854 0.856\n",
            " 0.855 0.855 0.855 0.856 0.857 0.856 0.858 0.857]\n",
            "Validation accuracy [0.823 0.838 0.842 0.842 0.849 0.849 0.85  0.854 0.853 0.848 0.85  0.852\n",
            " 0.852 0.85  0.853 0.848 0.857 0.854 0.857 0.854]\n"
          ]
        },
        {
          "output_type": "display_data",
          "data": {
            "text/plain": [
              "<Figure size 1080x648 with 1 Axes>"
            ],
            "image/png": "[encoded data removed]"
          },
          "metadata": {}
        }
      ],
      "source": [
        "visualize_acc_hist(train_history, val_history)"
      ]
    },
    {
      "cell_type": "code",
      "execution_count": 55,
      "metadata": {
        "colab": {
          "base_uri": "https://localhost:8080/"
        },
        "id": "eFF0GEt1JG9c",
        "outputId": "a7f6ff46-1d66-42a7-e85f-c246eaf18b1c"
      },
      "outputs": [
        {
          "output_type": "stream",
          "name": "stderr",
          "text": [
            "\r  0%|          | 0/313 [00:00<?, ?it/s]/usr/local/lib/python3.7/dist-packages/torch/utils/data/dataloader.py:490: UserWarning: This DataLoader will create 4 worker processes in total. Our suggested max number of worker in current system is 2, which is smaller than what this DataLoader is going to create. Please be aware that excessive worker creation might get DataLoader running slow or even freeze, lower the worker number to avoid potential slowness/freeze if necessary.\n",
            "  cpuset_checked))\n",
            "100%|██████████| 313/313 [01:15<00:00,  4.15it/s]"
          ]
        },
        {
          "output_type": "stream",
          "name": "stdout",
          "text": [
            "[9, 2, 1, 1, 6, 1, 4, 6, 5, 7, 4, 5, 7, 3, 4, 1, 2, 4, 8, 0, 2, 5, 7, 9, 1, 4, 6, 0, 9, 3, 8, 8, 3, 3, 8, 0, 7, 5, 7, 9, 6, 1, 3, 7, 6, 7, 2, 1, 2, 2, 4, 4, 5, 8, 2, 2, 8, 4, 8, 0, 7, 7, 8, 5, 1, 1, 2, 3, 9, 8, 7, 0, 2, 6, 2, 3, 1, 2, 8, 4, 1, 8, 5, 9, 5, 0, 3, 2, 0, 6, 5, 3, 6, 7, 1, 8, 0, 1, 4, 2, 3, 6, 7, 2, 7, 8, 5, 9, 9, 4, 2, 5, 7, 0, 5, 2, 8, 6, 7, 8, 0, 0, 9, 9, 3, 0, 8, 4, 1, 5, 4, 1, 9, 1, 8, 6, 2, 1, 2, 5, 1, 0, 0, 0, 1, 6, 1, 6, 2, 2, 4, 4, 1, 4, 5, 0, 4, 7, 9, 3, 7, 2, 3, 9, 0, 9, 4, 7, 4, 2, 0, 5, 2, 1, 2, 1, 3, 0, 9, 1, 0, 9, 3, 6, 7, 9, 9, 4, 4, 7, 1, 2, 1, 6, 3, 2, 8, 3, 6, 1, 1, 0, 2, 9, 2, 4, 0, 7, 9, 8, 4, 1, 8, 4, 1, 3, 1, 6, 7, 2, 8, 5, 2, 0, 7, 7, 6, 2, 7, 0, 7, 8, 9, 2, 9, 0, 5, 1, 4, 4, 5, 6, 9, 2, 6, 8, 6, 4, 2, 2, 9, 7, 6, 5, 5, 2, 8, 5, 2, 3, 0, 4, 8, 0, 0, 6, 3, 8, 9, 6, 1, 3, 0, 2, 3, 0, 8, 3, 7, 4, 0, 1, 6, 3, 0, 6, 6, 7, 5, 4, 5, 9, 5, 6, 5, 5, 1, 9, 8, 8, 3, 3, 6, 8, 0, 0, 2, 9, 7, 7, 1, 3, 6, 4, 2, 4, 9, 1, 6, 4, 8, 2, 6, 5, 4, 6, 7, 7, 7, 3, 3, 7, 0, 7, 1, 3, 7, 2, 2, 3, 4, 0, 3, 1, 6, 1, 9, 4, 9, 9, 1, 7, 8, 3, 6, 0, 2, 4, 8, 0, 1, 2, 2, 4, 4, 7, 3, 2, 2, 5, 0, 7, 9, 4, 0, 9, 3, 9, 4, 2, 5, 0, 2, 3, 5, 8, 1, 6, 2, 6, 6, 4, 9, 5, 2, 0, 4, 6, 1, 2, 0, 9, 7, 0, 4, 4, 6, 6, 2, 1, 0, 6, 7, 2, 9, 4, 2, 1, 5, 4, 5, 3, 8, 5, 8, 4, 4, 8, 9, 8, 6, 2, 4, 4, 2, 4, 1, 6, 1, 3, 0, 9, 8, 8, 6, 5, 3, 1, 9, 5, 3, 3, 0, 1, 0, 2, 9, 2, 0, 6, 3, 4, 2, 0, 0, 3, 3, 8, 2, 8, 9, 4, 0, 7, 6, 4, 4, 9, 2, 9, 5, 9, 3, 7, 5, 7, 8, 1, 0, 0, 3, 4, 8, 9, 7, 9, 1, 2, 7, 0, 2, 0, 5, 7, 1, 8, 2, 2, 2, 2, 4, 2, 6, 1, 9, 8, 5, 1, 9, 1, 2, 8, 3, 8, 9, 2, 4, 2, 8, 8, 2, 0, 5, 8, 8, 5, 3, 9, 4, 3, 4, 4, 5, 1, 0, 1, 2, 0, 6, 9, 6, 1, 5, 1, 1, 1, 9, 3, 4, 5, 3, 6, 6, 6, 4, 6, 0, 5, 8, 3, 3, 4, 6, 7, 7, 8, 9, 0, 3, 8, 7, 6, 7, 9, 3, 4, 6, 6, 5, 0, 1, 1, 5, 9, 4, 6, 5, 7, 8, 1, 2, 9, 7, 7, 1, 0, 9, 3, 2, 9, 0, 7, 6, 8, 2, 7, 0, 2, 3, 8, 2, 2, 6, 9, 3, 0, 7, 8, 6, 2, 9, 4, 2, 6, 6, 8, 0, 4, 4, 4, 7, 5, 8, 4, 9, 1, 0, 5, 4, 4, 4, 0, 0, 4, 5, 6, 0, 4, 5, 4, 1, 3, 1, 1, 6, 4, 3, 8, 2, 8, 2, 7, 0, 4, 0, 8, 5, 0, 8, 2, 9, 0, 8, 9, 6, 4, 2, 9, 3, 4, 5, 0, 9, 5, 3, 6, 6, 8, 3, 3, 8, 1, 4, 0, 9, 7, 9, 4, 8, 9, 1, 6, 7, 3, 0, 2, 6, 7, 1, 0, 0, 8, 5, 2, 6, 6, 6, 4, 1, 5, 9, 0, 2, 1, 6, 5, 0, 0, 3, 3, 3, 8, 1, 1, 8, 5, 7, 7, 8, 7, 2, 0, 7, 3, 8, 0, 9, 7, 6, 1, 2, 6, 4, 8, 0, 6, 3, 6, 8, 4, 0, 8, 9, 2, 4, 5, 9, 1, 4, 4, 9, 2, 1, 7, 9, 5, 8, 1, 7, 7, 1, 1, 1, 6, 9, 5, 3, 8, 4, 2, 7, 4, 8, 3, 2, 4, 4, 7, 1, 4, 9, 3, 5, 8, 5, 4, 7, 2, 8, 5, 9, 3, 3, 6, 7, 1, 7, 3, 5, 4, 4, 5, 8, 3, 7, 1, 2, 6, 1, 9, 8, 2, 7, 1, 3, 7, 5, 9, 9, 1, 8, 2, 5, 7, 1, 9, 8, 1, 0, 0, 6, 1, 7, 1, 1, 5, 7, 1, 5, 2, 2, 3, 3, 1, 1, 4, 9, 4, 3, 7, 7, 0, 8, 9, 9, 6, 1, 3, 4, 0, 0, 5, 9, 2, 0, 5, 5, 1, 5, 7, 8, 7, 5, 3, 6, 4, 0, 4, 0, 6, 0, 2, 5, 5, 1, 2, 0, 9, 3, 7, 8, 6, 8, 3, 4, 7, 0, 7, 4, 8, 0, 3, 4, 4, 3, 4, 9, 0, 6, 4, 9, 1, 8, 1, 7, 5, 5, 6, 0, 2, 1, 0, 5, 4, 0, 0, 6, 7, 5, 0, 3, 5, 9, 6, 8, 0, 6, 4, 6, 2, 9, 6, 7, 7, 1, 4, 2, 6, 5, 3, 9, 9, 8, 8, 3, 0, 2, 4, 6, 6, 3, 2, 3, 5, 4, 9, 3, 4, 7, 7, 0, 3, 5, 5, 6, 0, 5, 9, 6, 3, 7, 5, 1, 9, 8, 8, 9, 9, 2, 7, 2, 2, 3, 8, 7, 6, 4, 5, 4, 3, 6, 1, 4, 9, 3, 1, 6, 5, 0, 5, 7, 5, 2, 3, 3, 9, 6, 3, 6, 0, 4, 5, 0, 4, 9, 4, 6, 3, 6, 7, 0, 2, 1, 1, 4, 4, 8, 5, 9, 0, 1, 6, 5, 1, 4, 4, 8, 4, 7, 7, 3, 8, 1, 1, 9, 8, 1, 3, 3, 7, 5, 1, 5, 7, 8, 9, 6, 3, 5, 8, 4, 4, 3, 8, 4, 5, 5, 6, 7, 1, 5, 0, 5, 4, 8, 6, 2, 1, 1, 7, 9, 6, 2, 7, 0, 4, 8, 2, 2, 6, 6, 6, 4, 9, 6, 8, 4, 5, 9, 0, 3, 9, 4, 9, 8, 7, 4, 2, 2, 5, 3, 7, 6, 7, 2, 9, 3, 7, 0, 9, 4, 8, 6, 4, 7, 6, 4, 6, 2, 0, 7, 8, 4, 2, 6, 5, 5, 6, 4, 5, 5, 8, 1, 1, 7, 4, 6, 9, 6, 8, 7, 2, 2, 1, 2, 7, 7, 6, 9, 8, 5, 1, 1, 0, 2, 0, 9, 0, 1, 9, 6, 5, 5, 2, 0, 7, 0, 2, 0, 1, 3, 1, 3, 4, 7, 2, 4, 9, 5, 2, 9, 0, 3, 4, 4, 6, 6, 5, 2, 2, 5, 6, 1, 4, 2, 5, 4, 4, 8, 0, 2, 4, 0, 6, 2, 6, 8, 3, 8, 2, 0, 4, 4, 8, 8, 4, 5, 2, 2, 3, 0, 1, 9, 0, 9, 1, 9, 6, 5, 2, 2, 7, 3, 8, 5, 0, 8, 0, 7, 5, 5, 9, 5, 0, 6, 0, 3, 4, 4, 4, 8, 7, 1, 3, 4, 0, 6, 5, 1, 6, 7, 3, 4, 8, 8, 2, 8, 9, 4, 1, 6, 5, 2, 7, 8, 5, 3, 8, 5, 4, 2, 8, 9, 8, 4, 3, 3, 8, 8, 2, 0, 9, 4, 4, 8, 1, 3, 6, 1, 9, 2, 1, 6, 2, 7, 9, 4, 6, 0, 4, 4, 2, 4, 5, 0, 2, 8, 3, 7, 6, 4, 0, 0, 5, 2, 8, 2, 4, 3, 0, 2, 1, 7, 7, 5, 4, 7, 2, 4, 7, 3, 3, 1, 3, 3, 6, 6, 1, 7, 0, 4, 7, 1, 0, 6, 5, 8, 4, 4, 7, 9, 5, 0, 7, 9, 5, 1, 2, 9, 5, 5, 3, 9, 9, 1, 2, 7, 8, 0, 1, 7, 2, 7, 1, 1, 5, 5, 6, 4, 5, 9, 5, 5, 2, 3, 9, 3, 8, 5, 2, 0, 0, 0, 5, 7, 8, 5, 2, 6, 4, 4, 7, 4, 0, 5, 1, 7, 2, 3, 6, 8, 9, 8, 7, 1, 2, 3, 2, 9, 7, 5, 6, 1, 0, 7, 1, 2, 6, 9, 3, 6, 4, 4, 3, 0, 0, 6, 3, 6, 1, 3, 5, 6, 5, 0, 9, 1, 1, 8, 2, 9, 5, 0, 5, 4, 6, 7, 1, 1, 5, 3, 8, 9, 8, 3, 8, 9, 2, 6, 1, 1, 3, 5, 2, 7, 1, 9, 9, 2, 2, 7, 0, 1, 3, 9, 6, 3, 7, 2, 8, 1, 8, 0, 7, 9, 8, 5, 8, 2, 6, 4, 0, 6, 5, 8, 3, 8, 7, 5, 7, 3, 7, 0, 7, 0, 2, 2, 5, 3, 5, 1, 1, 7, 7, 6, 3, 0, 4, 2, 8, 6, 3, 1, 4, 9, 9, 4, 5, 2, 2, 7, 8, 0, 7, 9, 1, 2, 9, 4, 7, 3, 4, 3, 3, 1, 8, 8, 5, 3, 8, 6, 3, 4, 3, 2, 0, 2, 7, 3, 6, 8, 3, 9, 7, 3, 1, 7, 5, 8, 8, 2, 0, 6, 6, 4, 6, 5, 7, 0, 6, 6, 7, 7, 3, 9, 2, 5, 9, 7, 1, 7, 2, 4, 5, 1, 3, 5, 4, 5, 0, 4, 4, 1, 4, 4, 8, 4, 5, 9, 4, 1, 1, 7, 2, 3, 5, 0, 3, 9, 7, 5, 3, 8, 8, 8, 9, 1, 1, 6, 3, 1, 6, 3, 4, 9, 9, 6, 0, 6, 9, 4, 9, 6, 6, 1, 8, 9, 2, 9, 4, 8, 0, 7, 2, 3, 6, 2, 5, 6, 1, 9, 0, 2, 2, 9, 9, 0, 8, 3, 6, 6, 6, 0, 2, 6, 6, 6, 5, 0, 2, 7, 8, 7, 4, 6, 6, 6, 5, 2, 4, 2, 9, 5, 2, 6, 7, 0, 1, 9, 5, 5, 6, 7, 7, 5, 0, 5, 0, 8, 4, 7, 9, 8, 2, 4, 7, 3, 3, 7, 7, 7, 8, 4, 9, 5, 7, 6, 5, 7, 5, 1, 3, 0, 4, 9, 9, 8, 3, 7, 0, 3, 4, 9, 3, 4, 1, 7, 9, 1, 5, 7, 2, 7, 6, 5, 5, 3, 7, 5, 5, 4, 0, 7, 3, 3, 2, 0, 2, 9, 9, 0, 3, 0, 8, 3, 8, 8, 4, 4, 1, 8, 2, 3, 5, 0, 4, 4, 3, 0, 0, 1, 0, 8, 4, 9, 0, 7, 0, 7, 7, 1, 5, 8, 7, 2, 9, 9, 1, 2, 4, 1, 1, 1, 8, 8, 1, 3, 7, 5, 2, 0, 8, 4, 8, 9, 4, 1, 3, 1, 9, 8, 1, 1, 1, 8, 0, 9, 9, 7, 6, 0, 4, 2, 1, 1, 7, 9, 4, 2, 0, 3, 6, 6, 8, 1, 7, 2, 4, 2, 2, 3, 8, 7, 1, 8, 5, 5, 7, 7, 6, 6, 2, 9, 6, 6, 0, 5, 5, 0, 2, 1, 0, 3, 5, 9, 1, 7, 2, 5, 7, 9, 8, 9, 1, 2, 8, 3, 2, 3, 6, 0, 8, 3, 8, 6, 8, 6, 0, 8, 8, 8, 2, 9, 3, 2, 0, 8, 5, 7, 0, 1, 1, 1, 9, 5, 1, 3, 3, 6, 0, 8, 2, 1, 3, 8, 8, 6, 7, 5, 6, 6, 7, 3, 3, 2, 4, 6, 5, 5, 4, 2, 3, 7, 1, 1, 7, 3, 8, 7, 2, 2, 9, 3, 9, 9, 0, 1, 5, 1, 2, 8, 1, 4, 9, 3, 4, 0, 0, 7, 6, 9, 9, 5, 5, 7, 0, 9, 3, 3, 6, 9, 8, 4, 2, 2, 3, 9, 4, 3, 6, 7, 3, 0, 4, 8, 1, 8, 7, 3, 4, 5, 2, 2, 9, 1, 9, 4, 9, 1, 6, 2, 8, 8, 7, 7, 7, 7, 2, 6, 0, 7, 5, 8, 5, 6, 0, 2, 4, 9, 2, 6, 1, 1, 9, 3, 1, 2, 2, 2, 3, 7, 5, 7, 4, 4, 4, 1, 2, 3, 5, 4, 2, 9, 1, 5, 9, 3, 6, 6, 4, 0, 1, 7, 7, 4, 6, 7, 7, 3, 0, 4, 3, 2, 7, 8, 7, 2, 8, 0, 8, 7, 4, 6, 2, 7, 0, 9, 9, 3, 1, 5, 9, 3, 1, 0, 3, 3, 5, 9, 7, 9, 8, 3, 5, 9, 3, 7, 9, 3, 4, 6, 6, 5, 7, 7, 6, 3, 5, 3, 1, 1, 9, 4, 3, 9, 5, 5, 7, 2, 4, 9, 0, 2, 1, 9, 7, 1, 5, 0, 5, 5, 0, 3, 5, 0, 3, 3, 7, 4, 2, 6, 8, 5, 9, 2, 1, 0, 5, 5, 8, 5, 3, 7, 4, 4, 3, 9, 6, 0, 0, 9, 1, 4, 3, 1, 5, 3, 8, 5, 1, 1, 2, 9, 4, 0, 5, 2, 8, 0, 2, 9, 8, 2, 4, 8, 3, 8, 0, 2, 0, 0, 4, 8, 5, 4, 9, 0, 9, 5, 8, 6, 9, 1, 2, 7, 2, 1, 6, 6, 0, 6, 5, 0, 4, 8, 5, 5, 2, 0, 3, 8, 6, 3, 1, 9, 2, 9, 7, 3, 6, 4, 8, 3, 4, 8, 5, 6, 8, 3, 3, 1, 4, 2, 0, 4, 9, 0, 2, 1, 9, 9, 8, 1, 8, 8, 3, 3, 3, 8, 5, 9, 6, 6, 8, 7, 0, 3, 0, 0, 0, 5, 7, 5, 0, 7, 9, 1, 6, 4, 8, 9, 3, 5, 6, 0, 4, 4, 7, 8, 9, 1, 8, 2, 5, 5, 3, 1, 1, 8, 8, 3, 0, 7, 0, 1, 8, 1, 6, 4, 9, 8, 9, 8, 8, 6, 9, 1, 8, 4, 2, 7, 7, 0, 5, 1, 1, 0, 6, 4, 3, 0, 4, 3, 5, 1, 6, 3, 3, 4, 4, 5, 6, 9, 8, 3, 3, 1, 0, 2, 1, 4, 4, 4, 8, 4, 9, 0, 9, 9, 5, 0, 6, 0, 5, 0, 3, 9, 8, 3, 6, 1, 9, 4, 1, 6, 4, 5, 4, 1, 6, 8, 5, 9, 4, 5, 3, 8, 8, 1, 0, 6, 8, 9, 0, 5, 6, 2, 4, 9, 3, 2, 6, 8, 5, 9, 2, 3, 1, 6, 3, 6, 2, 7, 2, 1, 2, 0, 3, 0, 4, 8, 5, 0, 8, 5, 2, 7, 8, 1, 5, 9, 8, 0, 9, 0, 9, 3, 9, 5, 7, 9, 6, 0, 7, 1, 5, 5, 9, 5, 4, 6, 2, 4, 5, 9, 7, 4, 2, 2, 9, 9, 6, 2, 1, 3, 7, 1, 8, 7, 9, 1, 8, 9, 3, 7, 7, 7, 1, 7, 4, 4, 0, 2, 4, 5, 2, 8, 9, 6, 8, 6, 0, 7, 7, 5, 0, 1, 9, 6, 0, 4, 9, 2, 2, 6, 7, 1, 0, 5, 0, 7, 2, 8, 6, 3, 6, 1, 7, 4, 8, 7, 4, 1, 7, 8, 2, 4, 4, 4, 4, 1, 8, 6, 7, 2, 9, 4, 5, 0, 6, 3, 8, 8, 2, 0, 7, 2, 4, 0, 3, 1, 0, 8, 1, 7, 7, 2, 6, 3, 1, 2, 7, 0, 0, 0, 6, 2, 7, 2, 8, 3, 6, 3, 0, 9, 7, 3, 5, 4, 9, 6, 4, 5, 0, 6, 8, 4, 0, 4, 4, 0, 4, 1, 6, 4, 3, 7, 1, 3, 6, 4, 1, 1, 5, 6, 3, 8, 3, 4, 1, 7, 4, 9, 8, 8, 4, 5, 5, 6, 7, 3, 9, 1, 0, 5, 3, 7, 0, 1, 1, 8, 3, 2, 0, 5, 9, 6, 3, 8, 1, 0, 4, 6, 2, 4, 8, 3, 4, 2, 1, 9, 1, 7, 9, 5, 7, 6, 1, 5, 8, 8, 2, 6, 4, 6, 3, 1, 6, 4, 0, 3, 9, 8, 4, 0, 8, 4, 3, 9, 7, 1, 1, 7, 5, 1, 9, 4, 4, 2, 4, 8, 6, 7, 1, 3, 0, 7, 3, 5, 8, 1, 4, 2, 3, 4, 8, 8, 8, 4, 8, 1, 8, 9, 3, 0, 6, 0, 2, 9, 7, 3, 7, 0, 1, 3, 5, 9, 3, 0, 5, 0, 5, 8, 7, 3, 6, 2, 8, 0, 0, 9, 3, 0, 5, 8, 1, 1, 2, 6, 6, 6, 8, 6, 6, 3, 3, 9, 5, 4, 3, 3, 1, 8, 1, 5, 2, 6, 0, 7, 9, 3, 2, 7, 1, 7, 6, 1, 6, 2, 6, 6, 7, 0, 4, 9, 3, 2, 5, 0, 8, 6, 2, 6, 7, 4, 2, 1, 1, 0, 3, 5, 5, 2, 6, 2, 1, 8, 0, 3, 4, 3, 4, 2, 9, 2, 8, 9, 6, 2, 0, 6, 4, 5, 4, 7, 8, 1, 6, 3, 4, 2, 9, 4, 3, 5, 1, 2, 6, 0, 1, 1, 0, 2, 6, 9, 9, 0, 1, 2, 4, 6, 7, 6, 1, 1, 7, 7, 8, 7, 6, 5, 1, 7, 0, 0, 9, 2, 1, 6, 2, 2, 5, 8, 5, 2, 7, 8, 4, 0, 9, 0, 8, 1, 3, 8, 2, 8, 2, 0, 6, 3, 8, 7, 8, 2, 6, 6, 6, 0, 4, 5, 3, 4, 1, 1, 9, 7, 0, 6, 2, 1, 4, 2, 7, 7, 1, 8, 3, 8, 7, 9, 8, 7, 2, 7, 9, 7, 2, 2, 3, 6, 3, 3, 9, 1, 1, 4, 8, 0, 9, 7, 5, 2, 8, 8, 3, 6, 3, 0, 8, 2, 2, 5, 9, 2, 6, 8, 3, 2, 8, 3, 3, 1, 1, 3, 0, 1, 8, 4, 1, 5, 8, 1, 5, 8, 0, 7, 8, 7, 5, 9, 5, 5, 3, 0, 7, 8, 4, 5, 1, 6, 4, 2, 4, 4, 7, 7, 9, 7, 2, 5, 8, 5, 8, 5, 3, 0, 9, 7, 2, 0, 6, 8, 4, 0, 7, 3, 7, 6, 8, 4, 7, 0, 0, 4, 0, 6, 7, 8, 1, 3, 8, 1, 7, 3, 6, 1, 1, 6, 6, 9, 8, 0, 8, 2, 7, 7, 1, 3, 0, 3, 0, 7, 8, 7, 6, 5, 2, 6, 7, 5, 5, 8, 9, 7, 3, 2, 4, 8, 3, 9, 5, 7, 6, 2, 6, 7, 3, 8, 5, 1, 8, 9, 2, 6, 1, 4, 2, 7, 4, 0, 4, 4, 8, 9, 7, 9, 2, 6, 8, 2, 6, 0, 6, 3, 4, 1, 5, 6, 7, 5, 0, 7, 6, 2, 0, 5, 1, 1, 3, 7, 3, 8, 8, 7, 5, 9, 9, 5, 5, 4, 0, 7, 1, 4, 6, 0, 9, 9, 4, 6, 8, 6, 5, 7, 8, 0, 2, 7, 6, 2, 4, 8, 1, 0, 4, 8, 0, 7, 5, 8, 7, 7, 5, 5, 2, 7, 6, 2, 2, 0, 3, 6, 2, 0, 3, 9, 4, 5, 4, 4, 1, 2, 5, 7, 0, 5, 0, 2, 5, 0, 4, 8, 0, 2, 7, 2, 7, 2, 3, 4, 7, 1, 2, 3, 4, 2, 2, 3, 9, 9, 2, 8, 0, 4, 0, 0, 1, 9, 3, 9, 0, 8, 3, 9, 4, 7, 9, 1, 5, 8, 1, 3, 6, 2, 4, 8, 6, 3, 3, 0, 0, 0, 3, 6, 1, 6, 8, 6, 7, 3, 0, 0, 5, 8, 8, 8, 6, 1, 0, 8, 7, 8, 5, 8, 7, 0, 7, 2, 7, 1, 5, 5, 8, 3, 2, 8, 5, 9, 9, 2, 0, 6, 7, 1, 8, 8, 8, 7, 2, 0, 9, 7, 9, 6, 9, 4, 1, 4, 7, 2, 5, 2, 6, 2, 9, 0, 7, 1, 9, 7, 6, 5, 3, 8, 4, 9, 3, 9, 5, 7, 5, 1, 3, 3, 6, 6, 7, 5, 3, 5, 5, 8, 7, 7, 4, 6, 5, 5, 6, 4, 8, 3, 0, 9, 2, 3, 2, 2, 7, 4, 0, 7, 1, 4, 8, 1, 4, 7, 8, 2, 0, 7, 2, 0, 2, 2, 2, 2, 3, 0, 5, 2, 3, 2, 8, 0, 0, 8, 4, 6, 4, 8, 3, 5, 1, 3, 9, 1, 4, 9, 6, 7, 4, 0, 0, 2, 5, 6, 2, 5, 6, 5, 1, 7, 9, 2, 6, 7, 3, 0, 2, 8, 1, 0, 9, 9, 7, 8, 4, 6, 9, 7, 7, 5, 8, 8, 7, 5, 3, 5, 5, 0, 8, 9, 7, 2, 1, 4, 7, 1, 0, 2, 3, 2, 2, 9, 4, 7, 7, 0, 5, 0, 8, 8, 6, 8, 5, 6, 0, 7, 3, 0, 2, 2, 5, 2, 0, 7, 7, 7, 1, 5, 2, 1, 8, 5, 2, 4, 8, 7, 7, 6, 7, 1, 0, 9, 5, 3, 9, 3, 5, 0, 7, 4, 2, 0, 1, 6, 5, 9, 3, 2, 8, 5, 7, 3, 1, 2, 0, 8, 1, 8, 5, 6, 9, 3, 3, 8, 0, 4, 2, 0, 6, 4, 2, 3, 4, 5, 9, 1, 1, 9, 4, 7, 6, 4, 1, 0, 0, 7, 7, 0, 7, 8, 0, 5, 6, 4, 4, 8, 9, 7, 4, 9, 5, 3, 7, 2, 4, 1, 9, 7, 8, 1, 3, 9, 3, 6, 7, 8, 6, 5, 6, 7, 9, 9, 7, 0, 6, 2, 3, 4, 2, 9, 5, 3, 9, 2, 8, 8, 6, 0, 4, 1, 9, 3, 3, 5, 1, 5, 5, 9, 2, 8, 5, 5, 9, 5, 4, 6, 7, 3, 5, 4, 2, 3, 9, 4, 8, 1, 9, 2, 6, 2, 4, 8, 8, 7, 7, 3, 9, 3, 9, 6, 8, 2, 6, 9, 0, 4, 4, 5, 7, 0, 4, 6, 4, 1, 3, 1, 6, 7, 8, 8, 9, 7, 0, 5, 7, 3, 6, 0, 4, 0, 3, 6, 8, 8, 8, 0, 2, 3, 2, 8, 8, 1, 4, 1, 1, 6, 3, 2, 2, 8, 0, 0, 4, 1, 3, 2, 7, 0, 6, 7, 9, 9, 6, 7, 0, 9, 9, 8, 4, 8, 3, 4, 0, 9, 6, 6, 4, 3, 8, 4, 3, 6, 9, 6, 4, 7, 4, 7, 8, 8, 2, 2, 8, 8, 0, 1, 5, 8, 9, 8, 7, 1, 0, 3, 6, 6, 0, 9, 3, 9, 9, 1, 5, 9, 4, 1, 7, 0, 1, 0, 5, 3, 8, 8, 4, 1, 7, 0, 5, 0, 4, 1, 7, 1, 7, 9, 6, 3, 9, 6, 2, 5, 3, 5, 8, 8, 2, 4, 7, 7, 4, 6, 0, 5, 5, 2, 6, 2, 5, 6, 8, 5, 6, 9, 1, 3, 1, 4, 5, 9, 0, 9, 0, 3, 5, 6, 1, 5, 8, 5, 6, 6, 9, 1, 9, 1, 7, 1, 8, 0, 3, 4, 0, 2, 0, 3, 3, 8, 8, 0, 3, 6, 8, 1, 1, 3, 3, 2, 2, 1, 8, 3, 2, 0, 2, 3, 2, 3, 9, 2, 3, 0, 4, 5, 7, 1, 6, 1, 0, 0, 3, 8, 5, 1, 6, 5, 4, 8, 1, 7, 1, 6, 4, 9, 4, 2, 1, 5, 3, 1, 5, 8, 7, 7, 7, 2, 7, 5, 4, 4, 2, 0, 6, 8, 9, 9, 5, 8, 0, 4, 4, 1, 3, 7, 9, 0, 0, 9, 8, 5, 3, 0, 7, 1, 9, 7, 8, 4, 0, 9, 9, 1, 2, 0, 6, 2, 2, 5, 1, 0, 4, 8, 3, 4, 8, 3, 4, 0, 0, 3, 6, 7, 2, 4, 1, 5, 2, 0, 7, 9, 9, 1, 5, 5, 9, 1, 4, 6, 1, 2, 8, 3, 5, 7, 8, 0, 4, 2, 7, 2, 7, 5, 0, 8, 7, 8, 8, 4, 9, 2, 5, 5, 9, 9, 6, 4, 2, 6, 6, 3, 8, 7, 6, 6, 7, 5, 2, 9, 0, 3, 4, 4, 8, 4, 0, 2, 7, 0, 5, 2, 6, 6, 8, 0, 6, 2, 0, 2, 5, 5, 8, 0, 7, 0, 8, 9, 0, 2, 1, 2, 5, 1, 6, 2, 9, 6, 4, 9, 9, 1, 4, 3, 1, 2, 8, 6, 3, 6, 0, 2, 0, 2, 3, 3, 5, 2, 3, 6, 6, 8, 5, 4, 0, 1, 2, 2, 2, 6, 7, 9, 6, 4, 3, 3, 6, 8, 5, 4, 4, 0, 3, 3, 5, 2, 5, 1, 5, 5, 1, 7, 5, 2, 1, 8, 8, 0, 9, 6, 0, 6, 3, 2, 1, 8, 3, 4, 2, 1, 2, 0, 3, 0, 8, 5, 1, 5, 0, 2, 0, 3, 9, 8, 2, 8, 1, 0, 2, 6, 2, 0, 3, 7, 5, 0, 6, 2, 6, 8, 4, 2, 1, 8, 6, 8, 2, 9, 2, 6, 8, 5, 2, 7, 3, 2, 2, 6, 4, 6, 8, 5, 2, 1, 5, 2, 8, 2, 9, 0, 6, 3, 6, 4, 6, 7, 7, 9, 6, 4, 9, 8, 0, 5, 8, 7, 7, 6, 7, 7, 0, 7, 7, 2, 9, 7, 4, 2, 2, 3, 8, 0, 1, 9, 8, 0, 6, 2, 8, 3, 8, 0, 7, 6, 4, 3, 8, 1, 3, 8, 7, 3, 0, 3, 4, 8, 8, 9, 1, 3, 2, 1, 4, 8, 0, 4, 6, 7, 3, 9, 4, 9, 0, 4, 6, 5, 7, 0, 8, 1, 7, 5, 4, 9, 5, 7, 3, 2, 0, 9, 8, 7, 3, 7, 7, 4, 7, 5, 8, 5, 2, 4, 6, 2, 3, 8, 9, 7, 1, 3, 4, 2, 9, 7, 1, 2, 2, 6, 0, 5, 5, 4, 5, 2, 8, 9, 4, 9, 9, 1, 4, 3, 1, 5, 5, 5, 6, 8, 1, 5, 5, 9, 5, 9, 8, 3, 1, 1, 4, 6, 6, 9, 3, 6, 4, 4, 8, 6, 5, 4, 9, 0, 2, 8, 4, 8, 6, 3, 6, 1, 4, 3, 3, 8, 4, 9, 9, 0, 7, 9, 5, 3, 1, 7, 2, 8, 4, 9, 6, 1, 6, 0, 5, 8, 1, 9, 3, 0, 8, 3, 8, 4, 2, 5, 6, 9, 0, 1, 4, 0, 7, 9, 0, 1, 3, 9, 5, 1, 4, 1, 1, 4, 8, 3, 9, 5, 4, 4, 3, 7, 7, 7, 2, 3, 9, 1, 9, 4, 4, 0, 7, 6, 6, 7, 9, 0, 6, 4, 9, 0, 4, 0, 2, 7, 9, 6, 1, 1, 2, 0, 8, 8, 7, 4, 2, 7, 5, 7, 6, 1, 8, 1, 4, 9, 8, 9, 0, 1, 0, 6, 0, 3, 0, 6, 4, 1, 9, 7, 1, 2, 2, 5, 3, 4, 1, 7, 4, 7, 0, 2, 8, 8, 1, 4, 9, 9, 6, 3, 4, 9, 3, 9, 8, 5, 3, 8, 4, 7, 1, 4, 1, 9, 6, 8, 3, 2, 4, 8, 1, 1, 5, 8, 6, 1, 6, 2, 5, 0, 9, 5, 3, 5, 0, 6, 5, 4, 8, 3, 8, 0, 2, 9, 9, 1, 5, 3, 2, 6, 5, 3, 0, 3, 0, 7, 4, 0, 2, 1, 9, 5, 1, 7, 5, 5, 5, 9, 4, 8, 4, 6, 6, 4, 6, 4, 1, 1, 2, 2, 8, 4, 9, 0, 5, 8, 1, 0, 8, 3, 2, 4, 8, 3, 0, 9, 3, 4, 9, 7, 2, 6, 2, 2, 8, 9, 6, 1, 4, 7, 7, 9, 7, 3, 2, 9, 2, 7, 3, 0, 2, 6, 7, 2, 3, 3, 1, 9, 5, 8, 2, 3, 5, 0, 0, 4, 5, 8, 3, 5, 0, 7, 7, 6, 0, 9, 5, 1, 4, 4, 5, 3, 0, 6, 1, 4, 6, 5, 4, 8, 5, 7, 3, 0, 8, 3, 5, 2, 4, 9, 8, 5, 9, 8, 1, 9, 5, 0, 1, 5, 3, 3, 3, 3, 4, 4, 3, 6, 7, 8, 0, 9, 6, 3, 0, 4, 2, 7, 3, 5, 7, 3, 7, 8, 4, 6, 2, 2, 3, 1, 0, 7, 5, 6, 6, 4, 1, 1, 4, 7, 2, 3, 5, 5, 0, 4, 4, 4, 8, 9, 9, 2, 6, 9, 8, 3, 5, 3, 1, 4, 5, 0, 1, 8, 5, 8, 6, 0, 7, 8, 9, 2, 2, 6, 3, 2, 2, 2, 8, 9, 1, 9, 7, 4, 5, 6, 3, 2, 4, 5, 6, 6, 5, 8, 6, 2, 2, 9, 4, 9, 8, 3, 0, 2, 7, 7, 5, 9, 7, 7, 3, 8, 7, 5, 9, 9, 8, 2, 1, 0, 8, 0, 2, 6, 7, 9, 2, 2, 5, 4, 3, 2, 1, 1, 9, 6, 5, 5, 4, 9, 8, 9, 6, 5, 4, 6, 0, 5, 7, 8, 4, 8, 8, 7, 4, 9, 4, 9, 6, 9, 7, 3, 9, 9, 3, 6, 0, 2, 8, 7, 9, 4, 0, 0, 4, 1, 0, 3, 8, 4, 8, 4, 4, 3, 3, 5, 7, 7, 8, 5, 6, 3, 2, 1, 8, 3, 8, 5, 4, 2, 3, 0, 8, 3, 3, 2, 9, 0, 9, 9, 0, 1, 8, 3, 0, 3, 8, 6, 8, 5, 1, 3, 0, 1, 9, 3, 5, 0, 6, 2, 3, 1, 5, 3, 2, 8, 5, 7, 8, 0, 1, 1, 0, 6, 4, 5, 9, 0, 7, 2, 3, 6, 4, 6, 3, 6, 9, 4, 9, 0, 8, 3, 5, 6, 2, 0, 1, 3, 9, 4, 2, 5, 0, 5, 3, 2, 5, 0, 0, 0, 0, 0, 9, 1, 3, 4, 3, 5, 5, 6, 6, 1, 4, 9, 7, 4, 4, 7, 5, 7, 1, 6, 8, 7, 9, 5, 7, 0, 2, 9, 2, 5, 0, 7, 6, 4, 5, 2, 9, 4, 3, 2, 5, 9, 2, 5, 9, 7, 3, 8, 3, 5, 6, 5, 3, 0, 7, 6, 9, 5, 1, 3, 6, 9, 3, 6, 2, 5, 3, 4, 9, 9, 1, 2, 2, 2, 4, 6, 8, 7, 9, 9, 4, 8, 8, 9, 0, 7, 0, 4, 3, 8, 6, 4, 2, 0, 1, 4, 0, 2, 1, 5, 4, 6, 6, 0, 3, 4, 5, 6, 8, 7, 6, 0, 3, 1, 8, 8, 8, 9, 9, 5, 5, 8, 6, 5, 4, 4, 2, 5, 6, 9, 2, 9, 1, 0, 4, 6, 6, 9, 8, 0, 4, 9, 1, 9, 4, 7, 3, 5, 4, 3, 4, 6, 1, 6, 2, 4, 3, 7, 8, 4, 5, 5, 9, 0, 6, 3, 4, 5, 5, 5, 7, 3, 1, 3, 3, 7, 0, 7, 7, 6, 8, 3, 5, 5, 8, 1, 9, 4, 0, 4, 2, 1, 6, 0, 1, 6, 5, 0, 8, 1, 1, 7, 5, 2, 5, 9, 0, 8, 3, 4, 4, 2, 7, 0, 7, 6, 6, 2, 3, 7, 1, 6, 4, 3, 3, 0, 0, 6, 4, 8, 7, 0, 3, 6, 4, 7, 3, 3, 6, 0, 2, 4, 4, 1, 8, 1, 9, 1, 2, 6, 4, 2, 5, 3, 3, 5, 3, 5, 8, 3, 9, 7, 3, 0, 0, 1, 0, 1, 0, 7, 7, 4, 8, 9, 0, 1, 5, 4, 9, 4, 7, 9, 9, 7, 0, 1, 0, 9, 9, 5, 1, 7, 2, 9, 1, 5, 6, 8, 1, 7, 3, 0, 8, 4, 7, 0, 8, 9, 8, 8, 4, 5, 6, 4, 5, 9, 0, 0, 5, 3, 7, 7, 4, 4, 7, 4, 5, 8, 3, 7, 2, 7, 3, 8, 8, 8, 7, 8, 6, 0, 5, 7, 9, 8, 5, 6, 0, 6, 4, 4, 2, 8, 9, 9, 1, 9, 5, 8, 4, 4, 8, 4, 8, 7, 4, 8, 3, 0, 7, 8, 8, 3, 9, 9, 5, 9, 2, 6, 9, 7, 5, 7, 4, 9, 9, 2, 3, 9, 5, 3, 5, 6, 1, 2, 9, 1, 4, 8, 5, 1, 7, 9, 0, 3, 3, 6, 9, 0, 4, 6, 0, 0, 2, 9, 7, 1, 9, 8, 5, 6, 8, 5, 9, 5, 2, 4, 2, 5, 2, 2, 5, 4, 2, 7, 1, 2, 6, 8, 2, 5, 6, 2, 6, 9, 5, 5, 1, 5, 2, 4, 4, 2, 4, 1, 9, 3, 7, 2, 7, 4, 2, 9, 7, 4, 6, 6, 1, 7, 1, 4, 7, 6, 1, 7, 3, 0, 3, 6, 4, 9, 0, 4, 1, 7, 9, 0, 2, 7, 6, 6, 7, 1, 9, 5, 2, 9, 8, 6, 4, 0, 1, 3, 2, 2, 8, 1, 0, 8, 1, 8, 1, 0, 1, 4, 7, 3, 7, 7, 3, 3, 9, 9, 0, 8, 2, 5, 8, 9, 5, 3, 5, 4, 1, 6, 9, 2, 6, 2, 6, 1, 8, 1, 3, 3, 0, 2, 1, 7, 0, 5, 4, 5, 3, 6, 2, 1, 6, 0, 7, 3, 6, 6, 3, 6, 1, 5, 2, 9, 0, 8, 0, 4, 4, 0, 1, 7, 5, 3, 3, 3, 2, 0, 3, 5, 2, 6, 2, 5, 1, 4, 6, 2, 1, 9, 3, 4, 6, 9, 5, 8, 0, 6, 3, 6, 0, 8, 1, 2, 3, 3, 1, 5, 5, 3, 2, 6, 7, 1, 3, 2, 3, 6, 1, 2, 2, 8, 0, 8, 4, 7, 0, 3, 1, 3, 8, 3, 4, 1, 2, 0, 3, 6, 7, 7, 8, 3, 6, 9, 5, 6, 6, 9, 5, 4, 3, 8, 5, 3, 8, 3, 7, 9, 6, 2, 5, 1, 0, 5, 2, 3, 5, 7, 9, 6, 0, 7, 1, 2, 0, 8, 2, 2, 2, 7, 8, 0, 2, 4, 4, 9, 7, 3, 2, 5, 4, 5, 1, 9, 5, 0, 5, 2, 4, 1, 7, 9, 0, 3, 3, 4, 9, 1, 0, 1, 9, 5, 6, 8, 2, 2, 1, 4, 0, 6, 7, 9, 0, 1, 1, 4, 3, 6, 9, 8, 1, 3, 7, 3, 9, 9, 5, 4, 2, 3, 6, 8, 8, 5, 5, 1, 8, 8, 5, 7, 9, 9, 3, 4, 4, 2, 7, 9, 6, 6, 7, 5, 4, 7, 6, 1, 4, 2, 2, 6, 9, 0, 0, 5, 1, 1, 7, 8, 3, 6, 6, 2, 0, 2, 4, 9, 5, 2, 4, 6, 4, 6, 1, 5, 2, 7, 8, 6, 7, 7, 0, 8, 4, 3, 6, 9, 1, 2, 1, 7, 4, 3, 4, 9, 9, 2, 2, 4, 3, 0, 5, 7, 5, 2, 7, 8, 9, 9, 2, 7, 8, 7, 7, 5, 8, 7, 6, 6, 9, 0, 1, 8, 7, 5, 4, 5, 3, 7, 6, 6, 5, 5, 6, 9, 9, 1, 9, 5, 9, 4, 4, 1, 5, 8, 3, 5, 1, 8, 6, 5, 0, 2, 3, 7, 1, 1, 1, 8, 7, 5, 6, 3, 4, 7, 0, 0, 5, 3, 4, 8, 6, 5, 2, 7, 3, 2, 3, 2, 7, 8, 0, 9, 0, 9, 5, 8, 0, 7, 3, 9, 0, 9, 7, 3, 0, 6, 5, 7, 8, 2, 3, 1, 9, 0, 2, 9, 1, 3, 4, 0, 3, 0, 6, 2, 3, 8, 6, 2, 9, 5, 6, 1, 8, 2, 4, 1, 6, 2, 9, 4, 6, 7, 9, 6, 3, 5, 4, 5, 9, 8, 5, 3, 0, 1, 2, 6, 4, 1, 9, 4, 4, 6, 5, 5, 4, 3, 2, 0, 1, 4, 9, 9, 7, 6, 1, 2, 6, 6, 2, 6, 2, 5, 9, 4, 8, 2, 6, 1, 5, 9, 6, 1, 8, 9, 3, 1, 7, 1, 1, 1, 9, 1, 3, 8, 9, 9, 1, 9, 6, 0, 5, 8, 5, 5, 5, 3, 8, 9, 0, 7, 8, 2, 9, 2, 0, 1, 5, 0, 7, 8, 0, 0, 9, 1, 1, 8, 2, 8, 7, 2, 0, 7, 2, 0, 0, 5, 1, 0, 8, 6, 3, 7, 2, 1, 9, 7, 4, 1, 3, 9, 2, 4, 0, 3, 7, 5, 1, 1, 9, 5, 1, 5, 4, 6, 6, 1, 5, 2, 1, 6, 6, 5, 7, 9, 4, 3, 4, 1, 7, 9, 0, 5, 7, 3, 3, 8, 4, 1, 8, 2, 5, 4, 4, 8, 9, 2, 9, 3, 2, 6, 1, 1, 6, 6, 1, 4, 9, 8, 5, 9, 1, 5, 6, 9, 3, 2, 1, 7, 4, 9, 8, 8, 9, 5, 5, 3, 8, 2, 0, 3, 6, 1, 1, 9, 0, 9, 7, 5, 3, 2, 9, 5, 5, 4, 2, 9, 9, 3, 0, 6, 3, 1, 7, 4, 9, 2, 8, 5, 8, 6, 0, 1, 3, 2, 2, 3, 6, 6, 0, 2, 8, 3, 2, 8, 6, 1, 8, 4, 5, 4, 2, 3, 9, 0, 4, 4, 2, 5, 4, 2, 7, 6, 7, 3, 3, 6, 9, 6, 8, 5, 6, 6, 3, 6, 7, 2, 5, 3, 1, 1, 9, 7, 5, 4, 2, 1, 6, 4, 5, 9, 2, 5, 5, 3, 3, 0, 9, 2, 2, 2, 3, 2, 4, 9, 2, 3, 0, 4, 2, 0, 4, 1, 3, 7, 2, 4, 2, 2, 3, 2, 3, 0, 8, 3, 5, 1, 2, 8, 8, 2, 1, 2, 1, 1, 9, 6, 5, 9, 6, 8, 0, 3, 6, 3, 1, 3, 7, 5, 6, 1, 1, 2, 0, 5, 5, 0, 1, 6, 5, 2, 8, 9, 7, 9, 1, 1, 3, 3, 5, 6, 7, 5, 9, 4, 9, 3, 6, 6, 0, 8, 5, 6, 5, 9, 8, 3, 8, 1, 3, 1, 3, 5, 6, 5, 4, 4, 9, 6, 7, 1, 4, 8, 3, 7, 7, 6, 7, 9, 4, 7, 7, 0, 1, 4, 1, 4, 8, 2, 4, 7, 6, 7, 1, 8, 7, 5, 1, 3, 1, 0, 3, 4, 5, 4, 8, 6, 3, 4, 9, 3, 1, 5, 3, 0, 7, 0, 3, 4, 5, 1, 6, 6, 2, 8, 8, 9, 8, 6, 7, 2, 4, 2, 5, 1, 9, 6, 3, 8, 7, 1, 8, 1, 2, 0, 9, 2, 4, 4, 4, 6, 1, 3, 5, 2, 9, 7, 5, 2, 7, 5, 5, 4, 4, 8, 0, 7, 0, 8, 0, 2, 1, 9, 7, 7, 3, 8, 0, 3, 0, 9, 8, 5, 6, 4, 8, 1, 5, 5, 7, 0, 1, 6, 1, 3, 2, 6, 4, 6, 1, 7, 6, 2, 2, 6, 1, 8, 2, 2, 6, 3, 0, 8, 8, 4, 6, 2, 0, 7, 0, 8, 9, 1, 6, 6, 7, 0, 8, 1, 8, 2, 4, 6, 7, 5, 7, 9, 9, 3, 9, 4, 4, 6, 4, 1, 4, 8, 4, 2, 8, 6, 2, 2, 9, 1, 8, 0, 6, 2, 6, 0, 3, 6, 6, 1, 3, 6, 3, 3, 1, 7, 8, 1, 0, 7, 6, 5, 0, 8, 2, 6, 5, 8, 7, 8, 4, 5, 9, 5, 5, 1, 2, 4, 7, 2, 9, 7, 8, 3, 7, 4, 6, 3, 8, 8, 4, 5, 1, 8, 2, 6, 2, 2, 9, 8, 9, 0, 2, 5, 9, 3, 5, 9, 8, 6, 3, 9, 5, 9, 3, 0, 8, 6, 0, 6, 3, 5, 8, 0, 6, 1, 8, 6, 9, 0, 0, 7, 6, 6, 8, 7, 6, 8, 8, 2, 0, 3, 6, 7, 1, 3, 7, 4, 0, 7, 1, 6, 5, 2, 0, 7, 9, 0, 3, 8, 2, 1, 1, 8, 8, 3, 5, 7, 5, 6, 7, 4, 3, 9, 3, 8, 9, 0, 4, 0, 4, 5, 7, 0, 4, 3, 9, 5, 7, 2, 2, 5, 8, 3, 1, 3, 5, 4, 9, 4, 3, 9, 9, 2, 0, 8, 0, 9, 1, 9, 9, 0, 7, 1, 4, 5, 0, 3, 8, 7, 4, 5, 5, 9, 3, 2, 0, 0, 9, 0, 5, 0, 1, 3, 7, 9, 1, 5, 9, 6, 0, 9, 7, 2, 9, 2, 1, 2, 7, 5, 1, 0, 7, 3, 4, 7, 6, 4, 6, 8, 5, 7, 9, 5, 7, 3, 6, 3, 9, 3, 4, 1, 5, 6, 9, 7, 4, 0, 6, 5, 8, 0, 7, 7, 3, 2, 0, 4, 8, 2, 0, 6, 9, 8, 9, 2, 5, 0, 4, 0, 2, 6, 3, 1, 8, 7, 4, 1, 9, 1, 2, 8, 5, 6, 3, 0, 0, 2, 6, 0, 7, 2, 1, 8, 4, 8, 7, 9, 4, 1, 6, 5, 7, 7, 3, 2, 5, 7, 3, 6, 7, 3, 2, 2, 9, 6, 7, 3, 9, 1, 2, 1, 9, 7, 2, 3, 3, 8, 1, 8, 3, 5, 0, 5, 3, 8, 5, 7, 4, 9, 0, 6, 8, 3, 2, 3, 3, 4, 3, 7, 8, 7, 1, 3, 7, 8, 9, 5, 5, 2, 2, 4, 5, 0, 8, 0, 3, 6, 0, 8, 8, 9, 6, 9, 1, 5, 1, 2, 1, 3, 2, 2, 2, 4, 5, 7, 5, 9, 2, 0, 5, 7, 0, 5, 6, 5, 6, 6, 4, 0, 7, 1, 5, 2, 9, 8, 1, 7, 6, 4, 4, 0, 7, 1, 8, 5, 7, 8, 5, 5, 1, 8, 5, 9, 7, 7, 6, 5, 2, 2, 1, 2, 4, 4, 1, 6, 3, 9, 1, 8, 2, 3, 7, 6, 9, 5, 7, 4, 3, 9, 5, 6, 2, 2, 7, 3, 9, 3, 0, 5, 9, 0, 9, 6, 6, 6, 5, 9, 1, 6, 5, 2, 0, 2, 3, 1, 1, 1, 7, 6, 2, 6, 5, 9, 8, 7, 9, 3, 2, 7, 9, 2, 0, 1, 1, 1, 4, 8, 0, 8, 0, 9, 5, 6, 7, 0, 8, 4, 4, 4, 2, 2, 2, 5, 7, 2, 9, 9, 2, 2, 2, 0, 7, 4, 5, 2, 3, 3, 1, 9, 8, 1, 8, 6, 6, 3, 9, 1, 9, 7, 2, 9, 0, 9, 3, 0, 4, 2, 3, 4, 6, 6, 9, 6, 1, 1, 0, 5, 6, 7, 0, 4, 1, 1, 9, 0, 0, 1, 9, 6, 7, 3, 5, 4, 1, 2, 0, 4, 0, 3, 0, 2, 3, 5, 9, 5, 8, 9, 3, 1, 7, 8, 9, 4, 1, 1, 9, 0, 7, 0, 0, 9, 6, 0, 2, 9, 6, 8, 5, 5, 9, 3, 3, 5, 7, 1, 2, 3, 3, 5, 6, 6, 4, 1, 1, 9, 1, 6, 6, 6, 2, 2, 6, 6, 6, 3, 5, 0, 3, 0, 5, 1, 1, 8, 2, 5, 3, 5, 1, 4, 4, 3, 1, 2, 7, 9, 6, 3, 8, 5, 6, 6, 9, 1, 5, 7, 7, 4, 2, 2, 7, 5, 4, 1, 5, 7, 7, 8, 2, 8, 3, 7, 4, 6, 2, 9, 9, 0, 0, 7, 3, 1, 0, 8, 2, 4, 4, 6, 7, 1, 8, 6, 0, 3, 4, 0, 3, 9, 8, 0, 0, 8, 3, 9, 2, 1, 5, 4, 5, 0, 8, 4, 2, 5, 9, 3, 0, 2, 7, 8, 5, 9, 5, 0, 0, 6, 9, 7, 2, 9, 2, 2, 6, 4, 0, 1, 4, 3, 9, 4, 0, 3, 4, 4, 6, 9, 4, 7, 2, 5, 4, 3, 4, 5, 7, 0, 2, 1, 1, 8, 7, 3, 2, 6, 5, 2, 3, 8, 8, 8, 9, 3, 6, 9, 6, 0, 3, 6, 4, 2, 8, 8, 5, 9, 2, 7, 1, 9, 0, 3, 3, 3, 2, 3, 9, 9, 5, 3, 2, 4, 2, 4, 6, 4, 5, 3, 4, 9, 8, 5, 8, 3, 4, 1, 4, 8, 9, 2, 6, 2, 3, 5, 0, 3, 5, 2, 5, 3, 9, 1, 2, 9, 8, 9, 3, 8, 8, 5, 5, 8, 4, 4, 0, 8, 3, 6, 4, 9, 6, 1, 0, 5, 1, 4, 0, 9, 2, 6, 3, 6, 7, 4, 6, 4, 3, 8, 5, 1, 8, 3, 4, 2, 5, 6, 0, 7, 8, 7, 4, 4, 2, 2, 9, 3, 5, 0, 9, 9, 0, 1, 3, 7, 1, 9, 6, 5, 2, 6, 9, 5, 7, 9, 4, 2, 8, 3, 1, 7, 8, 8, 6, 8, 0, 5, 5, 7, 1, 9, 6, 2, 1, 5, 1, 9, 6, 1, 6, 3, 2, 5, 3, 9, 3, 5, 4, 0, 6, 9, 5, 4, 2, 3, 8, 5, 8, 3, 6, 4, 1, 4, 9, 5, 8, 9, 7, 3, 6, 9, 5, 9, 1, 1, 1, 8, 4, 1, 4, 6, 9, 9, 8, 9, 7, 4, 4, 1, 9, 9, 1, 9, 3, 2, 3, 7, 1, 1, 3, 6, 8, 3, 4, 3, 3, 8, 3, 7, 1, 0, 3, 8, 4, 7, 9, 8, 0, 3, 0, 4, 5, 7, 6, 7, 3, 5, 0, 2, 3, 3, 3, 0, 6, 4, 4, 4, 4, 4, 9, 9, 0, 7, 4, 0, 2, 2, 1, 9, 5, 9, 9, 0, 5, 8, 6, 7, 3, 9, 5, 2, 8, 9, 5, 8, 0, 0, 3, 0, 6, 3, 7, 8, 0, 1, 2, 2, 3, 1, 1, 3, 2, 2, 5, 4, 3, 9, 3, 3, 2, 3, 7, 2, 9, 2, 1, 6, 7, 5, 5, 9, 2, 6, 9, 7, 9, 7, 4, 1, 8, 3, 3, 8, 0, 8, 7, 0, 7, 7, 9, 6, 3, 0, 3, 7, 4, 1, 5, 2, 0, 5, 8, 6, 7, 0, 1, 0, 5, 6, 2, 1, 4, 1, 8, 7, 9, 9, 7, 3, 2, 2, 4, 7, 6, 3, 9, 6, 3, 9, 5, 1, 6, 9, 2, 7, 4, 3, 5, 7, 2, 7, 2, 8, 7, 5, 4, 5, 9, 4, 3, 5, 0, 2, 5, 5, 3, 1, 9, 3, 7, 1, 0, 3, 4, 4, 2, 5, 7, 2, 1, 1, 7, 7, 7, 0, 1, 6, 8, 5, 2, 5, 3, 7, 8, 7, 7, 0, 8, 5, 6, 6, 5, 5, 6, 7, 7, 9, 7, 1, 0, 0, 8, 0, 4, 0, 6, 4, 5, 5, 0, 5, 3, 6, 4, 5, 0, 7, 1, 8, 7, 1, 3, 2, 0, 6, 7, 3, 7, 4, 8, 0, 3, 9, 4, 0, 3, 0, 8, 7, 3, 3, 6, 5, 0, 1, 5, 0, 9, 9, 1, 3, 0, 6, 1, 6, 6, 5, 7, 2, 4, 0, 9, 2, 6, 8, 2, 8, 3, 7, 7, 3, 3, 9, 5, 7, 6, 0, 9, 4, 5, 0, 7, 2, 9, 5, 5, 8, 7, 1, 9, 5, 6, 3, 6, 3, 0, 2, 7, 6, 4, 2, 5, 4, 1, 5, 7, 9, 7, 3, 9, 8, 0, 5, 1, 9, 6, 1, 0, 6, 8, 0, 7, 6, 9, 8, 8, 4, 4, 4, 1, 7, 7, 1, 1, 6, 7, 6, 3, 2, 8, 7, 8, 7, 9, 1, 1, 3, 8, 9, 5, 9, 1, 0, 6, 3, 4, 4, 4, 7, 1, 3, 0, 1, 5, 4, 4, 9, 2, 4, 2, 2, 6, 7, 7, 6, 7, 1, 4, 0, 8, 3, 3, 5, 6, 0, 8, 3, 0, 2, 0, 1, 8, 4, 0, 2, 9, 5, 4, 4, 5, 2, 1, 6, 4, 6, 5, 8, 0, 7, 3, 2, 6, 7, 2, 2, 3, 6, 6, 2, 0, 3, 2, 5, 1, 7, 5, 2, 5, 7, 7, 9, 9, 9, 2, 0, 9, 2, 0, 5, 5, 5, 0, 5, 0, 6, 6, 0, 6, 9, 9, 2, 4, 5, 4, 0, 1, 0, 8, 9, 5, 7, 3, 0, 2, 4, 1, 3, 8, 1, 8, 2, 0, 6, 9, 8, 5, 1, 2, 4, 0, 9, 6, 8, 8, 0, 7, 1, 6, 9, 8, 9, 9, 4, 9, 6, 3, 3, 4, 5, 0, 8, 0, 4, 0, 3, 0, 0, 0, 3, 3, 5, 9, 4, 7, 1, 5, 4, 1, 6, 1, 7, 9, 4, 3, 4, 5, 2, 9, 4, 9, 8, 8, 7, 4, 2, 3, 9, 3, 6, 7, 0, 2, 7, 0, 6, 1, 0, 5, 7, 0, 5, 9, 4, 3, 2, 8, 5, 8, 1, 9, 6, 7, 6, 7, 3, 6, 4, 5, 1, 8, 8, 8, 7, 4, 6, 5, 1, 5, 9, 6, 0, 9, 5, 8, 5, 7, 3, 9, 8, 3, 4, 6, 5, 7, 5, 1, 1, 5, 4, 1, 8, 5, 8, 2, 9, 6, 3, 3, 4, 0, 2, 4, 1, 1, 6, 7, 3, 9, 0, 2, 8, 8, 8, 6, 7, 7, 1, 2, 6, 6, 1, 6, 0, 2, 5, 8, 2, 4, 2, 3, 1, 5, 5, 4, 4, 0, 5, 4, 7, 6, 3, 4, 5, 5, 7, 5, 7, 0, 1, 1, 9, 7, 5, 0, 1, 9, 6, 3, 6, 5, 4, 3, 6, 5, 7, 2, 2, 2, 0, 5, 6, 6, 3, 7, 8, 6, 2, 6, 1, 1, 7, 5, 2, 5, 3, 4, 8, 5, 8, 8, 6, 1, 2, 3, 5, 6, 9, 0, 4, 5, 2, 3, 4, 9, 5, 5, 9, 4, 6, 4, 1, 1, 8, 9, 4, 4, 2, 3, 3, 0, 7, 1, 8, 8, 5, 0, 0, 7, 7, 1, 0, 1, 4, 1, 9, 0, 4, 1, 1, 0, 7, 3, 7, 3, 9, 0, 1, 8, 9, 0, 0, 6, 0, 9, 1, 6, 1, 2, 7, 8, 0, 5, 6, 8, 2, 5, 5, 1, 5, 9, 1, 8, 5, 3, 1, 6, 6, 0, 7, 3, 5, 4, 8, 0, 7, 1, 2, 3, 9, 8, 3, 8, 7, 7, 9, 7, 0, 9, 4, 0, 9, 6, 1, 9, 8, 6, 3, 7, 4, 9, 5, 4, 7, 1, 2, 1, 2, 3, 9, 2, 0, 5, 0, 0, 5, 5, 4, 0, 9, 9, 1, 6, 7, 7, 7, 4, 5, 1, 2, 0, 6, 3, 8, 9, 8, 4, 1, 0, 8, 3, 9, 8, 8, 7, 8, 3, 0, 0, 7, 4, 8, 6, 9, 9, 4, 5, 7, 2, 2, 1, 5, 3, 4, 0, 5, 5, 0, 8, 4, 7, 8, 9, 4, 2, 1, 7, 4, 4, 4, 9, 4, 3, 6, 0, 7, 7, 8, 0, 9, 1, 2, 6, 2, 9, 7, 1, 9, 7, 3, 3, 1, 2, 3, 5, 4, 3, 7, 4, 1, 4, 6, 6, 7, 5, 4, 6, 7, 9, 8, 1, 8, 1, 2, 2, 5, 5, 6, 1, 4, 6, 6, 1, 2, 0, 7, 6, 8, 8, 2, 8, 4, 5, 0, 0, 1, 7, 9, 7, 4, 9, 4, 0, 2, 8, 7, 1, 0, 8, 7, 6, 8, 4, 8, 2, 8, 0, 1, 5, 3, 8, 1, 7, 4, 9, 3, 7, 9, 5, 1, 8, 3, 0, 9, 3, 6, 2, 4, 2, 7, 6, 2, 9, 8, 8, 1, 5, 7, 7, 1, 9, 5, 4, 1, 0, 7, 8, 7, 3, 7, 6, 2, 5, 5, 4, 6, 7, 2, 6, 3, 2, 0, 4, 7, 8, 6, 6, 0, 1, 5, 3, 8, 3, 9, 7, 1, 7, 1, 0, 3, 8, 5, 0, 0, 6, 4, 1, 1, 2, 9, 0, 6, 2, 1, 3, 2, 7, 6, 1, 8, 5, 7, 2, 0, 5, 0, 4, 6, 2, 2, 5, 4, 1, 8, 2, 1, 5, 3, 8, 8, 9, 9, 0, 1, 8, 1, 4, 9, 0, 3, 1, 1, 4, 7, 8, 3, 4, 9, 6, 6, 8, 3, 8, 2, 9, 4, 7, 7, 0, 3, 0, 2, 5, 7, 3, 7, 4, 6, 0, 9, 3, 6, 5, 4, 1, 2, 1, 8, 1, 9, 4, 8, 9, 9, 3, 3, 7, 0, 6, 6, 1, 6, 6, 6, 4, 2, 2, 7, 0, 6, 1, 2, 0, 0, 1, 6, 0, 3, 5, 7, 9, 1, 6, 3, 7, 5, 1, 2, 7, 7, 5, 8, 0, 9, 1, 0, 1, 6, 9, 1, 6, 5, 3, 3, 0, 7, 1, 2, 7, 9, 3, 7, 4, 4, 4, 6, 7, 4, 7, 3, 1, 7, 8, 8, 7, 0, 1, 4, 0, 9, 7, 9, 9, 1, 2, 0, 4, 7, 4, 3, 4, 1, 7, 5, 7, 0, 9, 0, 0, 3, 1, 4, 7, 9, 3, 6, 7, 8, 4, 7, 4, 0, 8, 3, 0, 1, 7, 9, 6, 9, 1, 4, 6, 7, 1, 0, 6, 3, 7, 3, 1, 8, 6, 5, 9, 5, 8, 1, 0, 9, 2, 6, 2, 1, 1, 4, 7, 3, 0, 7, 5, 8, 9, 5, 4, 0, 4, 7, 2, 3, 8, 3, 8, 1, 1, 2, 4, 8, 1, 6, 8, 1, 8, 5, 3, 2, 7, 2, 2, 4, 9, 6, 0, 4, 9, 9, 6, 9, 9, 6, 7, 3, 4, 3, 3, 9, 4, 7, 7, 8, 1, 1, 6, 6, 5, 7, 9, 4, 7, 6, 7, 0, 0, 2, 9, 9, 7, 7, 5, 0, 1, 4, 3, 4, 6, 4, 0, 9, 8, 7, 8, 4, 4, 8, 9, 7, 1, 6, 7, 9, 9, 0, 1, 5, 1, 1, 3, 6, 7, 9, 8, 3, 3, 8, 5, 2, 4, 3, 6, 8, 6, 9, 0, 6, 9, 0, 1, 6, 8, 1, 8, 2, 1, 8, 1, 7, 1, 9, 1, 8, 0, 9, 4, 1, 0, 8, 4, 4, 6, 8, 2, 2, 5, 5, 0, 6, 6, 9, 8, 0, 1, 0, 0, 4, 8, 3, 4, 7, 7, 5, 9, 2, 5, 4, 4, 9, 9, 4, 8, 7, 6, 9, 3, 4, 0, 4, 8, 0, 1, 9, 2, 1, 6, 7, 1, 8, 5, 0, 4, 6, 4, 1, 1, 9, 8, 8, 9, 1, 2, 6, 0, 5, 2, 5, 6, 8, 3, 6, 1, 8, 6, 1, 5, 0, 3, 3, 1, 9, 2, 8, 7, 8, 2, 3, 6, 2, 5, 0, 9, 0, 7, 1, 1, 7, 9, 6, 1, 6, 7, 5, 4, 6, 3, 3, 6, 1, 6, 0, 9, 9, 8, 2, 9, 6, 2, 5, 4, 7, 2, 6, 5, 6, 0, 9, 3, 7, 0, 2, 3, 5, 6, 4, 3, 4, 6, 9, 8, 8, 3, 2, 0, 0, 3, 9, 2, 2, 8, 1, 9, 2, 4, 9, 3, 6, 2, 0, 6, 7, 0, 5, 0, 6, 3, 1, 3, 0, 9, 5, 4, 3, 7, 0, 6, 2, 9, 0, 7, 6, 5, 6, 8, 2, 1, 0, 6, 6, 5, 9, 3, 5, 0, 6, 0, 7, 4, 6, 8, 3, 3, 8, 6, 3, 8, 9, 4, 0, 8, 8, 3, 8, 0, 7, 7, 0, 3, 6, 8, 1, 5, 9, 6, 2, 8, 9, 0, 1, 0, 5, 5, 2, 2, 8, 2, 3, 6, 7, 4, 5, 3, 7, 4, 5, 8, 8, 3, 9, 5, 0, 6, 2, 6, 3, 6, 6, 9, 2, 5, 6, 5, 6, 3, 1, 7, 8, 0, 4, 7, 3, 3, 8, 6, 0, 9, 2, 8, 5, 4, 9, 6, 6, 4, 2, 0, 1, 1, 9, 3, 8, 2, 1, 9, 5, 8, 4, 8, 2, 3, 5, 3, 6, 4, 9, 2, 6, 2, 9, 8, 0, 5, 9, 2, 4, 5, 2, 1, 0, 7, 4, 4, 2, 7, 4, 0, 6, 6, 1, 5, 4, 0, 1, 9, 9, 5, 6, 5, 2, 9, 6, 6, 4, 5, 4, 8, 9, 0, 9, 5, 5, 5, 7, 9, 3, 3, 8, 4, 3, 9, 3, 1, 0, 2, 5, 2, 8, 7, 9, 7, 7, 7, 9, 2, 0, 0, 6, 7, 6, 1, 8, 0, 3, 8, 5, 0, 5, 6, 9, 1, 1, 2, 6, 8, 9, 7, 7, 5, 8, 6, 1, 4, 0, 1, 8, 4, 3, 4, 7, 9, 3, 7, 5, 5, 0, 9, 1, 2, 1, 2, 7, 6, 0, 9, 3, 2, 1, 1, 7, 8, 1, 6, 5, 9, 0, 0, 9, 5, 3, 8, 8, 2, 8, 5, 7, 0, 7, 0, 9, 6, 9, 2, 9, 4, 8, 5, 2, 0, 1, 6, 6, 1, 7, 6, 1, 7, 7, 8, 5, 7, 0, 6, 4, 2, 1, 6, 8, 0, 0, 2, 7, 5, 9, 1, 0, 4, 3, 7, 6, 6, 3, 1, 8, 4, 7, 2, 5, 9, 3, 1, 8, 1, 9, 2, 9, 6, 2, 2, 1, 8, 3, 9, 8, 2, 0, 4, 8, 4, 5, 1, 2, 2, 6, 4, 1, 8, 5, 7, 7, 7, 3, 5, 5, 7, 9, 9, 8, 2, 8, 2, 1, 3, 3, 4, 8, 9, 4, 0, 7, 6, 2, 8, 1, 0, 6, 1, 6, 5, 2, 9, 7, 2, 8, 7, 3, 7, 8, 1, 2, 1, 7, 4, 8, 8, 5, 0, 2, 6, 6, 1, 2, 6, 5, 0, 1, 5, 5, 2, 5, 1, 9, 8, 7, 1, 2, 7, 0, 9, 3, 1, 9, 0, 4, 6, 6, 5, 9, 9, 4, 2, 7, 1, 8, 1, 4, 2, 3, 7, 8, 4, 6, 4, 5, 1, 2, 9, 3, 5, 8, 0, 1, 9, 6, 7, 3, 7, 4, 4, 0, 6, 2, 1, 1, 3, 0, 7, 0, 5, 9, 8, 9, 3, 7, 9, 9, 4, 8, 8, 0, 1, 6, 4, 0, 6, 8, 1, 6, 1, 6, 3, 2, 7, 8, 7, 0, 4, 3, 4, 4, 5, 7, 9, 2, 5, 2, 4, 5, 0, 1, 7, 6, 7, 6, 0, 0, 0, 5, 1, 1, 2, 4, 6, 9, 8, 1, 6, 1, 6, 8, 5, 4, 0, 4, 0, 4, 9, 3, 8, 5, 2, 8, 6, 2, 8, 0, 4, 4, 0, 8, 7, 5, 2, 8, 9, 2, 9, 5, 9, 2, 1, 0, 4, 1, 7, 7, 1, 7, 3, 5, 8, 7, 2, 5, 1, 5, 2, 0, 6, 0, 1, 2, 4, 4, 8, 0, 3, 2, 0, 3, 5, 1, 3, 3, 0, 5, 1, 8, 3, 1, 8, 7, 8, 4, 2, 0, 0, 7, 8, 1, 3, 9, 0, 2, 8, 1, 4, 8, 8, 3, 0, 8, 5, 7, 5, 4, 7, 7, 6, 1, 8, 1, 9, 7, 0, 3, 1, 6, 5, 5, 3, 8, 9, 4, 0, 9, 5, 1, 7, 2, 1, 5, 2, 8, 3, 3, 6, 7, 1, 3, 4, 4, 5, 7, 0, 6, 7, 3, 3, 7, 8, 8, 2, 5, 6, 9, 7, 0, 2, 9, 3, 0, 5, 5, 6, 9, 1, 4, 1, 5, 6, 4, 1, 4, 0, 3, 3, 6, 3, 0, 8, 6, 7, 5, 5, 7, 0, 7, 9, 4, 4, 2, 9, 1, 7, 1, 8, 8, 8, 5, 8, 3, 8, 9, 3, 0, 0, 2, 1, 8, 4, 4, 0, 0, 9, 5, 3, 1, 5, 1, 3, 5, 0, 2, 6, 1, 5, 3, 0, 8, 6, 9, 6, 9, 6, 0, 4, 1, 6, 6, 4, 9, 1, 4, 9, 7, 8, 2, 6, 2, 9, 7, 8, 5, 6, 9, 6, 0, 0, 8, 1, 3, 2, 7, 5, 8, 4, 5, 6, 8, 9, 1, 9, 1, 8, 1, 5]\n",
            "[9, 2, 1, 1, 6, 1, 2, 6, 5, 7, 4, 5, 7, 3, 4, 1, 2, 6, 8, 0, 6, 7, 7, 9, 1, 2, 6, 0, 9, 3, 8, 8, 3, 3, 8, 0, 7, 5, 7, 9, 0, 1, 3, 9, 4, 7, 2, 1, 2, 4, 6, 6, 5, 8, 2, 2, 8, 6, 8, 0, 7, 7, 8, 5, 1, 1, 2, 3, 7, 8, 7, 0, 2, 6, 2, 3, 1, 2, 8, 4, 1, 8, 5, 9, 5, 0, 3, 2, 0, 6, 5, 3, 2, 7, 1, 8, 0, 1, 4, 2, 3, 6, 7, 2, 7, 8, 5, 7, 9, 4, 2, 5, 7, 0, 5, 2, 8, 6, 7, 8, 0, 0, 5, 9, 3, 0, 8, 4, 1, 5, 4, 1, 5, 1, 8, 6, 6, 1, 2, 5, 1, 6, 0, 0, 1, 2, 1, 3, 2, 2, 6, 4, 1, 1, 5, 0, 4, 7, 9, 3, 7, 2, 3, 9, 0, 9, 2, 7, 4, 2, 3, 5, 2, 1, 2, 1, 3, 0, 9, 1, 0, 9, 3, 6, 7, 9, 9, 4, 4, 7, 1, 2, 3, 4, 3, 2, 8, 4, 6, 1, 1, 0, 2, 9, 2, 4, 0, 7, 9, 3, 4, 1, 8, 2, 1, 3, 1, 2, 7, 2, 8, 5, 2, 0, 7, 7, 6, 2, 7, 0, 7, 8, 9, 2, 9, 0, 5, 1, 4, 4, 5, 4, 9, 2, 2, 8, 6, 6, 2, 2, 9, 7, 6, 5, 5, 2, 8, 5, 2, 3, 0, 4, 8, 0, 0, 4, 3, 8, 7, 3, 1, 6, 0, 2, 3, 0, 8, 3, 7, 2, 0, 1, 6, 3, 0, 2, 4, 7, 5, 3, 5, 9, 5, 6, 5, 5, 1, 9, 8, 8, 3, 3, 6, 8, 0, 0, 2, 9, 7, 7, 1, 3, 6, 4, 8, 4, 7, 1, 4, 4, 8, 2, 6, 5, 4, 2, 7, 7, 7, 3, 3, 7, 3, 7, 1, 3, 7, 2, 2, 3, 4, 0, 3, 1, 6, 1, 9, 4, 9, 9, 1, 7, 8, 2, 3, 0, 2, 4, 8, 2, 1, 2, 2, 4, 4, 7, 3, 2, 2, 5, 0, 7, 9, 4, 0, 9, 3, 9, 3, 2, 5, 6, 2, 3, 5, 8, 1, 6, 2, 2, 6, 4, 9, 5, 2, 0, 4, 6, 1, 2, 0, 9, 7, 0, 4, 4, 3, 6, 2, 1, 0, 6, 7, 2, 9, 4, 2, 1, 5, 4, 5, 3, 8, 5, 8, 4, 4, 8, 9, 8, 6, 2, 4, 4, 2, 4, 1, 6, 1, 3, 0, 7, 8, 8, 4, 5, 3, 1, 9, 5, 3, 0, 0, 1, 2, 2, 9, 4, 0, 2, 3, 6, 2, 0, 0, 3, 3, 8, 2, 8, 9, 4, 0, 7, 0, 4, 4, 9, 6, 9, 5, 9, 3, 7, 5, 7, 8, 1, 0, 0, 4, 6, 8, 9, 7, 9, 1, 2, 7, 3, 6, 0, 5, 7, 1, 8, 2, 2, 2, 2, 2, 4, 6, 1, 9, 8, 5, 1, 9, 1, 2, 8, 3, 8, 9, 2, 4, 2, 8, 2, 2, 2, 5, 8, 8, 5, 3, 9, 4, 3, 4, 4, 5, 1, 0, 1, 2, 0, 6, 9, 6, 1, 5, 1, 1, 1, 9, 3, 4, 5, 3, 2, 6, 6, 4, 0, 0, 5, 8, 6, 3, 4, 6, 7, 7, 8, 9, 0, 4, 8, 7, 6, 7, 9, 3, 4, 3, 4, 5, 0, 1, 1, 5, 9, 4, 2, 5, 7, 8, 1, 2, 9, 7, 7, 1, 0, 9, 6, 2, 9, 0, 7, 3, 8, 2, 7, 0, 2, 3, 6, 2, 2, 6, 9, 3, 0, 7, 8, 0, 2, 9, 6, 2, 6, 4, 4, 0, 4, 4, 4, 7, 5, 5, 4, 9, 1, 0, 5, 4, 4, 4, 0, 0, 4, 5, 2, 0, 4, 5, 4, 1, 8, 1, 1, 6, 4, 3, 8, 2, 8, 6, 7, 0, 4, 3, 8, 5, 0, 8, 2, 9, 0, 8, 9, 6, 3, 2, 9, 6, 4, 5, 0, 9, 5, 3, 6, 6, 8, 3, 6, 8, 1, 4, 0, 9, 9, 9, 4, 8, 9, 1, 3, 7, 3, 0, 6, 6, 7, 1, 2, 0, 8, 7, 2, 6, 6, 6, 4, 1, 5, 9, 0, 0, 1, 6, 5, 0, 2, 3, 3, 3, 8, 1, 6, 8, 5, 7, 7, 8, 7, 2, 0, 7, 6, 8, 0, 9, 7, 6, 1, 0, 6, 4, 8, 0, 6, 3, 6, 8, 4, 0, 8, 9, 2, 4, 5, 9, 1, 4, 4, 9, 2, 1, 7, 9, 5, 8, 3, 9, 7, 1, 1, 1, 4, 9, 5, 3, 8, 2, 4, 9, 4, 8, 3, 2, 2, 2, 7, 1, 4, 9, 3, 5, 8, 5, 4, 7, 4, 8, 5, 9, 3, 3, 4, 7, 1, 7, 3, 5, 4, 6, 5, 8, 3, 9, 1, 2, 6, 1, 9, 8, 2, 7, 1, 3, 7, 5, 9, 9, 1, 8, 6, 5, 7, 1, 9, 8, 1, 0, 0, 6, 1, 7, 1, 1, 5, 7, 1, 5, 2, 2, 3, 3, 1, 1, 6, 9, 4, 3, 7, 7, 8, 8, 9, 9, 4, 1, 3, 4, 0, 6, 5, 9, 6, 0, 5, 5, 1, 5, 7, 8, 7, 5, 3, 2, 4, 0, 4, 0, 2, 0, 2, 5, 5, 1, 2, 0, 9, 3, 7, 8, 4, 8, 3, 4, 7, 0, 7, 4, 8, 8, 3, 4, 4, 3, 4, 9, 0, 2, 4, 9, 1, 8, 1, 7, 5, 5, 6, 0, 2, 1, 0, 7, 4, 0, 0, 6, 7, 9, 0, 0, 5, 9, 6, 8, 2, 6, 3, 0, 2, 9, 3, 7, 7, 1, 4, 6, 0, 5, 0, 9, 9, 8, 8, 3, 0, 2, 4, 6, 6, 3, 2, 3, 5, 6, 9, 3, 4, 7, 7, 6, 3, 5, 5, 6, 0, 5, 9, 6, 3, 7, 5, 1, 9, 8, 8, 9, 9, 2, 7, 2, 2, 3, 8, 7, 2, 6, 5, 4, 3, 6, 1, 4, 9, 3, 1, 6, 5, 0, 5, 7, 5, 2, 3, 3, 9, 4, 3, 6, 0, 4, 7, 0, 4, 9, 6, 0, 3, 4, 7, 0, 2, 1, 1, 4, 4, 8, 5, 9, 0, 1, 6, 5, 1, 4, 4, 8, 4, 7, 7, 3, 8, 1, 1, 9, 8, 1, 3, 3, 7, 5, 1, 5, 7, 8, 9, 6, 3, 5, 8, 4, 4, 3, 8, 6, 5, 5, 6, 7, 1, 5, 3, 5, 4, 8, 6, 2, 1, 1, 7, 9, 6, 2, 7, 3, 0, 8, 2, 2, 3, 0, 4, 4, 9, 6, 8, 2, 5, 9, 0, 3, 9, 2, 9, 8, 7, 4, 2, 2, 5, 3, 7, 2, 7, 2, 9, 3, 7, 0, 9, 3, 8, 4, 4, 7, 2, 4, 6, 2, 0, 7, 8, 4, 2, 4, 5, 5, 0, 4, 5, 5, 8, 1, 1, 7, 4, 6, 9, 6, 8, 7, 4, 6, 1, 6, 7, 7, 4, 9, 8, 5, 1, 1, 0, 2, 0, 9, 1, 1, 9, 0, 5, 5, 2, 0, 7, 6, 2, 0, 1, 3, 1, 3, 4, 7, 2, 2, 9, 5, 2, 9, 6, 3, 4, 4, 0, 0, 5, 2, 2, 5, 2, 1, 2, 2, 5, 4, 3, 8, 6, 2, 4, 0, 6, 4, 6, 8, 3, 8, 6, 0, 4, 4, 8, 2, 6, 5, 2, 2, 3, 0, 1, 9, 0, 9, 1, 9, 6, 5, 2, 2, 7, 3, 8, 7, 0, 3, 6, 7, 5, 5, 9, 7, 0, 6, 0, 3, 4, 4, 4, 5, 7, 1, 3, 4, 0, 6, 5, 1, 6, 7, 3, 2, 8, 8, 4, 8, 9, 4, 4, 4, 5, 2, 7, 8, 5, 3, 8, 5, 2, 2, 8, 9, 8, 4, 3, 1, 8, 8, 6, 0, 9, 4, 4, 8, 1, 3, 6, 1, 9, 2, 1, 2, 4, 7, 9, 6, 6, 3, 4, 4, 2, 4, 5, 0, 2, 8, 3, 7, 6, 4, 0, 0, 7, 2, 8, 2, 4, 3, 0, 2, 1, 7, 7, 5, 4, 7, 2, 4, 7, 3, 3, 1, 3, 3, 6, 4, 1, 7, 6, 4, 7, 1, 0, 6, 5, 8, 4, 6, 7, 9, 5, 0, 7, 9, 5, 1, 2, 9, 5, 5, 3, 9, 9, 1, 2, 7, 8, 0, 1, 7, 2, 7, 1, 1, 5, 5, 6, 6, 5, 9, 5, 5, 2, 3, 9, 3, 8, 5, 4, 0, 0, 0, 5, 7, 4, 5, 2, 6, 4, 4, 7, 3, 0, 5, 1, 7, 2, 3, 4, 8, 7, 8, 7, 1, 2, 3, 2, 9, 7, 5, 6, 4, 0, 7, 1, 2, 4, 9, 3, 6, 4, 4, 3, 0, 0, 2, 3, 6, 1, 3, 7, 2, 5, 3, 9, 1, 1, 8, 2, 9, 5, 0, 5, 4, 6, 7, 1, 1, 5, 3, 8, 7, 8, 3, 8, 9, 6, 6, 1, 1, 3, 5, 6, 7, 1, 9, 9, 6, 2, 7, 0, 1, 1, 9, 6, 3, 7, 2, 8, 1, 8, 0, 7, 9, 8, 9, 3, 2, 0, 4, 0, 6, 5, 8, 3, 8, 7, 5, 7, 3, 7, 6, 7, 0, 2, 2, 5, 3, 5, 1, 1, 7, 7, 6, 3, 6, 6, 2, 8, 6, 3, 3, 4, 9, 9, 2, 5, 2, 2, 7, 8, 6, 7, 9, 1, 6, 9, 4, 7, 3, 4, 3, 3, 1, 8, 8, 5, 3, 8, 0, 6, 6, 3, 2, 0, 4, 7, 3, 6, 8, 3, 9, 7, 3, 1, 7, 5, 8, 8, 6, 0, 4, 4, 4, 8, 5, 7, 0, 6, 6, 7, 7, 3, 9, 2, 5, 9, 7, 1, 7, 2, 4, 5, 1, 4, 5, 4, 5, 0, 4, 2, 1, 4, 3, 8, 4, 5, 9, 4, 1, 1, 7, 2, 4, 5, 0, 3, 9, 7, 5, 0, 8, 8, 8, 9, 1, 1, 6, 4, 1, 4, 3, 4, 9, 9, 0, 0, 6, 9, 4, 9, 0, 6, 1, 8, 9, 2, 9, 4, 8, 3, 7, 2, 3, 6, 2, 5, 6, 1, 9, 0, 2, 2, 9, 9, 0, 8, 3, 3, 6, 6, 0, 4, 6, 6, 6, 5, 0, 2, 7, 8, 7, 4, 6, 6, 6, 5, 2, 4, 2, 9, 5, 2, 6, 7, 0, 1, 9, 7, 5, 0, 7, 7, 5, 0, 5, 0, 8, 4, 7, 7, 8, 2, 6, 7, 3, 3, 7, 7, 7, 8, 2, 9, 5, 7, 2, 5, 7, 5, 1, 3, 0, 4, 9, 9, 2, 3, 7, 0, 4, 4, 9, 3, 6, 1, 9, 9, 1, 9, 7, 2, 7, 6, 5, 7, 3, 7, 5, 5, 4, 0, 7, 3, 3, 2, 0, 2, 9, 9, 0, 3, 6, 8, 3, 8, 8, 4, 4, 1, 8, 6, 6, 7, 0, 2, 4, 3, 0, 0, 1, 0, 8, 4, 9, 0, 7, 3, 7, 7, 1, 5, 8, 7, 2, 9, 9, 1, 2, 6, 1, 1, 1, 8, 8, 1, 3, 7, 5, 2, 6, 8, 4, 8, 9, 4, 1, 3, 1, 9, 8, 1, 3, 1, 8, 0, 9, 9, 7, 6, 6, 4, 2, 1, 1, 7, 9, 4, 2, 0, 4, 6, 6, 8, 1, 9, 2, 4, 2, 2, 4, 8, 7, 1, 8, 5, 5, 7, 7, 6, 6, 2, 9, 0, 6, 0, 5, 5, 0, 2, 1, 0, 3, 7, 9, 3, 7, 2, 5, 7, 9, 8, 9, 1, 2, 8, 3, 2, 0, 6, 0, 8, 3, 8, 0, 8, 6, 0, 8, 8, 3, 2, 9, 3, 2, 0, 8, 5, 9, 0, 1, 1, 1, 9, 5, 1, 3, 3, 6, 0, 8, 0, 1, 3, 8, 8, 0, 7, 5, 0, 6, 7, 3, 3, 2, 4, 4, 5, 5, 4, 4, 3, 9, 1, 1, 7, 3, 8, 7, 2, 2, 9, 3, 9, 9, 0, 1, 7, 1, 3, 8, 1, 2, 9, 3, 4, 0, 0, 7, 6, 9, 9, 5, 5, 7, 0, 9, 3, 3, 6, 9, 8, 3, 2, 2, 3, 9, 2, 3, 6, 7, 3, 0, 6, 8, 1, 8, 7, 3, 4, 5, 2, 2, 9, 1, 9, 4, 9, 1, 0, 2, 8, 8, 7, 7, 7, 7, 2, 6, 0, 7, 5, 8, 5, 0, 0, 0, 4, 9, 2, 6, 1, 1, 9, 3, 1, 2, 2, 2, 3, 7, 5, 7, 4, 4, 4, 1, 2, 3, 5, 4, 2, 9, 1, 5, 9, 3, 6, 6, 4, 0, 1, 7, 7, 6, 6, 7, 7, 6, 0, 4, 3, 2, 7, 8, 7, 2, 8, 0, 8, 7, 4, 4, 2, 7, 0, 9, 9, 3, 1, 5, 9, 3, 1, 8, 3, 3, 5, 7, 7, 9, 8, 3, 5, 9, 3, 7, 9, 3, 6, 0, 4, 5, 7, 7, 2, 3, 5, 3, 1, 1, 9, 2, 3, 9, 5, 5, 7, 2, 6, 9, 0, 2, 1, 9, 7, 1, 5, 0, 5, 5, 0, 3, 5, 0, 3, 3, 7, 4, 2, 6, 8, 5, 9, 2, 1, 0, 5, 5, 8, 5, 3, 7, 4, 4, 4, 9, 0, 0, 0, 9, 1, 2, 3, 1, 5, 1, 8, 5, 1, 1, 2, 9, 4, 0, 5, 2, 8, 0, 2, 9, 8, 2, 4, 8, 3, 8, 0, 6, 2, 0, 2, 8, 5, 6, 9, 0, 9, 5, 8, 6, 9, 1, 2, 7, 2, 1, 6, 0, 0, 6, 5, 0, 4, 8, 7, 5, 2, 6, 3, 8, 6, 3, 1, 9, 2, 9, 7, 2, 6, 4, 8, 3, 4, 8, 5, 2, 8, 3, 3, 1, 2, 2, 0, 4, 9, 0, 6, 1, 9, 9, 8, 1, 8, 8, 3, 3, 3, 8, 5, 9, 2, 2, 8, 7, 0, 0, 6, 0, 0, 5, 7, 5, 0, 7, 9, 1, 2, 4, 8, 9, 3, 5, 6, 0, 4, 4, 7, 8, 9, 1, 8, 2, 5, 5, 3, 3, 1, 8, 8, 3, 0, 7, 0, 1, 8, 6, 3, 6, 9, 8, 9, 8, 8, 4, 9, 1, 8, 4, 2, 7, 7, 0, 5, 1, 1, 0, 6, 4, 6, 0, 4, 3, 5, 1, 4, 3, 3, 4, 4, 5, 6, 9, 8, 3, 3, 1, 0, 6, 1, 4, 4, 6, 8, 4, 9, 0, 9, 9, 5, 0, 0, 0, 5, 0, 3, 9, 7, 3, 6, 1, 9, 4, 1, 6, 4, 5, 4, 1, 4, 8, 5, 9, 4, 5, 3, 8, 8, 3, 6, 6, 8, 9, 0, 5, 0, 2, 4, 9, 3, 2, 2, 8, 5, 9, 2, 3, 1, 6, 3, 2, 2, 7, 2, 1, 2, 4, 4, 1, 4, 8, 5, 0, 8, 5, 2, 7, 8, 1, 5, 9, 8, 0, 9, 0, 9, 3, 7, 5, 7, 9, 6, 0, 7, 1, 5, 5, 9, 5, 4, 4, 2, 4, 5, 9, 7, 4, 2, 6, 9, 9, 4, 2, 1, 3, 7, 1, 8, 7, 9, 1, 8, 9, 3, 7, 7, 7, 1, 7, 4, 4, 2, 2, 4, 5, 2, 8, 9, 0, 8, 0, 0, 7, 7, 5, 0, 1, 9, 6, 0, 4, 9, 2, 6, 6, 7, 1, 0, 5, 8, 7, 6, 8, 6, 3, 6, 1, 7, 4, 8, 7, 4, 1, 5, 8, 2, 4, 2, 4, 4, 1, 8, 4, 7, 2, 9, 6, 5, 6, 3, 3, 8, 8, 2, 0, 7, 2, 4, 0, 3, 1, 0, 8, 1, 7, 7, 2, 6, 3, 1, 4, 7, 0, 6, 0, 6, 2, 7, 2, 8, 3, 2, 3, 0, 9, 7, 0, 5, 4, 9, 4, 4, 5, 0, 2, 8, 4, 0, 3, 4, 0, 4, 1, 6, 4, 6, 7, 1, 6, 6, 1, 1, 1, 5, 6, 3, 8, 3, 4, 1, 7, 4, 9, 8, 8, 4, 5, 5, 6, 7, 4, 9, 1, 6, 5, 3, 7, 0, 1, 1, 8, 6, 2, 0, 5, 9, 6, 3, 8, 1, 0, 4, 2, 2, 2, 8, 4, 4, 2, 1, 9, 6, 7, 9, 5, 7, 6, 1, 5, 8, 8, 2, 6, 6, 6, 3, 1, 0, 4, 0, 3, 9, 8, 4, 0, 8, 4, 3, 9, 7, 1, 1, 9, 5, 1, 9, 6, 4, 2, 3, 8, 3, 7, 1, 3, 0, 7, 3, 5, 8, 1, 4, 2, 3, 4, 8, 8, 8, 4, 6, 1, 8, 9, 3, 0, 6, 0, 2, 9, 7, 3, 9, 0, 1, 2, 5, 9, 6, 0, 5, 0, 5, 8, 5, 3, 6, 2, 8, 6, 0, 9, 3, 0, 5, 8, 1, 1, 2, 6, 0, 6, 8, 6, 6, 3, 3, 9, 5, 4, 3, 3, 1, 8, 1, 5, 2, 0, 0, 7, 9, 3, 2, 7, 1, 7, 6, 1, 6, 2, 2, 6, 7, 2, 4, 9, 3, 2, 5, 2, 8, 6, 2, 6, 7, 6, 2, 1, 1, 0, 3, 5, 5, 2, 6, 6, 1, 8, 8, 4, 4, 4, 6, 2, 9, 8, 3, 7, 6, 6, 0, 2, 4, 5, 4, 9, 8, 1, 2, 3, 6, 4, 9, 4, 3, 7, 1, 4, 6, 0, 1, 1, 0, 2, 6, 9, 9, 0, 1, 2, 6, 3, 7, 6, 1, 1, 7, 7, 8, 7, 6, 5, 1, 7, 2, 0, 7, 4, 1, 6, 2, 6, 5, 8, 5, 2, 5, 8, 4, 0, 9, 0, 8, 1, 3, 8, 2, 8, 2, 0, 2, 3, 8, 7, 8, 2, 2, 0, 6, 0, 4, 5, 4, 4, 1, 1, 9, 7, 0, 6, 6, 1, 4, 2, 7, 5, 1, 8, 3, 3, 7, 9, 8, 7, 2, 7, 9, 7, 2, 2, 2, 4, 3, 3, 9, 1, 1, 4, 8, 0, 9, 7, 5, 2, 8, 8, 3, 6, 3, 8, 8, 2, 2, 5, 9, 2, 3, 8, 3, 2, 8, 3, 3, 1, 1, 3, 0, 1, 8, 4, 1, 5, 8, 1, 5, 8, 0, 7, 8, 7, 5, 9, 5, 5, 3, 6, 7, 8, 4, 5, 1, 0, 6, 2, 4, 3, 7, 7, 9, 7, 2, 5, 8, 5, 8, 5, 3, 0, 9, 7, 2, 0, 6, 8, 4, 0, 7, 4, 7, 2, 8, 6, 7, 0, 0, 4, 0, 6, 7, 8, 1, 3, 8, 1, 5, 3, 6, 1, 1, 4, 6, 9, 8, 2, 8, 2, 7, 7, 1, 3, 0, 3, 0, 7, 8, 7, 6, 5, 2, 4, 7, 5, 8, 8, 9, 7, 3, 2, 4, 8, 3, 9, 5, 7, 6, 2, 6, 7, 3, 8, 5, 1, 8, 9, 2, 2, 1, 6, 2, 7, 4, 0, 4, 6, 8, 9, 7, 9, 4, 6, 8, 2, 6, 0, 6, 3, 3, 1, 5, 6, 7, 5, 0, 7, 6, 2, 0, 5, 1, 1, 6, 7, 3, 8, 8, 7, 7, 9, 9, 5, 5, 3, 0, 7, 1, 4, 6, 0, 9, 9, 1, 6, 8, 0, 5, 7, 8, 8, 2, 7, 6, 6, 2, 8, 1, 2, 4, 8, 0, 7, 5, 8, 7, 7, 5, 5, 0, 7, 4, 2, 2, 0, 3, 2, 2, 0, 6, 9, 4, 5, 4, 4, 1, 2, 5, 7, 0, 5, 6, 2, 5, 0, 4, 0, 0, 6, 7, 2, 7, 2, 3, 4, 5, 1, 2, 4, 4, 2, 4, 3, 9, 9, 2, 3, 0, 4, 0, 0, 1, 9, 3, 9, 2, 8, 4, 9, 4, 7, 9, 1, 5, 8, 1, 4, 2, 2, 4, 8, 0, 3, 3, 0, 0, 4, 3, 3, 1, 6, 8, 4, 7, 3, 0, 6, 5, 2, 8, 8, 6, 1, 4, 8, 9, 8, 5, 8, 7, 0, 7, 2, 7, 1, 5, 5, 8, 3, 2, 8, 5, 9, 9, 4, 0, 6, 7, 1, 8, 8, 8, 7, 2, 0, 9, 7, 9, 6, 9, 4, 1, 4, 7, 2, 5, 2, 6, 2, 9, 0, 7, 1, 9, 7, 6, 5, 3, 8, 4, 9, 3, 7, 5, 7, 5, 1, 3, 3, 4, 4, 7, 5, 3, 5, 5, 8, 7, 7, 4, 6, 5, 5, 3, 4, 8, 3, 0, 9, 2, 3, 2, 2, 7, 4, 5, 9, 1, 4, 8, 1, 4, 7, 8, 2, 0, 7, 2, 0, 2, 2, 3, 2, 3, 0, 5, 2, 3, 2, 8, 5, 0, 8, 4, 6, 4, 8, 3, 5, 1, 3, 9, 1, 4, 9, 0, 7, 4, 2, 0, 2, 5, 0, 3, 5, 6, 5, 1, 7, 9, 4, 6, 7, 4, 0, 2, 8, 1, 0, 9, 9, 9, 8, 4, 6, 9, 7, 7, 5, 8, 8, 7, 5, 3, 5, 5, 0, 8, 9, 7, 0, 1, 4, 7, 1, 3, 4, 3, 6, 2, 9, 4, 7, 7, 6, 5, 0, 8, 8, 6, 8, 5, 4, 0, 7, 3, 0, 0, 6, 5, 2, 0, 7, 7, 7, 1, 5, 2, 1, 8, 5, 2, 2, 8, 7, 7, 2, 7, 1, 0, 9, 5, 3, 9, 3, 5, 0, 7, 4, 4, 6, 1, 6, 5, 9, 3, 2, 8, 5, 7, 3, 1, 2, 0, 8, 1, 8, 5, 6, 9, 3, 3, 8, 6, 4, 2, 0, 0, 4, 2, 3, 4, 5, 9, 1, 1, 9, 4, 7, 0, 3, 2, 0, 0, 7, 7, 0, 7, 8, 2, 5, 6, 4, 3, 8, 9, 7, 4, 9, 5, 3, 7, 2, 4, 1, 9, 7, 8, 1, 3, 9, 3, 4, 7, 8, 6, 5, 8, 9, 9, 9, 7, 0, 2, 2, 3, 4, 0, 9, 5, 1, 9, 2, 8, 3, 0, 0, 4, 1, 9, 3, 3, 5, 1, 5, 5, 9, 2, 8, 5, 5, 9, 5, 6, 6, 9, 3, 5, 4, 2, 0, 9, 4, 8, 1, 9, 2, 6, 6, 4, 8, 8, 7, 7, 3, 9, 3, 9, 3, 8, 2, 2, 9, 0, 3, 6, 5, 9, 0, 4, 6, 4, 1, 3, 1, 8, 7, 8, 8, 7, 7, 0, 5, 7, 3, 6, 0, 2, 2, 3, 6, 8, 8, 8, 0, 2, 3, 2, 8, 8, 1, 4, 1, 1, 6, 3, 2, 2, 8, 0, 0, 4, 1, 0, 2, 7, 0, 6, 7, 9, 9, 2, 7, 0, 9, 9, 8, 4, 8, 3, 4, 0, 9, 6, 2, 4, 3, 8, 6, 3, 6, 9, 8, 6, 7, 3, 7, 8, 8, 2, 4, 3, 8, 8, 1, 5, 8, 9, 8, 7, 8, 0, 3, 3, 3, 0, 9, 3, 9, 9, 1, 5, 9, 3, 1, 7, 0, 1, 0, 7, 3, 8, 8, 4, 1, 7, 0, 5, 0, 4, 1, 7, 1, 7, 9, 6, 3, 9, 2, 6, 5, 3, 5, 8, 8, 2, 4, 7, 7, 4, 2, 0, 5, 5, 3, 6, 2, 5, 4, 8, 5, 6, 9, 1, 3, 1, 4, 5, 9, 3, 9, 0, 2, 5, 6, 1, 5, 8, 5, 6, 6, 9, 1, 9, 1, 7, 1, 8, 0, 3, 4, 0, 6, 8, 3, 3, 8, 8, 0, 3, 6, 8, 1, 6, 3, 3, 2, 4, 1, 8, 3, 2, 0, 2, 4, 2, 3, 9, 2, 3, 0, 4, 5, 7, 1, 6, 1, 2, 6, 3, 8, 5, 1, 6, 5, 4, 8, 1, 7, 1, 6, 4, 9, 4, 2, 1, 5, 6, 0, 5, 8, 7, 7, 7, 2, 7, 5, 4, 2, 2, 0, 4, 8, 9, 9, 5, 8, 0, 4, 4, 1, 3, 7, 3, 0, 0, 9, 8, 5, 3, 0, 7, 1, 9, 5, 8, 4, 0, 9, 9, 1, 2, 2, 0, 2, 4, 5, 1, 6, 2, 8, 1, 4, 8, 3, 4, 0, 0, 3, 6, 7, 2, 4, 1, 7, 3, 0, 7, 9, 9, 1, 5, 5, 9, 1, 4, 0, 1, 8, 8, 3, 5, 7, 8, 0, 4, 2, 7, 2, 9, 5, 0, 8, 7, 8, 6, 4, 9, 2, 5, 5, 9, 9, 4, 4, 4, 0, 0, 6, 8, 7, 3, 2, 7, 5, 2, 7, 0, 3, 4, 4, 8, 4, 0, 2, 7, 0, 5, 0, 6, 4, 8, 6, 0, 2, 2, 2, 5, 5, 8, 0, 7, 0, 8, 9, 0, 2, 1, 2, 5, 1, 3, 2, 9, 6, 4, 9, 9, 3, 4, 4, 1, 2, 8, 0, 3, 4, 2, 2, 3, 2, 3, 5, 5, 2, 3, 6, 0, 8, 5, 4, 0, 1, 2, 2, 2, 2, 7, 9, 6, 2, 3, 3, 0, 8, 5, 4, 4, 0, 3, 3, 5, 2, 5, 1, 5, 5, 1, 9, 5, 2, 1, 8, 8, 0, 9, 6, 6, 0, 3, 0, 1, 8, 3, 4, 2, 1, 8, 0, 3, 0, 8, 5, 1, 5, 0, 2, 6, 3, 9, 8, 2, 8, 1, 0, 2, 6, 2, 0, 3, 7, 5, 0, 2, 2, 0, 8, 2, 2, 1, 8, 6, 8, 2, 9, 2, 6, 8, 5, 2, 7, 3, 2, 2, 6, 0, 6, 8, 5, 2, 1, 5, 4, 8, 2, 9, 0, 6, 3, 6, 4, 2, 7, 7, 9, 0, 2, 9, 0, 0, 5, 8, 7, 7, 0, 7, 7, 0, 7, 7, 2, 9, 7, 4, 2, 2, 3, 8, 0, 1, 9, 8, 0, 2, 2, 6, 3, 8, 0, 7, 6, 3, 3, 8, 1, 3, 8, 7, 3, 0, 3, 2, 8, 8, 9, 1, 3, 2, 1, 4, 4, 0, 4, 6, 7, 3, 9, 4, 9, 0, 4, 6, 5, 7, 0, 8, 1, 7, 5, 4, 9, 5, 7, 3, 2, 0, 9, 8, 7, 3, 7, 7, 4, 7, 5, 8, 5, 4, 4, 6, 2, 3, 8, 9, 7, 1, 3, 4, 2, 9, 7, 1, 2, 2, 6, 0, 7, 5, 4, 5, 2, 8, 9, 4, 9, 9, 1, 4, 0, 1, 5, 5, 5, 6, 8, 1, 5, 5, 7, 7, 9, 3, 3, 1, 1, 4, 6, 6, 9, 3, 8, 4, 2, 8, 4, 5, 6, 9, 0, 2, 8, 4, 8, 4, 3, 6, 1, 6, 3, 3, 8, 4, 9, 9, 0, 7, 9, 5, 3, 1, 5, 2, 8, 4, 9, 0, 1, 6, 0, 5, 8, 1, 9, 3, 0, 8, 1, 8, 2, 2, 5, 6, 5, 0, 1, 4, 0, 7, 9, 0, 1, 3, 9, 5, 1, 4, 1, 1, 1, 8, 0, 9, 5, 4, 2, 3, 7, 7, 7, 2, 0, 9, 1, 9, 4, 2, 0, 5, 6, 2, 7, 9, 4, 6, 4, 9, 0, 4, 0, 2, 7, 9, 6, 1, 1, 2, 0, 8, 8, 7, 6, 0, 7, 5, 7, 6, 1, 8, 1, 4, 9, 8, 9, 4, 1, 0, 0, 0, 3, 0, 6, 4, 1, 9, 7, 1, 2, 2, 5, 3, 4, 1, 7, 4, 7, 0, 2, 8, 8, 1, 3, 9, 9, 6, 0, 4, 9, 3, 9, 8, 5, 3, 8, 4, 7, 1, 4, 1, 9, 6, 8, 3, 2, 4, 8, 1, 1, 5, 8, 8, 1, 6, 2, 9, 0, 9, 5, 3, 5, 0, 6, 5, 2, 8, 3, 8, 0, 2, 9, 9, 1, 5, 3, 2, 6, 5, 3, 6, 6, 0, 7, 4, 0, 2, 1, 9, 5, 1, 7, 5, 5, 5, 8, 6, 8, 4, 6, 0, 4, 6, 2, 1, 1, 4, 2, 8, 4, 9, 0, 5, 8, 1, 0, 8, 0, 2, 3, 8, 6, 0, 9, 3, 6, 9, 7, 2, 6, 2, 2, 8, 9, 6, 1, 4, 7, 7, 9, 9, 3, 4, 9, 2, 7, 3, 0, 2, 6, 9, 2, 3, 3, 1, 9, 5, 8, 2, 3, 5, 3, 0, 4, 5, 8, 3, 5, 0, 7, 7, 6, 0, 9, 5, 1, 4, 4, 5, 3, 6, 6, 1, 4, 0, 5, 4, 8, 5, 7, 3, 0, 8, 3, 5, 4, 4, 9, 8, 5, 9, 8, 1, 7, 5, 0, 1, 5, 3, 3, 3, 3, 4, 6, 3, 3, 7, 8, 0, 9, 0, 3, 0, 4, 4, 7, 3, 5, 7, 3, 7, 8, 4, 6, 6, 2, 3, 1, 0, 5, 5, 2, 6, 4, 1, 1, 4, 7, 2, 3, 5, 5, 0, 4, 4, 4, 8, 9, 9, 2, 0, 9, 8, 3, 5, 3, 1, 4, 5, 0, 1, 8, 5, 8, 6, 0, 7, 8, 9, 2, 4, 6, 3, 4, 2, 2, 5, 9, 1, 9, 7, 4, 5, 0, 3, 2, 4, 5, 6, 6, 5, 8, 0, 6, 2, 9, 4, 9, 8, 6, 0, 2, 7, 7, 5, 9, 7, 7, 3, 8, 7, 5, 9, 9, 8, 2, 1, 0, 8, 0, 2, 6, 7, 9, 2, 2, 5, 2, 3, 4, 1, 1, 9, 0, 5, 5, 4, 9, 8, 9, 6, 5, 4, 0, 0, 5, 7, 8, 4, 8, 8, 7, 4, 9, 3, 9, 6, 9, 7, 3, 9, 9, 3, 3, 0, 6, 8, 9, 9, 4, 0, 4, 6, 1, 0, 3, 8, 4, 8, 4, 4, 2, 3, 5, 7, 7, 8, 5, 6, 3, 2, 1, 8, 3, 8, 7, 4, 2, 3, 0, 8, 3, 3, 4, 9, 0, 9, 9, 0, 1, 8, 3, 6, 3, 8, 6, 8, 5, 1, 3, 0, 1, 9, 3, 5, 0, 6, 2, 6, 1, 5, 3, 2, 8, 5, 7, 8, 0, 1, 1, 0, 6, 2, 7, 9, 3, 7, 2, 3, 0, 4, 4, 3, 1, 9, 4, 9, 0, 8, 6, 5, 6, 0, 0, 1, 3, 9, 4, 2, 5, 3, 5, 3, 6, 5, 0, 0, 8, 0, 2, 9, 1, 3, 4, 2, 5, 5, 4, 0, 1, 4, 9, 7, 4, 4, 7, 5, 7, 1, 4, 8, 7, 9, 5, 7, 0, 2, 9, 4, 5, 0, 7, 6, 4, 5, 2, 5, 3, 3, 2, 5, 9, 2, 5, 7, 7, 3, 8, 3, 9, 6, 5, 3, 0, 7, 6, 9, 7, 3, 3, 6, 9, 3, 6, 2, 5, 3, 6, 9, 9, 1, 2, 2, 2, 6, 6, 8, 7, 9, 9, 4, 8, 8, 9, 0, 7, 0, 3, 4, 8, 8, 4, 2, 0, 1, 4, 3, 2, 1, 7, 4, 6, 6, 3, 3, 4, 5, 6, 8, 7, 6, 6, 3, 1, 8, 6, 8, 9, 9, 5, 5, 8, 2, 5, 3, 4, 2, 5, 2, 9, 2, 7, 1, 0, 4, 4, 6, 9, 8, 0, 2, 9, 1, 9, 4, 7, 3, 5, 4, 3, 4, 2, 1, 0, 6, 4, 3, 7, 8, 4, 5, 5, 9, 0, 6, 3, 4, 5, 5, 5, 7, 3, 1, 3, 3, 7, 0, 7, 7, 6, 8, 3, 5, 5, 8, 1, 9, 4, 0, 2, 2, 1, 4, 0, 1, 2, 5, 0, 6, 1, 1, 7, 5, 2, 5, 9, 0, 8, 3, 4, 4, 4, 7, 0, 7, 3, 4, 2, 3, 7, 1, 6, 2, 3, 3, 0, 0, 0, 4, 8, 7, 0, 3, 0, 4, 7, 3, 3, 6, 0, 2, 4, 4, 1, 8, 1, 9, 1, 2, 4, 4, 2, 5, 3, 3, 5, 3, 5, 8, 3, 9, 7, 3, 0, 3, 1, 0, 1, 0, 7, 7, 4, 8, 9, 0, 1, 5, 4, 9, 4, 7, 9, 9, 9, 3, 1, 0, 9, 9, 5, 1, 7, 2, 9, 3, 5, 6, 8, 1, 5, 3, 3, 8, 4, 7, 8, 8, 9, 8, 8, 4, 5, 8, 4, 5, 9, 0, 0, 5, 3, 7, 7, 4, 4, 7, 4, 5, 8, 3, 7, 2, 7, 3, 8, 8, 0, 7, 8, 6, 0, 5, 7, 9, 8, 5, 6, 0, 6, 2, 6, 2, 8, 9, 9, 1, 9, 5, 8, 4, 4, 8, 4, 8, 7, 4, 8, 3, 0, 7, 8, 8, 3, 9, 9, 5, 9, 2, 4, 9, 7, 5, 7, 4, 9, 9, 6, 3, 9, 5, 3, 5, 3, 1, 2, 9, 1, 4, 8, 5, 1, 7, 9, 0, 3, 3, 0, 9, 0, 4, 6, 0, 0, 2, 9, 7, 1, 9, 6, 5, 2, 8, 5, 9, 5, 2, 4, 8, 5, 2, 2, 5, 4, 2, 7, 1, 6, 6, 4, 4, 5, 6, 4, 6, 7, 5, 5, 1, 7, 2, 4, 4, 2, 4, 1, 9, 3, 7, 2, 7, 4, 2, 9, 7, 4, 4, 6, 1, 7, 1, 4, 7, 6, 1, 7, 3, 0, 3, 8, 4, 9, 0, 4, 1, 7, 9, 0, 2, 9, 2, 0, 7, 1, 9, 5, 2, 9, 8, 2, 4, 0, 3, 3, 2, 2, 8, 1, 0, 8, 1, 8, 1, 0, 1, 4, 7, 3, 7, 7, 3, 2, 9, 9, 0, 8, 2, 5, 8, 9, 6, 3, 5, 3, 1, 8, 5, 2, 4, 2, 6, 1, 8, 1, 4, 4, 0, 2, 1, 7, 0, 5, 4, 5, 3, 6, 4, 1, 2, 0, 7, 2, 6, 2, 3, 6, 3, 5, 2, 9, 0, 8, 0, 3, 6, 3, 1, 7, 5, 3, 3, 3, 2, 0, 3, 5, 2, 4, 2, 5, 1, 4, 6, 2, 1, 9, 3, 4, 6, 9, 5, 8, 0, 6, 3, 4, 0, 8, 1, 2, 3, 3, 1, 5, 5, 3, 2, 6, 7, 1, 3, 6, 3, 0, 3, 2, 2, 8, 0, 8, 4, 7, 0, 3, 6, 3, 8, 3, 4, 1, 4, 0, 3, 0, 7, 7, 8, 3, 6, 9, 5, 4, 0, 9, 9, 4, 3, 8, 5, 3, 8, 3, 7, 9, 0, 2, 5, 1, 0, 5, 6, 3, 9, 7, 9, 6, 0, 7, 1, 2, 0, 8, 6, 2, 2, 7, 8, 3, 2, 4, 6, 9, 7, 3, 2, 5, 4, 5, 1, 9, 5, 0, 5, 2, 4, 1, 7, 9, 0, 4, 3, 4, 9, 1, 0, 3, 9, 5, 2, 8, 2, 2, 1, 4, 0, 6, 7, 9, 0, 1, 1, 4, 3, 0, 9, 8, 1, 3, 7, 3, 9, 9, 5, 4, 2, 3, 8, 8, 8, 5, 5, 1, 8, 8, 7, 7, 9, 9, 3, 4, 4, 6, 7, 9, 6, 2, 7, 5, 4, 7, 6, 1, 4, 6, 2, 0, 9, 0, 0, 5, 1, 1, 7, 8, 3, 6, 6, 2, 0, 6, 4, 9, 5, 2, 2, 2, 6, 6, 1, 5, 2, 7, 8, 6, 7, 7, 0, 8, 4, 4, 4, 9, 1, 2, 1, 7, 4, 3, 4, 9, 9, 2, 2, 4, 3, 0, 5, 7, 5, 2, 7, 8, 9, 9, 2, 7, 8, 7, 7, 5, 8, 7, 4, 2, 9, 0, 1, 8, 7, 5, 4, 5, 3, 7, 0, 6, 5, 5, 6, 9, 9, 1, 9, 5, 9, 4, 4, 1, 9, 8, 3, 5, 1, 8, 6, 5, 0, 2, 3, 7, 1, 1, 1, 8, 7, 5, 6, 3, 4, 7, 0, 0, 5, 0, 4, 8, 6, 5, 2, 7, 3, 2, 3, 4, 7, 8, 0, 5, 6, 9, 5, 8, 0, 7, 3, 5, 0, 9, 7, 3, 0, 0, 5, 7, 8, 2, 3, 1, 9, 0, 2, 9, 1, 3, 4, 2, 3, 2, 6, 2, 4, 8, 4, 6, 9, 5, 0, 1, 8, 2, 4, 1, 4, 2, 9, 4, 1, 7, 9, 6, 3, 5, 4, 5, 9, 8, 5, 3, 0, 1, 2, 4, 4, 1, 9, 4, 4, 0, 5, 5, 4, 6, 2, 0, 1, 4, 9, 9, 7, 6, 1, 2, 6, 0, 2, 6, 6, 5, 9, 4, 8, 6, 6, 1, 5, 3, 4, 1, 8, 9, 3, 1, 7, 1, 1, 3, 9, 1, 3, 8, 9, 9, 1, 9, 6, 0, 7, 8, 5, 5, 5, 3, 8, 9, 0, 7, 6, 2, 9, 2, 0, 1, 5, 0, 7, 8, 0, 0, 9, 1, 1, 8, 2, 8, 9, 2, 0, 7, 2, 0, 0, 5, 1, 0, 8, 2, 3, 7, 6, 3, 9, 7, 2, 1, 3, 9, 2, 4, 0, 3, 7, 7, 1, 1, 9, 5, 3, 5, 4, 6, 4, 1, 7, 2, 1, 6, 2, 5, 7, 9, 2, 3, 4, 1, 7, 9, 0, 5, 7, 3, 3, 5, 4, 1, 8, 2, 7, 2, 6, 8, 9, 4, 8, 3, 2, 4, 1, 1, 0, 6, 1, 4, 9, 8, 5, 9, 1, 7, 0, 9, 3, 4, 1, 7, 2, 9, 8, 8, 9, 5, 5, 3, 8, 4, 0, 3, 6, 1, 1, 9, 0, 9, 7, 5, 3, 2, 5, 5, 5, 4, 6, 9, 9, 3, 0, 6, 4, 1, 7, 4, 9, 6, 8, 5, 8, 6, 0, 1, 3, 4, 4, 3, 6, 6, 0, 2, 8, 3, 2, 6, 0, 1, 8, 4, 5, 4, 2, 3, 9, 8, 6, 4, 4, 5, 2, 2, 7, 6, 7, 3, 3, 6, 9, 4, 8, 5, 6, 0, 3, 6, 7, 4, 5, 3, 1, 1, 9, 7, 5, 4, 2, 1, 6, 4, 5, 9, 2, 5, 5, 3, 3, 0, 9, 2, 3, 2, 6, 2, 4, 7, 2, 3, 0, 4, 2, 0, 2, 1, 3, 7, 2, 4, 2, 2, 3, 2, 3, 0, 8, 3, 5, 1, 2, 8, 8, 2, 1, 2, 1, 1, 9, 6, 5, 9, 6, 8, 0, 3, 6, 3, 8, 3, 7, 7, 2, 1, 1, 2, 0, 5, 8, 0, 1, 6, 5, 2, 8, 9, 7, 9, 1, 1, 3, 3, 5, 6, 7, 5, 9, 4, 9, 1, 4, 6, 2, 8, 7, 6, 5, 9, 8, 3, 8, 1, 3, 1, 3, 5, 2, 5, 4, 4, 9, 2, 7, 1, 4, 8, 3, 7, 7, 6, 7, 9, 6, 7, 7, 0, 1, 4, 1, 6, 8, 6, 4, 7, 6, 7, 1, 8, 7, 5, 1, 3, 1, 0, 3, 4, 5, 3, 8, 6, 3, 4, 9, 3, 1, 5, 3, 0, 7, 0, 6, 4, 5, 1, 2, 6, 2, 8, 3, 9, 8, 0, 7, 2, 4, 2, 5, 1, 9, 4, 3, 8, 7, 1, 8, 1, 2, 0, 9, 2, 4, 3, 4, 6, 1, 3, 5, 2, 8, 5, 5, 3, 7, 5, 5, 4, 4, 8, 0, 7, 0, 8, 0, 2, 1, 9, 7, 7, 6, 8, 0, 3, 0, 9, 8, 5, 6, 4, 8, 1, 5, 5, 7, 0, 1, 6, 1, 3, 2, 2, 4, 4, 1, 7, 6, 2, 2, 6, 1, 8, 2, 2, 6, 3, 0, 8, 8, 4, 6, 2, 0, 7, 0, 8, 9, 1, 4, 6, 7, 6, 8, 1, 8, 2, 6, 6, 7, 5, 7, 9, 9, 3, 9, 4, 4, 0, 6, 1, 4, 8, 4, 2, 5, 4, 6, 2, 9, 1, 8, 0, 6, 2, 6, 0, 4, 6, 6, 1, 3, 6, 3, 4, 1, 7, 8, 1, 0, 7, 0, 5, 6, 8, 2, 8, 5, 8, 7, 8, 4, 5, 9, 5, 5, 1, 2, 4, 7, 2, 9, 7, 8, 0, 7, 2, 6, 3, 8, 8, 4, 5, 1, 8, 6, 6, 2, 2, 9, 8, 9, 0, 2, 5, 9, 3, 5, 9, 8, 6, 6, 9, 5, 9, 3, 0, 8, 6, 0, 6, 3, 5, 8, 6, 0, 1, 8, 2, 9, 0, 0, 7, 6, 6, 8, 7, 4, 8, 8, 2, 0, 3, 3, 7, 1, 3, 7, 4, 0, 7, 1, 0, 5, 2, 0, 7, 9, 4, 3, 8, 6, 1, 1, 8, 8, 0, 5, 7, 5, 6, 7, 4, 3, 9, 3, 8, 9, 0, 4, 2, 4, 5, 7, 0, 4, 3, 9, 5, 7, 2, 2, 5, 8, 3, 1, 3, 5, 2, 9, 4, 3, 9, 7, 4, 0, 8, 0, 9, 1, 9, 9, 0, 7, 1, 2, 5, 0, 3, 8, 7, 4, 8, 5, 9, 3, 2, 0, 0, 9, 0, 5, 0, 1, 3, 7, 9, 1, 5, 9, 3, 0, 9, 7, 2, 9, 2, 1, 2, 7, 5, 1, 0, 7, 3, 4, 7, 6, 4, 6, 8, 5, 7, 9, 5, 7, 3, 2, 3, 7, 3, 3, 1, 5, 6, 9, 7, 4, 0, 0, 5, 8, 0, 7, 7, 3, 2, 0, 4, 8, 2, 0, 6, 9, 8, 9, 0, 5, 0, 4, 0, 2, 4, 3, 1, 8, 7, 4, 1, 9, 1, 2, 2, 5, 2, 3, 2, 0, 2, 6, 0, 7, 2, 1, 8, 6, 8, 7, 9, 4, 1, 6, 5, 7, 7, 3, 6, 5, 7, 6, 2, 7, 3, 2, 2, 9, 6, 5, 3, 9, 1, 2, 1, 9, 7, 2, 3, 3, 8, 1, 8, 3, 5, 0, 5, 3, 8, 5, 7, 6, 9, 0, 6, 8, 3, 2, 3, 3, 6, 3, 7, 8, 7, 1, 3, 9, 6, 9, 5, 5, 2, 2, 4, 5, 0, 8, 6, 3, 4, 0, 8, 8, 9, 2, 9, 1, 5, 1, 2, 1, 3, 2, 2, 2, 4, 5, 7, 5, 9, 2, 0, 5, 7, 0, 5, 6, 5, 3, 0, 4, 0, 7, 1, 5, 2, 9, 8, 1, 7, 0, 4, 4, 0, 7, 4, 8, 5, 7, 8, 5, 5, 1, 8, 7, 7, 7, 7, 6, 5, 2, 4, 1, 2, 4, 4, 1, 6, 6, 9, 1, 8, 2, 3, 7, 4, 9, 5, 7, 4, 3, 9, 5, 0, 4, 2, 7, 3, 9, 3, 0, 5, 9, 0, 9, 4, 6, 2, 5, 9, 1, 2, 5, 2, 0, 2, 3, 1, 1, 1, 7, 6, 2, 2, 5, 9, 8, 7, 7, 3, 4, 7, 9, 4, 0, 1, 1, 1, 4, 8, 0, 8, 0, 9, 5, 6, 7, 6, 8, 2, 4, 6, 4, 2, 2, 5, 7, 2, 9, 9, 2, 2, 2, 0, 7, 4, 5, 2, 3, 6, 1, 9, 8, 1, 8, 4, 2, 3, 9, 1, 9, 7, 2, 9, 2, 9, 3, 0, 6, 2, 3, 4, 6, 0, 9, 6, 1, 1, 0, 5, 6, 7, 0, 3, 1, 1, 7, 0, 0, 1, 9, 6, 7, 3, 7, 4, 1, 2, 0, 2, 0, 3, 0, 2, 3, 5, 9, 5, 8, 9, 3, 1, 7, 8, 9, 4, 1, 1, 9, 0, 7, 0, 0, 9, 3, 0, 2, 9, 2, 8, 5, 5, 9, 3, 3, 5, 7, 1, 2, 3, 3, 5, 6, 6, 4, 1, 1, 9, 1, 4, 3, 0, 4, 2, 6, 2, 0, 3, 5, 0, 3, 0, 5, 1, 1, 8, 4, 5, 3, 5, 1, 6, 4, 3, 2, 2, 7, 9, 6, 3, 8, 5, 6, 4, 8, 1, 5, 7, 7, 6, 2, 2, 7, 5, 6, 1, 5, 7, 7, 8, 2, 8, 3, 7, 4, 6, 2, 9, 9, 0, 2, 7, 3, 1, 0, 8, 2, 4, 4, 4, 7, 1, 8, 3, 0, 3, 2, 0, 2, 9, 8, 0, 0, 8, 3, 9, 2, 1, 5, 4, 5, 0, 8, 2, 2, 5, 9, 3, 0, 4, 7, 8, 5, 9, 5, 0, 0, 4, 9, 7, 2, 9, 1, 2, 2, 4, 0, 1, 6, 3, 9, 4, 0, 3, 4, 4, 6, 9, 2, 7, 6, 5, 4, 3, 4, 5, 9, 0, 2, 1, 1, 8, 7, 1, 2, 0, 9, 2, 3, 8, 8, 8, 9, 3, 6, 9, 6, 6, 3, 6, 2, 2, 8, 8, 5, 9, 2, 7, 1, 9, 0, 3, 3, 4, 2, 3, 9, 9, 5, 3, 0, 4, 2, 4, 6, 4, 5, 4, 4, 9, 8, 5, 8, 3, 4, 1, 4, 8, 9, 2, 6, 2, 3, 5, 4, 3, 5, 2, 5, 3, 9, 1, 2, 9, 8, 9, 6, 8, 8, 5, 5, 8, 4, 4, 0, 8, 3, 0, 4, 9, 6, 1, 0, 5, 1, 2, 0, 9, 2, 6, 3, 6, 7, 6, 6, 4, 3, 8, 5, 1, 8, 3, 4, 4, 5, 6, 0, 7, 8, 7, 4, 4, 2, 2, 9, 3, 5, 0, 9, 9, 0, 1, 3, 7, 1, 9, 6, 5, 2, 2, 9, 5, 7, 7, 3, 2, 8, 3, 1, 7, 8, 8, 6, 8, 0, 5, 5, 7, 1, 9, 6, 2, 1, 5, 1, 9, 6, 1, 2, 3, 2, 5, 3, 9, 3, 5, 4, 0, 0, 9, 7, 4, 2, 3, 8, 7, 8, 3, 0, 4, 1, 4, 9, 5, 8, 9, 5, 3, 6, 9, 5, 9, 1, 1, 6, 8, 4, 1, 4, 2, 9, 9, 8, 9, 7, 4, 4, 1, 9, 9, 1, 9, 6, 2, 3, 7, 3, 1, 6, 3, 8, 3, 4, 3, 3, 8, 3, 7, 1, 6, 3, 8, 3, 7, 9, 8, 0, 3, 0, 4, 5, 7, 0, 7, 2, 5, 0, 2, 8, 3, 3, 0, 0, 4, 6, 4, 6, 6, 9, 9, 0, 7, 4, 3, 2, 2, 1, 9, 5, 9, 9, 0, 5, 8, 6, 7, 3, 9, 5, 2, 8, 9, 5, 8, 0, 0, 3, 0, 6, 3, 7, 8, 0, 1, 2, 2, 6, 1, 1, 2, 2, 2, 5, 4, 6, 9, 3, 6, 2, 3, 7, 2, 9, 2, 1, 4, 7, 5, 5, 9, 2, 0, 9, 7, 9, 8, 4, 1, 8, 3, 3, 8, 0, 8, 7, 0, 7, 7, 9, 6, 3, 0, 3, 7, 2, 1, 5, 6, 0, 5, 8, 6, 7, 0, 1, 0, 5, 6, 2, 1, 4, 1, 8, 7, 9, 9, 7, 3, 2, 2, 4, 7, 6, 3, 9, 6, 3, 9, 5, 1, 6, 9, 2, 7, 2, 3, 5, 7, 2, 7, 2, 8, 7, 5, 4, 5, 9, 4, 3, 5, 0, 2, 5, 5, 3, 1, 9, 3, 7, 1, 0, 3, 4, 4, 2, 5, 7, 2, 1, 1, 7, 7, 9, 0, 1, 4, 8, 5, 2, 5, 3, 7, 8, 7, 7, 0, 8, 5, 6, 0, 7, 5, 6, 7, 7, 9, 7, 1, 0, 0, 8, 0, 4, 0, 6, 4, 5, 5, 0, 5, 3, 0, 2, 5, 0, 7, 1, 8, 7, 1, 3, 2, 0, 4, 7, 3, 7, 4, 8, 2, 3, 9, 4, 0, 6, 0, 8, 7, 3, 3, 0, 5, 0, 1, 5, 0, 9, 9, 1, 3, 3, 6, 1, 6, 6, 5, 5, 4, 2, 0, 9, 2, 0, 8, 2, 8, 0, 7, 7, 3, 3, 9, 5, 7, 6, 0, 9, 4, 5, 0, 7, 2, 9, 5, 5, 8, 5, 4, 9, 9, 6, 3, 6, 3, 0, 2, 7, 4, 4, 2, 5, 4, 1, 5, 7, 9, 9, 3, 9, 8, 6, 5, 1, 9, 6, 1, 0, 4, 8, 0, 7, 6, 9, 8, 8, 4, 4, 4, 1, 7, 7, 1, 6, 6, 7, 0, 3, 2, 8, 7, 8, 7, 7, 1, 1, 3, 8, 7, 5, 9, 1, 0, 6, 3, 4, 4, 4, 7, 1, 2, 0, 1, 5, 4, 8, 9, 2, 4, 2, 2, 0, 7, 9, 2, 7, 1, 4, 0, 8, 3, 3, 5, 6, 0, 8, 3, 6, 4, 0, 1, 8, 6, 0, 2, 7, 7, 6, 3, 5, 4, 1, 0, 4, 6, 5, 9, 0, 7, 3, 6, 6, 7, 2, 2, 3, 6, 4, 2, 0, 3, 4, 5, 1, 7, 5, 2, 5, 7, 9, 9, 9, 9, 2, 0, 9, 2, 0, 5, 5, 5, 0, 5, 6, 0, 6, 0, 6, 9, 9, 2, 3, 5, 4, 0, 1, 0, 8, 9, 5, 7, 3, 0, 4, 4, 1, 2, 8, 1, 8, 2, 2, 6, 5, 8, 5, 1, 2, 4, 0, 9, 0, 8, 8, 0, 7, 0, 6, 9, 8, 9, 9, 6, 9, 6, 3, 3, 4, 5, 0, 8, 0, 4, 0, 3, 0, 0, 0, 3, 3, 5, 9, 4, 7, 1, 5, 4, 1, 6, 1, 7, 9, 2, 0, 4, 5, 2, 9, 4, 9, 8, 8, 7, 6, 4, 3, 9, 3, 6, 7, 6, 4, 7, 0, 6, 1, 0, 5, 7, 0, 5, 9, 6, 3, 2, 8, 5, 8, 1, 9, 6, 7, 8, 7, 3, 6, 6, 5, 8, 8, 8, 8, 7, 4, 6, 5, 1, 5, 9, 6, 0, 9, 5, 8, 5, 7, 3, 9, 8, 3, 4, 6, 5, 7, 5, 1, 1, 5, 4, 1, 8, 5, 8, 2, 9, 6, 3, 3, 4, 0, 2, 4, 1, 1, 4, 7, 2, 5, 0, 2, 8, 8, 8, 2, 7, 9, 2, 2, 0, 6, 1, 6, 0, 2, 5, 8, 2, 4, 6, 4, 1, 5, 7, 4, 4, 0, 5, 4, 7, 0, 3, 4, 5, 5, 7, 5, 7, 0, 1, 1, 9, 7, 5, 0, 1, 9, 6, 3, 6, 5, 4, 3, 4, 5, 7, 2, 2, 2, 0, 5, 6, 4, 3, 7, 8, 6, 2, 6, 1, 1, 7, 5, 2, 5, 3, 4, 8, 5, 8, 8, 6, 1, 2, 3, 7, 6, 9, 3, 4, 7, 6, 3, 4, 9, 5, 5, 9, 4, 0, 4, 1, 1, 8, 9, 4, 2, 2, 3, 3, 0, 7, 1, 8, 8, 5, 0, 2, 7, 7, 1, 0, 1, 4, 1, 9, 0, 4, 1, 1, 0, 7, 3, 7, 6, 9, 0, 1, 8, 9, 6, 6, 6, 0, 9, 1, 6, 1, 2, 7, 8, 0, 5, 6, 8, 2, 5, 5, 1, 5, 9, 1, 8, 5, 6, 1, 6, 4, 4, 7, 3, 5, 4, 8, 3, 7, 1, 2, 3, 9, 8, 3, 8, 7, 7, 9, 7, 0, 9, 4, 6, 9, 6, 1, 9, 8, 6, 3, 7, 4, 9, 5, 4, 7, 1, 2, 1, 6, 3, 9, 2, 0, 5, 0, 0, 5, 0, 4, 0, 9, 9, 1, 6, 7, 7, 7, 4, 5, 1, 2, 0, 6, 3, 8, 9, 8, 2, 1, 0, 8, 3, 9, 8, 8, 7, 8, 3, 8, 0, 7, 0, 8, 6, 9, 9, 4, 5, 7, 6, 2, 1, 5, 4, 4, 3, 5, 5, 0, 8, 4, 7, 8, 9, 4, 2, 1, 7, 4, 4, 4, 9, 4, 3, 4, 0, 7, 7, 8, 0, 9, 1, 2, 6, 2, 9, 7, 1, 9, 7, 3, 3, 1, 2, 3, 5, 3, 3, 7, 4, 1, 4, 6, 6, 7, 5, 4, 6, 7, 9, 8, 1, 8, 1, 2, 2, 7, 5, 0, 1, 4, 6, 6, 1, 2, 0, 7, 6, 8, 8, 2, 8, 4, 5, 0, 0, 1, 7, 9, 7, 3, 9, 4, 0, 2, 8, 7, 1, 0, 8, 7, 8, 8, 4, 8, 2, 8, 0, 1, 5, 3, 8, 1, 7, 2, 9, 3, 7, 9, 5, 1, 8, 3, 6, 9, 6, 6, 2, 4, 2, 7, 6, 6, 9, 8, 8, 1, 5, 7, 7, 1, 7, 5, 4, 1, 0, 7, 8, 7, 3, 7, 3, 2, 5, 5, 4, 6, 5, 2, 6, 3, 2, 0, 4, 7, 8, 6, 4, 3, 1, 5, 3, 8, 3, 7, 7, 1, 7, 1, 1, 4, 8, 5, 0, 0, 6, 4, 1, 1, 2, 9, 0, 4, 6, 1, 3, 2, 7, 0, 1, 8, 5, 7, 3, 0, 5, 0, 4, 6, 4, 2, 5, 6, 1, 8, 2, 1, 7, 3, 8, 8, 9, 5, 0, 1, 8, 1, 4, 9, 0, 3, 1, 1, 2, 7, 8, 3, 4, 9, 0, 2, 8, 3, 8, 2, 9, 4, 7, 7, 0, 4, 2, 2, 5, 7, 3, 7, 4, 6, 6, 9, 3, 2, 5, 4, 1, 2, 1, 8, 1, 9, 2, 8, 9, 9, 3, 3, 7, 0, 0, 6, 1, 0, 6, 2, 4, 2, 2, 9, 0, 6, 3, 4, 0, 0, 1, 6, 6, 6, 5, 7, 9, 6, 4, 3, 7, 5, 1, 2, 7, 7, 5, 8, 0, 9, 1, 0, 1, 4, 9, 1, 2, 5, 3, 3, 0, 7, 1, 2, 7, 9, 4, 7, 6, 2, 4, 6, 7, 2, 7, 6, 1, 7, 8, 8, 7, 0, 1, 4, 0, 9, 7, 9, 9, 1, 2, 0, 4, 7, 2, 1, 4, 1, 7, 5, 7, 6, 9, 6, 0, 3, 1, 4, 7, 9, 3, 6, 7, 8, 4, 7, 4, 0, 8, 3, 0, 1, 7, 9, 6, 9, 1, 6, 6, 7, 1, 0, 6, 3, 7, 3, 1, 8, 2, 5, 9, 5, 8, 1, 0, 9, 6, 0, 2, 1, 1, 4, 7, 0, 0, 7, 9, 6, 9, 5, 2, 0, 4, 7, 2, 0, 8, 3, 8, 1, 1, 2, 4, 8, 1, 0, 8, 1, 8, 5, 3, 2, 7, 0, 2, 6, 9, 6, 2, 4, 9, 9, 0, 9, 9, 6, 7, 3, 4, 3, 3, 9, 6, 7, 7, 8, 1, 1, 3, 4, 5, 7, 9, 4, 7, 6, 7, 0, 4, 2, 9, 7, 9, 7, 5, 0, 1, 4, 3, 4, 6, 4, 0, 9, 8, 7, 8, 4, 4, 8, 9, 7, 1, 6, 7, 9, 9, 0, 1, 5, 1, 1, 3, 4, 7, 9, 8, 3, 3, 8, 5, 2, 4, 3, 6, 8, 0, 9, 0, 6, 9, 3, 1, 6, 8, 1, 8, 2, 1, 8, 1, 7, 1, 9, 1, 8, 3, 9, 4, 1, 0, 8, 4, 2, 6, 8, 2, 6, 5, 5, 0, 6, 4, 9, 8, 0, 1, 0, 0, 2, 8, 3, 4, 7, 7, 5, 9, 2, 5, 4, 6, 9, 9, 4, 8, 9, 6, 9, 3, 4, 0, 4, 8, 3, 1, 9, 2, 1, 6, 5, 3, 8, 5, 0, 2, 6, 4, 1, 1, 9, 8, 8, 9, 0, 2, 6, 0, 5, 6, 5, 6, 8, 3, 2, 2, 8, 6, 1, 5, 0, 3, 3, 1, 9, 2, 8, 7, 8, 2, 3, 6, 2, 5, 0, 9, 6, 7, 1, 1, 7, 9, 0, 1, 6, 7, 7, 4, 6, 3, 3, 2, 1, 0, 3, 9, 9, 8, 2, 9, 0, 2, 5, 4, 7, 2, 0, 5, 6, 0, 9, 3, 7, 0, 6, 3, 5, 0, 4, 3, 6, 6, 9, 8, 8, 3, 2, 0, 3, 3, 9, 2, 2, 8, 1, 9, 4, 2, 9, 8, 0, 2, 0, 6, 7, 0, 5, 0, 4, 3, 1, 3, 0, 9, 5, 4, 3, 7, 0, 6, 2, 9, 6, 7, 0, 5, 6, 8, 2, 1, 3, 0, 6, 7, 9, 3, 5, 0, 2, 0, 7, 4, 0, 8, 3, 6, 8, 8, 3, 8, 9, 4, 0, 8, 8, 3, 8, 2, 5, 7, 0, 3, 6, 8, 1, 5, 9, 2, 2, 8, 9, 2, 1, 0, 5, 5, 4, 2, 8, 6, 0, 6, 7, 2, 5, 3, 7, 4, 5, 8, 8, 3, 9, 5, 0, 6, 2, 4, 3, 6, 6, 9, 2, 5, 6, 5, 6, 3, 1, 7, 8, 0, 4, 7, 3, 3, 8, 0, 0, 9, 2, 8, 5, 4, 9, 2, 3, 4, 2, 0, 1, 1, 9, 2, 8, 2, 1, 9, 5, 8, 4, 8, 2, 3, 5, 6, 4, 4, 9, 6, 6, 2, 9, 8, 0, 5, 9, 4, 4, 5, 2, 1, 0, 5, 2, 4, 2, 7, 4, 2, 6, 0, 1, 5, 4, 0, 1, 9, 7, 5, 6, 5, 2, 9, 2, 6, 6, 5, 4, 8, 9, 0, 9, 5, 5, 5, 7, 9, 3, 3, 8, 4, 3, 9, 3, 1, 0, 2, 5, 2, 8, 7, 9, 7, 7, 7, 9, 2, 6, 0, 6, 7, 2, 1, 8, 6, 3, 8, 5, 0, 5, 6, 9, 1, 1, 2, 6, 8, 9, 7, 7, 5, 8, 6, 1, 2, 0, 1, 8, 2, 3, 4, 7, 9, 3, 7, 5, 5, 0, 9, 1, 2, 1, 2, 7, 6, 0, 9, 3, 4, 4, 1, 7, 8, 1, 2, 5, 9, 0, 0, 9, 7, 3, 8, 8, 2, 8, 5, 7, 0, 7, 0, 9, 6, 9, 2, 9, 6, 8, 5, 6, 0, 1, 6, 2, 6, 7, 4, 1, 7, 7, 8, 5, 7, 0, 6, 4, 2, 1, 4, 8, 0, 3, 2, 7, 5, 9, 1, 6, 4, 3, 7, 6, 6, 3, 1, 8, 4, 7, 2, 5, 9, 3, 1, 8, 1, 9, 2, 9, 6, 2, 2, 1, 8, 3, 9, 8, 2, 0, 4, 8, 4, 5, 1, 2, 6, 4, 4, 6, 8, 5, 9, 7, 7, 0, 5, 5, 7, 9, 9, 8, 2, 8, 2, 1, 3, 2, 4, 8, 9, 4, 0, 7, 0, 2, 8, 1, 2, 6, 1, 6, 5, 2, 9, 7, 2, 8, 7, 3, 7, 6, 1, 2, 1, 5, 4, 8, 8, 5, 0, 2, 4, 0, 1, 2, 6, 5, 0, 1, 5, 5, 2, 5, 1, 9, 8, 7, 1, 2, 7, 0, 9, 3, 6, 9, 0, 4, 6, 6, 5, 9, 9, 6, 2, 9, 1, 8, 1, 4, 2, 3, 7, 8, 4, 0, 4, 5, 6, 4, 9, 3, 5, 8, 0, 1, 9, 4, 7, 3, 7, 4, 4, 0, 0, 2, 1, 6, 3, 0, 7, 0, 5, 9, 8, 9, 6, 7, 9, 9, 4, 8, 8, 0, 1, 6, 4, 0, 2, 8, 1, 2, 1, 3, 3, 8, 7, 8, 7, 0, 4, 3, 4, 4, 5, 7, 9, 2, 5, 2, 4, 5, 0, 1, 7, 3, 7, 6, 0, 0, 0, 5, 1, 1, 2, 3, 6, 9, 8, 1, 0, 1, 4, 8, 5, 4, 0, 4, 0, 2, 9, 3, 8, 5, 4, 8, 6, 4, 8, 4, 4, 4, 0, 8, 7, 5, 2, 8, 9, 2, 9, 5, 9, 6, 1, 0, 4, 1, 7, 7, 1, 7, 3, 5, 8, 7, 2, 5, 1, 5, 2, 0, 6, 0, 1, 2, 4, 4, 8, 0, 3, 2, 0, 3, 5, 6, 3, 3, 0, 5, 1, 8, 3, 1, 8, 7, 8, 4, 2, 0, 0, 7, 8, 1, 3, 9, 0, 2, 8, 1, 4, 8, 8, 3, 0, 8, 7, 7, 5, 4, 7, 7, 6, 1, 8, 1, 7, 7, 0, 3, 1, 6, 5, 5, 3, 8, 9, 4, 0, 9, 5, 1, 7, 2, 1, 5, 2, 8, 3, 2, 3, 7, 3, 3, 4, 4, 5, 7, 3, 6, 7, 3, 3, 7, 8, 8, 2, 5, 6, 9, 7, 3, 2, 9, 3, 6, 5, 5, 6, 9, 1, 4, 1, 5, 6, 4, 1, 4, 6, 3, 3, 6, 3, 0, 8, 4, 7, 5, 5, 7, 0, 7, 9, 4, 4, 2, 9, 6, 7, 1, 4, 8, 8, 9, 8, 3, 8, 9, 3, 0, 0, 2, 1, 8, 4, 4, 0, 0, 9, 7, 3, 1, 5, 1, 3, 5, 0, 8, 2, 1, 5, 3, 0, 8, 2, 9, 0, 9, 0, 0, 4, 1, 4, 4, 4, 9, 1, 4, 9, 7, 8, 2, 6, 0, 9, 7, 8, 5, 0, 9, 6, 0, 6, 8, 1, 3, 0, 7, 5, 8, 6, 5, 6, 8, 9, 1, 9, 3, 8, 1, 7]\n"
          ]
        },
        {
          "output_type": "stream",
          "name": "stderr",
          "text": [
            "\n"
          ]
        }
      ],
      "source": [
        "test_labels = []\n",
        "predict_labels = []\n",
        "\n",
        "for inputs, labels in tqdm(data_loaders['val']):\n",
        "  test_labels.extend(list(labels.detach().cpu().numpy()))\n",
        "\n",
        "  inputs = inputs.to(device)\n",
        "  labels = labels.to(device)\n",
        "\n",
        "  predicted = model(inputs)\n",
        "  _, preds = torch.max(predicted, 1)\n",
        "  predict_labels.extend(list(preds.detach().cpu().numpy()))\n",
        "\n",
        "print(test_labels)\n",
        "print(predict_labels)"
      ]
    },
    {
      "cell_type": "code",
      "execution_count": 56,
      "metadata": {
        "colab": {
          "base_uri": "https://localhost:8080/"
        },
        "id": "7pmERmbQJIez",
        "outputId": "eadab598-d94a-420c-c090-526ce4454d80"
      },
      "outputs": [
        {
          "output_type": "stream",
          "name": "stdout",
          "text": [
            "\n",
            "**** Classification Report ****\n",
            "              precision    recall  f1-score   support\n",
            "\n",
            " T-shirt/top       0.81      0.83      0.82      1000\n",
            "     Trouser       0.98      0.95      0.96      1000\n",
            "    Pullover       0.76      0.81      0.78      1000\n",
            "       Dress       0.84      0.86      0.85      1000\n",
            "        Coat       0.75      0.77      0.76      1000\n",
            "      Sandal       0.96      0.93      0.95      1000\n",
            "       Shirt       0.65      0.57      0.61      1000\n",
            "     Sneaker       0.92      0.94      0.93      1000\n",
            "         Bag       0.95      0.96      0.95      1000\n",
            "  Ankle boot       0.95      0.95      0.95      1000\n",
            "\n",
            "    accuracy                           0.86     10000\n",
            "   macro avg       0.86      0.86      0.86     10000\n",
            "weighted avg       0.86      0.86      0.86     10000\n",
            "\n"
          ]
        }
      ],
      "source": [
        "show_statistics(test_labels, predict_labels, list(train_set.classes))"
      ]
    },
    {
      "cell_type": "code",
      "execution_count": 58,
      "metadata": {
        "colab": {
          "base_uri": "https://localhost:8080/"
        },
        "id": "wUqqQqwPJMj2",
        "outputId": "23ee8beb-29bf-4f6b-ab4b-f8e826a86234"
      },
      "outputs": [
        {
          "output_type": "stream",
          "name": "stderr",
          "text": [
            "/usr/local/lib/python3.7/dist-packages/torch/utils/data/dataloader.py:490: UserWarning: This DataLoader will create 4 worker processes in total. Our suggested max number of worker in current system is 2, which is smaller than what this DataLoader is going to create. Please be aware that excessive worker creation might get DataLoader running slow or even freeze, lower the worker number to avoid potential slowness/freeze if necessary.\n",
            "  cpuset_checked))\n"
          ]
        },
        {
          "output_type": "stream",
          "name": "stdout",
          "text": [
            "<class 'torch.Tensor'> <class 'torch.Tensor'>\n",
            "torch.Size([32, 3, 224, 224]) torch.Size([32])\n"
          ]
        }
      ],
      "source": [
        "batch = next(iter(val_loader))\n",
        "images, labels = batch\n",
        "print(type(images), type(labels))\n",
        "print(images.shape, labels.shape)"
      ]
    },
    {
      "cell_type": "code",
      "execution_count": 59,
      "metadata": {
        "colab": {
          "base_uri": "https://localhost:8080/",
          "height": 191
        },
        "id": "ujFndtcIJNDL",
        "outputId": "392a02c9-4278-489a-d351-30cbf38f135a"
      },
      "outputs": [
        {
          "output_type": "stream",
          "name": "stderr",
          "text": [
            "Clipping input data to the valid range for imshow with RGB data ([0..1] for floats or [0..255] for integers).\n"
          ]
        },
        {
          "output_type": "stream",
          "name": "stdout",
          "text": [
            "Labels:  Ankle boot, Pullover, Trouser, Trouser, Shirt, Trouser, Coat, Shirt, Sandal, Sneaker, \n",
            "Predicted:  Ankle boot, Pullover, Trouser, Trouser, Shirt, Trouser, Pullover, Shirt, Sandal, Sneaker, "
          ]
        },
        {
          "output_type": "display_data",
          "data": {
            "text/plain": [
              "<Figure size 1080x1440 with 1 Axes>"
            ],
            "image/png": "[encoded data removed]"
          },
          "metadata": {}
        }
      ],
      "source": [
        "grid = torchvision.utils.make_grid(images[:10], nrow=10)\n",
        "\n",
        "plt.figure(figsize=(15, 20))\n",
        "plt.imshow(np.transpose(grid, (1, 2, 0)))\n",
        "print(\"Labels: \", end=\" \")\n",
        "for i, label in enumerate(labels[:15]):\n",
        "  print(val_set.classes[label], end=\", \")\n",
        "\n",
        "print(\"\\nPredicted: \", end=\" \")\n",
        "for i, label in enumerate(predict_labels[:15]):\n",
        "  print(val_set.classes[label], end=\", \")"
      ]
    },
    {
      "cell_type": "code",
      "execution_count": 60,
      "metadata": {
        "colab": {
          "base_uri": "https://localhost:8080/"
        },
        "id": "Py9BPl7PJTgu",
        "outputId": "99fd2d32-5b7e-4627-97ac-eeb0658ac3e4"
      },
      "outputs": [
        {
          "output_type": "stream",
          "name": "stderr",
          "text": [
            "/usr/local/lib/python3.7/dist-packages/torchvision/datasets/mnist.py:75: UserWarning: train_data has been renamed data\n",
            "  warnings.warn(\"train_data has been renamed data\")\n",
            "/usr/local/lib/python3.7/dist-packages/torchvision/datasets/mnist.py:65: UserWarning: train_labels has been renamed targets\n",
            "  warnings.warn(\"train_labels has been renamed targets\")\n",
            "/usr/local/lib/python3.7/dist-packages/torch/utils/data/dataloader.py:490: UserWarning: This DataLoader will create 4 worker processes in total. Our suggested max number of worker in current system is 2, which is smaller than what this DataLoader is going to create. Please be aware that excessive worker creation might get DataLoader running slow or even freeze, lower the worker number to avoid potential slowness/freeze if necessary.\n",
            "  cpuset_checked))\n",
            "/usr/local/lib/python3.7/dist-packages/torchvision/datasets/mnist.py:80: UserWarning: test_data has been renamed data\n",
            "  warnings.warn(\"test_data has been renamed data\")\n",
            "/usr/local/lib/python3.7/dist-packages/torchvision/datasets/mnist.py:70: UserWarning: test_labels has been renamed targets\n",
            "  warnings.warn(\"test_labels has been renamed targets\")\n"
          ]
        }
      ],
      "source": [
        "class SiameseFashionMNIST(torchvision.datasets.FashionMNIST):\n",
        "  def __init__(self, *args, **kwargs):\n",
        "    super(SiameseFashionMNIST, self).__init__(*args, **kwargs)\n",
        "    if kwargs[\"train\"] is True:\n",
        "      self.data, self.labels = self.train_data, self.train_labels\n",
        "    else:\n",
        "      self.data, self.labels = self.test_data, self.test_labels\n",
        "\n",
        "  def __getitem__(self, idx):\n",
        "    x1, t1 = self.data[idx], self.labels[idx]\n",
        "\n",
        "    is_diff = random.randint(0, 1)\n",
        "    while True:\n",
        "      idx2 = random.randint(0, len(self)-1)\n",
        "      x2, t2 = self.data[idx2], self.labels[idx2]\n",
        "      if is_diff and t1 != t2:\n",
        "        break\n",
        "      if not is_diff and t1 == t2:\n",
        "        break\n",
        "\n",
        "    x1, x2 = Image.fromarray(x1.numpy()), Image.fromarray(x2.numpy())\n",
        "    if self.transform is not None:\n",
        "      x1, x2 = self.transform(x1), self.transform(x2)\n",
        "    return x1, x2, int(is_diff), t1\n",
        "\n",
        "\n",
        "siamese_data_transforms = transforms.Compose([transforms.ToTensor()])\n",
        "\n",
        "siamese_train_loader = torch.utils.data.DataLoader(\n",
        "    SiameseFashionMNIST(\"./data\",\n",
        "                        download=True,\n",
        "                        train=True,\n",
        "                        transform=siamese_data_transforms),\n",
        "                        batch_size=batch_size,\n",
        "                        shuffle=True,\n",
        "                        num_workers=4)\n",
        "\n",
        "siamese_test_loader = torch.utils.data.DataLoader(\n",
        "    SiameseFashionMNIST(\"./data\",\n",
        "                        download=True,\n",
        "                        train=False,\n",
        "                        transform=siamese_data_transforms),\n",
        "                        batch_size=batch_size,\n",
        "                        shuffle=False,\n",
        "                        num_workers=4)"
      ]
    },
    {
      "cell_type": "code",
      "execution_count": 61,
      "metadata": {
        "id": "DlpUF7NtJVMm"
      },
      "outputs": [],
      "source": [
        "class Siamese(nn.Module):\n",
        "  def __init__(self):\n",
        "    super(Siamese, self).__init__()\n",
        "    self.c1 = nn.Conv2d(1, 32, kernel_size=3, padding=1)\n",
        "    self.bn1 = nn.BatchNorm2d(32)\n",
        "    self.c2 = nn.Conv2d(32, 64, kernel_size=3, padding=1)\n",
        "    self.bn2 = nn.BatchNorm2d(64)\n",
        "    self.c3 = nn.Conv2d(64, 128, kernel_size=3, padding=0)\n",
        "    self.bn3 = nn.BatchNorm2d(128)\n",
        "\n",
        "    self.fc4 = nn.Linear(128, 64)\n",
        "    self.bn4 = nn.BatchNorm1d(64)\n",
        "    self.fc5 = nn.Linear(64, 2)\n",
        "\n",
        "  def forward(self, x):\n",
        "    h = F.max_pool2d(self.bn1(self.c1(x)), 2)\n",
        "    h = F.max_pool2d(self.bn2(self.c2(h)), 2)\n",
        "    h = F.avg_pool2d(self.bn3(self.c3(h)), 5)\n",
        "\n",
        "    h = self.bn4(self.fc4(h.view(h.size(0), -1)))\n",
        "    return self.fc5(h)\n",
        "\n",
        "\n",
        "def contractive_loss(o1, o2, y):\n",
        "  g, margin = F.pairwise_distance(o1, o2), 5.0\n",
        "  loss = (1 - y) * (g ** 2) + y * (torch.clamp(margin - g, min=0) ** 2)\n",
        "  return torch.mean(loss)"
      ]
    },
    {
      "cell_type": "code",
      "execution_count": 62,
      "metadata": {
        "id": "BSfkAP2OJXRF",
        "colab": {
          "base_uri": "https://localhost:8080/"
        },
        "outputId": "be90205a-2f41-4651-d044-d10bd2931b0e"
      },
      "outputs": [
        {
          "output_type": "stream",
          "name": "stderr",
          "text": [
            "/usr/local/lib/python3.7/dist-packages/torch/optim/lr_scheduler.py:136: UserWarning: Detected call of `lr_scheduler.step()` before `optimizer.step()`. In PyTorch 1.1.0 and later, you should call them in the opposite order: `optimizer.step()` before `lr_scheduler.step()`.  Failure to do this will result in PyTorch skipping the first value of the learning rate schedule. See more details at https://pytorch.org/docs/stable/optim.html#how-to-adjust-learning-rate\n",
            "  \"https://pytorch.org/docs/stable/optim.html#how-to-adjust-learning-rate\", UserWarning)\n",
            "  0%|          | 0/1875 [00:00<?, ?it/s]/usr/local/lib/python3.7/dist-packages/torch/utils/data/dataloader.py:490: UserWarning: This DataLoader will create 4 worker processes in total. Our suggested max number of worker in current system is 2, which is smaller than what this DataLoader is going to create. Please be aware that excessive worker creation might get DataLoader running slow or even freeze, lower the worker number to avoid potential slowness/freeze if necessary.\n",
            "  cpuset_checked))\n"
          ]
        },
        {
          "output_type": "stream",
          "name": "stdout",
          "text": [
            "Epoch\tTrainLoss\tTestLoss\n",
            "0\t0.003863\t0.010414\n"
          ]
        },
        {
          "output_type": "stream",
          "name": "stderr",
          "text": [
            ""
          ]
        },
        {
          "output_type": "stream",
          "name": "stdout",
          "text": [
            "Epoch\tTrainLoss\tTestLoss\n",
            "1\t0.003952\t0.010806\n"
          ]
        },
        {
          "output_type": "stream",
          "name": "stderr",
          "text": [
            ""
          ]
        },
        {
          "output_type": "stream",
          "name": "stdout",
          "text": [
            "Epoch\tTrainLoss\tTestLoss\n",
            "2\t0.004206\t0.012213\n"
          ]
        },
        {
          "output_type": "stream",
          "name": "stderr",
          "text": [
            ""
          ]
        },
        {
          "output_type": "stream",
          "name": "stdout",
          "text": [
            "Epoch\tTrainLoss\tTestLoss\n",
            "3\t0.004234\t0.012017\n"
          ]
        },
        {
          "output_type": "stream",
          "name": "stderr",
          "text": [
            ""
          ]
        },
        {
          "output_type": "stream",
          "name": "stdout",
          "text": [
            "Epoch\tTrainLoss\tTestLoss\n",
            "4\t0.003755\t0.011225\n"
          ]
        },
        {
          "output_type": "stream",
          "name": "stderr",
          "text": [
            ""
          ]
        },
        {
          "output_type": "stream",
          "name": "stdout",
          "text": [
            "Epoch\tTrainLoss\tTestLoss\n",
            "5\t0.003900\t0.011550\n"
          ]
        },
        {
          "output_type": "stream",
          "name": "stderr",
          "text": [
            ""
          ]
        },
        {
          "output_type": "stream",
          "name": "stdout",
          "text": [
            "Epoch\tTrainLoss\tTestLoss\n",
            "6\t0.003895\t0.011016\n"
          ]
        },
        {
          "output_type": "stream",
          "name": "stderr",
          "text": [
            ""
          ]
        },
        {
          "output_type": "stream",
          "name": "stdout",
          "text": [
            "Epoch\tTrainLoss\tTestLoss\n",
            "7\t0.003940\t0.013421\n"
          ]
        },
        {
          "output_type": "stream",
          "name": "stderr",
          "text": [
            ""
          ]
        },
        {
          "output_type": "stream",
          "name": "stdout",
          "text": [
            "Epoch\tTrainLoss\tTestLoss\n",
            "8\t0.004359\t0.010137\n"
          ]
        },
        {
          "output_type": "stream",
          "name": "stderr",
          "text": [
            ""
          ]
        },
        {
          "output_type": "stream",
          "name": "stdout",
          "text": [
            "Epoch\tTrainLoss\tTestLoss\n",
            "9\t0.003920\t0.010408\n"
          ]
        },
        {
          "output_type": "stream",
          "name": "stderr",
          "text": [
            ""
          ]
        },
        {
          "output_type": "stream",
          "name": "stdout",
          "text": [
            "Epoch\tTrainLoss\tTestLoss\n",
            "10\t0.003983\t0.013095\n"
          ]
        },
        {
          "output_type": "stream",
          "name": "stderr",
          "text": [
            ""
          ]
        },
        {
          "output_type": "stream",
          "name": "stdout",
          "text": [
            "Epoch\tTrainLoss\tTestLoss\n",
            "11\t0.003849\t0.013361\n"
          ]
        },
        {
          "output_type": "stream",
          "name": "stderr",
          "text": [
            ""
          ]
        },
        {
          "output_type": "stream",
          "name": "stdout",
          "text": [
            "Epoch\tTrainLoss\tTestLoss\n",
            "12\t0.003796\t0.013498\n"
          ]
        },
        {
          "output_type": "stream",
          "name": "stderr",
          "text": [
            ""
          ]
        },
        {
          "output_type": "stream",
          "name": "stdout",
          "text": [
            "Epoch\tTrainLoss\tTestLoss\n",
            "13\t0.003896\t0.010182\n"
          ]
        },
        {
          "output_type": "stream",
          "name": "stderr",
          "text": [
            ""
          ]
        },
        {
          "output_type": "stream",
          "name": "stdout",
          "text": [
            "Epoch\tTrainLoss\tTestLoss\n",
            "14\t0.004099\t0.009484\n"
          ]
        },
        {
          "output_type": "stream",
          "name": "stderr",
          "text": [
            ""
          ]
        },
        {
          "output_type": "stream",
          "name": "stdout",
          "text": [
            "Epoch\tTrainLoss\tTestLoss\n",
            "15\t0.003920\t0.010779\n"
          ]
        },
        {
          "output_type": "stream",
          "name": "stderr",
          "text": [
            ""
          ]
        },
        {
          "output_type": "stream",
          "name": "stdout",
          "text": [
            "Epoch\tTrainLoss\tTestLoss\n",
            "16\t0.004230\t0.010776\n"
          ]
        },
        {
          "output_type": "stream",
          "name": "stderr",
          "text": [
            ""
          ]
        },
        {
          "output_type": "stream",
          "name": "stdout",
          "text": [
            "Epoch\tTrainLoss\tTestLoss\n",
            "17\t0.004158\t0.012986\n"
          ]
        },
        {
          "output_type": "stream",
          "name": "stderr",
          "text": [
            ""
          ]
        },
        {
          "output_type": "stream",
          "name": "stdout",
          "text": [
            "Epoch\tTrainLoss\tTestLoss\n",
            "18\t0.003989\t0.011568\n"
          ]
        },
        {
          "output_type": "stream",
          "name": "stderr",
          "text": [
            "                                                 "
          ]
        },
        {
          "output_type": "stream",
          "name": "stdout",
          "text": [
            "Epoch\tTrainLoss\tTestLoss\n",
            "19\t0.003972\t0.011564\n"
          ]
        },
        {
          "output_type": "stream",
          "name": "stderr",
          "text": [
            "\r"
          ]
        },
        {
          "output_type": "execute_result",
          "data": {
            "text/plain": [
              "<All keys matched successfully>"
            ]
          },
          "metadata": {},
          "execution_count": 62
        }
      ],
      "source": [
        "siamese_model = Siamese().cuda()\n",
        "\n",
        "opt = optim.SGD(siamese_model.parameters(), lr=0.01, momentum=0.9)\n",
        "\n",
        "scheduler = optim.lr_scheduler.MultiStepLR(opt, [5, 10], 0.1)\n",
        "cudnn.benckmark = True\n",
        "\n",
        "best_siamese_model_over_epochs = copy.deepcopy(siamese_model.state_dict())\n",
        "best_loss = np.Inf\n",
        "\n",
        "for e in range(20):\n",
        "  scheduler.step()\n",
        "  model.train()\n",
        "  train_loss, train_n = 0, 0\n",
        "  for x1, x2, y, label in tqdm(siamese_train_loader, total=len(siamese_train_loader), leave=False):\n",
        "  # for x1, x2, y in siamese_train_loader:\n",
        "    x1, x2 = Variable(x1.cuda()), Variable(x2.cuda())\n",
        "    y = Variable(y.float().cuda()).view(y.size(0), 1)\n",
        "\n",
        "    o1, o2 = siamese_model(x1), siamese_model(x2)\n",
        "    loss = contractive_loss(o1, o2, y)\n",
        "    opt.zero_grad()\n",
        "    loss.backward()\n",
        "    opt.step()\n",
        "    train_loss = loss.detach().cpu().numpy() * y.size(0)\n",
        "    train_n += y.size(0)\n",
        "\n",
        "  siamese_model.eval()\n",
        "  test_loss, test_n = 0, 0\n",
        "  for x1, x2, y, label in tqdm(siamese_test_loader, total=len(siamese_test_loader), leave=False):\n",
        "    x1, x2 = Variable(x1.cuda()), Variable(x2.cuda())\n",
        "    y = Variable(y.float().cuda()).view(y.size(0), 1)\n",
        "\n",
        "    o1, o2 = siamese_model(x1), siamese_model(x2)\n",
        "    loss = contractive_loss(o1, o2, y)\n",
        "    test_loss = loss.detach().cpu().numpy() * y.size(0)\n",
        "    test_n += y.size(0)\n",
        "  \n",
        "  if best_loss > test_loss:\n",
        "    best_loss = test_loss\n",
        "    best_siamese_model_over_epochs = copy.deepcopy(siamese_model.state_dict())\n",
        "    \n",
        "  print(\"\\t\".join([\"Epoch\", \"TrainLoss\", \"TestLoss\"]))\n",
        "  print(\"{}\\t{:.6f}\\t{:.6f}\".format(e, train_loss / train_n, test_loss / test_n))\n",
        "\n",
        "# Load best model weights\n",
        "siamese_model.load_state_dict(best_siamese_model_over_epochs)"
      ]
    },
    {
      "cell_type": "code",
      "execution_count": 63,
      "metadata": {
        "id": "VLTuZkKPJaBP",
        "colab": {
          "base_uri": "https://localhost:8080/"
        },
        "outputId": "0f69cfbe-ae16-4ca1-f9e8-260bdeadb91d"
      },
      "outputs": [
        {
          "output_type": "stream",
          "name": "stderr",
          "text": [
            "\r  0%|          | 0/313 [00:00<?, ?it/s]/usr/local/lib/python3.7/dist-packages/torch/utils/data/dataloader.py:490: UserWarning: This DataLoader will create 4 worker processes in total. Our suggested max number of worker in current system is 2, which is smaller than what this DataLoader is going to create. Please be aware that excessive worker creation might get DataLoader running slow or even freeze, lower the worker number to avoid potential slowness/freeze if necessary.\n",
            "  cpuset_checked))\n",
            "100%|██████████| 313/313 [00:06<00:00, 51.64it/s]\n"
          ]
        }
      ],
      "source": [
        "siamese_model.eval()\n",
        "\n",
        "inputs, embs, targets, labels = [], [], [], []\n",
        "for x, x2, t, label in tqdm(siamese_test_loader, total=len(siamese_test_loader)):\n",
        "# for x, x2, t in siamese_test_loader:\n",
        "  x = Variable(x.cuda())\n",
        "  o1 = siamese_model(x)\n",
        "  inputs.extend(list(x.cpu().data.numpy()))\n",
        "  embs.extend(list(o1.cpu().data.numpy()))\n",
        "  targets.extend(list(t.numpy()))\n",
        "  labels.extend(list(label.numpy()))"
      ]
    },
    {
      "cell_type": "code",
      "execution_count": 64,
      "metadata": {
        "id": "8elFslZBJbzm",
        "colab": {
          "base_uri": "https://localhost:8080/",
          "height": 627
        },
        "outputId": "bd361124-d57a-45a5-ec5a-e1dc62938070"
      },
      "outputs": [
        {
          "output_type": "display_data",
          "data": {
            "text/plain": [
              "<Figure size 720x720 with 1 Axes>"
            ],
            "image/png": "[encoded data removed]"
          },
          "metadata": {}
        }
      ],
      "source": [
        "val_set.classes\n",
        "obj_categories = val_set.classes\n",
        "\n",
        "colors = plt.cm.rainbow(np.linspace(0, 1, len(obj_categories)))\n",
        "plt.figure(figsize=(10, 10))\n",
        "\n",
        "embs = np.array(embs)\n",
        "labels = np.array(labels)\n",
        "\n",
        "for c_group, (c_color, c_label) in enumerate(zip(colors, obj_categories)):\n",
        "  plt.scatter(embs[np.where(labels == c_group), 0].flatten()[:50],\n",
        "              embs[np.where(labels == c_group), 1].flatten()[:50],\n",
        "              marker='o',\n",
        "              color=c_color,\n",
        "              linewidth='1',\n",
        "              alpha=0.8,\n",
        "              label=c_label)\n",
        "\n",
        "plt.xlabel('Dimension 1')\n",
        "plt.ylabel('Dimension 2')\n",
        "plt.title('t-SNE on Testing Samples')\n",
        "plt.legend(loc='best')\n",
        "plt.savefig('clothes-dist.png')\n",
        "plt.show(block=False)"
      ]
    }
  ],
  "metadata": {
    "accelerator": "GPU",
    "colab": {
      "collapsed_sections": [],
      "machine_shape": "hm",
      "name": "lab3.ipynb",
      "provenance": []
    },
    "kernelspec": {
      "display_name": "Python 3",
      "name": "python3"
    },
    "language_info": {
      "name": "python"
    }
  },
  "nbformat": 4,
  "nbformat_minor": 0
}